{
 "cells": [
  {
   "cell_type": "markdown",
   "metadata": {},
   "source": [
    "# Lower Memory Compute Loss"
   ]
  },
  {
   "cell_type": "code",
   "execution_count": 1,
   "metadata": {},
   "outputs": [],
   "source": [
    "from config import basic_conf as conf\n",
    "from libs import ModelManager as mm\n",
    "from config.constants import HyperParamKey, PathKey\n",
    "import logging\n",
    "import numpy as np\n",
    "import pickle\n",
    "from importlib import reload\n",
    "\n",
    "import matplotlib.pyplot as plt\n",
    "%matplotlib inline"
   ]
  },
  {
   "cell_type": "code",
   "execution_count": 2,
   "metadata": {
    "scrolled": true
   },
   "outputs": [
    {
     "name": "stdout",
     "output_type": "stream",
     "text": [
      "[2018-11-18 12:27:30] [INFO] Initializing Model Manager, version 0.6.4 ...\n",
      "[2018-11-18 12:27:30] [INFO] \n",
      "=== Models Available ===\n",
      "RNN_GRU\n",
      "CNN\n",
      "========================\n",
      "[2018-11-18 12:27:30] [INFO] \n",
      "=== Loaders Available ===\n",
      "IWSLT\n",
      "========================\n",
      "[2018-11-18 12:27:30] [INFO] \n",
      "*********** Model Manager Details ***********\n",
      "-- self.hparams.voc_size = 100000\n",
      "-- self.hparams.use_ft_embeddings = False\n",
      "-- self.hparams.freeze_emb_vectors = False\n",
      "-- self.hparams.embedding_dim = 300\n",
      "-- self.hparams.hidden_size = 1000\n",
      "-- self.hparams.enc_layers = 1\n",
      "-- self.hparams.enc_directions = 1\n",
      "-- self.hparams.dec_layers = 1\n",
      "-- self.hparams.dec_directions = 1\n",
      "-- self.hparams.kernel_size = 3\n",
      "-- self.hparams.max_length = 100\n",
      "-- self.hparams.teacher_forching_ratio = 0.5\n",
      "-- self.hparams.num_epochs = 10\n",
      "-- self.hparams.enc_lr = 0.01\n",
      "-- self.hparams.dec_lr = 0.01\n",
      "-- self.hparams.batch_size = 16\n",
      "-- self.hparams.train_loop_check_freq = 100\n",
      "-- self.hparams.check_early_stop = False\n",
      "-- self.hparams.es_look_back = 5\n",
      "-- self.hparams.es_req_prog = 0.01\n",
      "-- self.hparams.no_improv_look_back = 25\n",
      "-- self.hparams.optim_method = <class 'torch.optim.adam.Adam'>\n",
      "-- self.hparams.scheduler = <class 'torch.optim.lr_scheduler.ExponentialLR'>\n",
      "-- self.hparams.scheduler_gamma = 0.95\n",
      "-- self.hparams.criterion = <function nll_loss at 0x7fd166cd8bf8>\n",
      "-- self.hparams.num_train_sent_to_load = -1\n",
      "-- self.cparams.save_best_model = True\n",
      "-- self.cparams.save_each_epoch = True\n",
      "-- self.cparams.input_lang = zh\n",
      "-- self.cparams.data_path = data/\n",
      "-- self.cparams.output_lang = en\n",
      "-- self.cparams.model_saves = model_saves/\n",
      "-- self.lparams = None\n",
      "-- self.model = None\n",
      "-- self.dataloader = None\n",
      "-- self.results = []\n",
      "-- self.mode = notebook\n",
      "-- self.tqdm = <function tqdm_notebook at 0x7fd14d05e9d8>\n",
      "-- self.device = cuda:1\n",
      "************ End of Model Manager Details ************\n",
      "[2018-11-18 12:27:30] [INFO] Loading data using IWSLT ...\n",
      "[2018-11-18 12:27:30] [INFO] Get source language datum list...\n",
      "[2018-11-18 12:27:31] [INFO] Get target language datum list...\n",
      "[2018-11-18 12:27:31] [INFO] Vocabulary found and loaded! (token2id, id2token, vocabs)\n",
      "[2018-11-18 12:27:31] [INFO] Convert token to index for source language ...\n",
      "[2018-11-18 12:27:32] [INFO] Convert token to index for target language ...\n",
      "[2018-11-18 12:27:33] [INFO] Datum list loaded for both src/target languages!\n",
      "[2018-11-18 12:27:33] [INFO] Loading raw data into the DataLoaders ...\n"
     ]
    }
   ],
   "source": [
    "conf.init_logger(logging.DEBUG)\n",
    "logger = logging.getLogger('__main__')\n",
    "mgr = mm.ModelManager(mode='notebook')\n",
    "mgr.load_data(mm.loaderRegister.IWSLT)"
   ]
  },
  {
   "cell_type": "markdown",
   "metadata": {},
   "source": [
    "### getting some sentences out of the loaded data"
   ]
  },
  {
   "cell_type": "code",
   "execution_count": 3,
   "metadata": {},
   "outputs": [],
   "source": [
    "l = mgr.dataloader"
   ]
  },
  {
   "cell_type": "code",
   "execution_count": 4,
   "metadata": {},
   "outputs": [
    {
     "data": {
      "text/plain": [
       "213377"
      ]
     },
     "execution_count": 4,
     "metadata": {},
     "output_type": "execute_result"
    }
   ],
   "source": [
    "len(l.data['source']['train'])"
   ]
  },
  {
   "cell_type": "code",
   "execution_count": 5,
   "metadata": {},
   "outputs": [
    {
     "name": "stdout",
     "output_type": "stream",
     "text": [
      "[2, 1760, 34429, 125, 2375, 14873, 4960, 5, 2103, 40, 8, 1694, 10, 296, 119, 2033, 119, 20849, 199, 24, 4373, 1011, 5, 193, 3333, 4246, 103, 7, 612, 3408, 5, 5525, 15, 4277, 13316, 103, 17648, 1246, 19601, 18585, 1588, 129, 716, 1175, 5, 206, 3]\n",
      "['大卫', '盖罗', '通过', '潜水', '潜水艇', '拍下', '的', '影片', '把', '我们', '带到', '了', '地球', '最', '黑暗', '最', '险恶', '同时', '也', '最美', '美丽', '的', '生物', '栖息', '栖息地', '这里', '是', '海洋', '深处', '的', '峡谷', '和', '火山', '山脊', '这里', '怪诞', '适应', '适应力', '应力', '强', '而且', '数量', '惊人', '的', '生命']\n"
     ]
    }
   ],
   "source": [
    "print(l.data['source']['train'][1].token_indices)\n",
    "\n",
    "print(l.data['source']['train'][1].tokens)"
   ]
  },
  {
   "cell_type": "markdown",
   "metadata": {},
   "source": [
    "## Let's initialize our model and just do an approxmiate memory usage calc"
   ]
  },
  {
   "cell_type": "code",
   "execution_count": 6,
   "metadata": {},
   "outputs": [],
   "source": [
    "import torch\n",
    "from libs.data_loaders.IwsltLoader import SOS_IDX, PAD_IDX\n",
    "from config.basic_conf import DEVICE\n",
    "from libs.models import RNN_GRU\n",
    "from libs.models.RNN_GRU import _check_mem"
   ]
  },
  {
   "cell_type": "code",
   "execution_count": 7,
   "metadata": {},
   "outputs": [],
   "source": [
    "m = RNN_GRU.RNN_GRU(mgr.hparams,\n",
    "                   mgr.lparams,\n",
    "                   mgr.cparams)"
   ]
  },
  {
   "cell_type": "code",
   "execution_count": 8,
   "metadata": {},
   "outputs": [
    {
     "data": {
      "text/plain": [
       "Encoder(\n",
       "  (embed): Embedding(89754, 300, padding_idx=0)\n",
       "  (gru): GRU(300, 1000, batch_first=True)\n",
       ")"
      ]
     },
     "execution_count": 8,
     "metadata": {},
     "output_type": "execute_result"
    }
   ],
   "source": [
    "m.encoder"
   ]
  },
  {
   "cell_type": "code",
   "execution_count": 9,
   "metadata": {},
   "outputs": [
    {
     "name": "stdout",
     "output_type": "stream",
     "text": [
      "torch.Size([89754, 300])\n",
      "torch.float32\n",
      "\n",
      "torch.Size([3000, 300])\n",
      "torch.float32\n",
      "\n",
      "torch.Size([3000, 1000])\n",
      "torch.float32\n",
      "\n",
      "torch.Size([3000])\n",
      "torch.float32\n",
      "\n",
      "torch.Size([3000])\n",
      "torch.float32\n",
      "\n",
      "Total encoder Parameter Count: 30832200\n"
     ]
    }
   ],
   "source": [
    "encoder_total = 0\n",
    "for param in m.encoder.parameters():\n",
    "    print(param.shape)\n",
    "    print(param.dtype)\n",
    "    print()\n",
    "    encoder_total += param.numel()\n",
    "\n",
    "print(\"Total encoder Parameter Count:\", encoder_total)"
   ]
  },
  {
   "cell_type": "code",
   "execution_count": 10,
   "metadata": {},
   "outputs": [
    {
     "name": "stdout",
     "output_type": "stream",
     "text": [
      "torch.Size([69104, 300])\n",
      "torch.float32\n",
      "\n",
      "torch.Size([3000, 300])\n",
      "torch.float32\n",
      "\n",
      "torch.Size([3000, 1000])\n",
      "torch.float32\n",
      "\n",
      "torch.Size([3000])\n",
      "torch.float32\n",
      "\n",
      "torch.Size([3000])\n",
      "torch.float32\n",
      "\n",
      "torch.Size([69104, 1000])\n",
      "torch.float32\n",
      "\n",
      "torch.Size([69104])\n",
      "torch.float32\n",
      "\n",
      "Total decoder Parameter Count: 93810304\n"
     ]
    }
   ],
   "source": [
    "decoder_total = 0\n",
    "for param in m.decoder.parameters():\n",
    "    print(param.shape)\n",
    "    print(param.dtype)\n",
    "    print()\n",
    "    decoder_total += param.numel()\n",
    "\n",
    "print(\"Total decoder Parameter Count:\", decoder_total)"
   ]
  },
  {
   "cell_type": "markdown",
   "metadata": {},
   "source": [
    "### Float32 types use 32bits or 4bytes of Memory each"
   ]
  },
  {
   "cell_type": "code",
   "execution_count": 11,
   "metadata": {},
   "outputs": [
    {
     "name": "stdout",
     "output_type": "stream",
     "text": [
      "Expect to use 475mb of memory:\n"
     ]
    }
   ],
   "source": [
    "bytes_per_param = 4\n",
    "\n",
    "mb_usage = ((encoder_total + decoder_total) * bytes_per_param) / 1024 / 1024\n",
    "print(\"Expect to use %.0fmb of memory:\" % mb_usage)"
   ]
  },
  {
   "cell_type": "code",
   "execution_count": 12,
   "metadata": {},
   "outputs": [
    {
     "name": "stdout",
     "output_type": "stream",
     "text": [
      "[2018-11-18 12:27:35] [INFO] at Actual Usage: - memory usage: 475.8 MB\n"
     ]
    }
   ],
   "source": [
    "_check_mem(\"Actual Usage:\")"
   ]
  },
  {
   "cell_type": "markdown",
   "metadata": {},
   "source": [
    "### Let's manually step through the first trainin loop:"
   ]
  },
  {
   "cell_type": "code",
   "execution_count": 13,
   "metadata": {},
   "outputs": [],
   "source": [
    "m._init_optim_and_scheduler()\n",
    "criterion = m.hparams[HyperParamKey.CRITERION]\n",
    "early_stop = False\n",
    "best_loss = np.Inf"
   ]
  },
  {
   "cell_type": "code",
   "execution_count": 14,
   "metadata": {},
   "outputs": [],
   "source": [
    "m.enc_scheduler.step(epoch=m.cur_epoch)\n",
    "m.dec_scheduler.step(epoch=m.cur_epoch)\n",
    "m.cur_epoch += 1"
   ]
  },
  {
   "cell_type": "markdown",
   "metadata": {},
   "source": [
    "**Optimizer and Schedulers use memory on main RAM so we're not using GPU RAM**"
   ]
  },
  {
   "cell_type": "code",
   "execution_count": 15,
   "metadata": {},
   "outputs": [
    {
     "name": "stdout",
     "output_type": "stream",
     "text": [
      "[2018-11-18 12:27:35] [INFO] at Current Usage: - memory usage: 475.8 MB\n"
     ]
    }
   ],
   "source": [
    "_check_mem(\"Current Usage:\")"
   ]
  },
  {
   "cell_type": "code",
   "execution_count": 16,
   "metadata": {
    "scrolled": false
   },
   "outputs": [
    {
     "name": "stdout",
     "output_type": "stream",
     "text": [
      "[2018-11-18 12:27:35] [INFO] at Start of batch %i - memory usage: 475.8 MB\n",
      "torch.Size([16, 54])\n",
      "torch.Size([16, 56])\n",
      "[2018-11-18 12:27:35] [INFO] at iteration 0  - memory usage: 475.8 MB\n",
      "[2018-11-18 12:27:37] [INFO] at Starting Decoder - memory usage: 484.4 MB\n",
      "[2018-11-18 12:27:37] [INFO] at iteration 0 of decoder recursion - memory usage: 484.4 MB\n",
      "[2018-11-18 12:27:37] [INFO] at iteration 1 of decoder recursion - memory usage: 493.7 MB\n",
      "[2018-11-18 12:27:37] [INFO] at iteration 2 of decoder recursion - memory usage: 502.7 MB\n",
      "[2018-11-18 12:27:37] [INFO] at iteration 3 of decoder recursion - memory usage: 511.6 MB\n",
      "[2018-11-18 12:27:37] [INFO] at iteration 4 of decoder recursion - memory usage: 520.6 MB\n",
      "[2018-11-18 12:27:37] [INFO] at iteration 5 of decoder recursion - memory usage: 529.6 MB\n",
      "[2018-11-18 12:27:37] [INFO] at iteration 6 of decoder recursion - memory usage: 538.5 MB\n",
      "[2018-11-18 12:27:37] [INFO] at iteration 7 of decoder recursion - memory usage: 547.5 MB\n",
      "[2018-11-18 12:27:37] [INFO] at iteration 8 of decoder recursion - memory usage: 556.5 MB\n",
      "[2018-11-18 12:27:37] [INFO] at iteration 9 of decoder recursion - memory usage: 565.4 MB\n",
      "[2018-11-18 12:27:37] [INFO] at iteration 10 of decoder recursion - memory usage: 574.4 MB\n",
      "[2018-11-18 12:27:37] [INFO] at iteration 11 of decoder recursion - memory usage: 583.4 MB\n",
      "[2018-11-18 12:27:37] [INFO] at iteration 12 of decoder recursion - memory usage: 592.3 MB\n",
      "[2018-11-18 12:27:37] [INFO] at iteration 13 of decoder recursion - memory usage: 601.3 MB\n",
      "[2018-11-18 12:27:37] [INFO] at iteration 14 of decoder recursion - memory usage: 610.3 MB\n",
      "[2018-11-18 12:27:37] [INFO] at iteration 15 of decoder recursion - memory usage: 619.2 MB\n",
      "[2018-11-18 12:27:37] [INFO] at iteration 16 of decoder recursion - memory usage: 628.2 MB\n",
      "[2018-11-18 12:27:37] [INFO] at iteration 17 of decoder recursion - memory usage: 637.2 MB\n",
      "[2018-11-18 12:27:37] [INFO] at iteration 18 of decoder recursion - memory usage: 646.1 MB\n",
      "[2018-11-18 12:27:37] [INFO] at iteration 19 of decoder recursion - memory usage: 655.1 MB\n",
      "[2018-11-18 12:27:37] [INFO] at iteration 20 of decoder recursion - memory usage: 664.1 MB\n",
      "[2018-11-18 12:27:37] [INFO] at iteration 21 of decoder recursion - memory usage: 673.0 MB\n",
      "[2018-11-18 12:27:37] [INFO] at iteration 22 of decoder recursion - memory usage: 682.0 MB\n",
      "[2018-11-18 12:27:37] [INFO] at iteration 23 of decoder recursion - memory usage: 690.9 MB\n",
      "[2018-11-18 12:27:37] [INFO] at iteration 24 of decoder recursion - memory usage: 699.9 MB\n",
      "[2018-11-18 12:27:37] [INFO] at iteration 25 of decoder recursion - memory usage: 708.9 MB\n",
      "[2018-11-18 12:27:37] [INFO] at iteration 26 of decoder recursion - memory usage: 717.8 MB\n",
      "[2018-11-18 12:27:37] [INFO] at iteration 27 of decoder recursion - memory usage: 726.8 MB\n",
      "[2018-11-18 12:27:37] [INFO] at iteration 28 of decoder recursion - memory usage: 735.8 MB\n",
      "[2018-11-18 12:27:37] [INFO] at iteration 29 of decoder recursion - memory usage: 744.7 MB\n",
      "[2018-11-18 12:27:37] [INFO] at iteration 30 of decoder recursion - memory usage: 753.7 MB\n",
      "[2018-11-18 12:27:37] [INFO] at iteration 31 of decoder recursion - memory usage: 762.7 MB\n",
      "[2018-11-18 12:27:37] [INFO] at iteration 32 of decoder recursion - memory usage: 771.6 MB\n",
      "[2018-11-18 12:27:37] [INFO] at iteration 33 of decoder recursion - memory usage: 780.6 MB\n",
      "[2018-11-18 12:27:37] [INFO] at iteration 34 of decoder recursion - memory usage: 789.6 MB\n",
      "[2018-11-18 12:27:37] [INFO] at iteration 35 of decoder recursion - memory usage: 798.5 MB\n",
      "[2018-11-18 12:27:37] [INFO] at iteration 36 of decoder recursion - memory usage: 807.5 MB\n",
      "[2018-11-18 12:27:37] [INFO] at iteration 37 of decoder recursion - memory usage: 816.5 MB\n",
      "[2018-11-18 12:27:37] [INFO] at iteration 38 of decoder recursion - memory usage: 825.4 MB\n",
      "[2018-11-18 12:27:37] [INFO] at iteration 39 of decoder recursion - memory usage: 834.4 MB\n",
      "[2018-11-18 12:27:37] [INFO] at iteration 40 of decoder recursion - memory usage: 843.4 MB\n",
      "[2018-11-18 12:27:37] [INFO] at iteration 41 of decoder recursion - memory usage: 852.3 MB\n",
      "[2018-11-18 12:27:37] [INFO] at iteration 42 of decoder recursion - memory usage: 861.3 MB\n",
      "[2018-11-18 12:27:37] [INFO] at iteration 43 of decoder recursion - memory usage: 870.3 MB\n",
      "[2018-11-18 12:27:37] [INFO] at iteration 44 of decoder recursion - memory usage: 879.2 MB\n",
      "[2018-11-18 12:27:37] [INFO] at iteration 45 of decoder recursion - memory usage: 888.2 MB\n",
      "[2018-11-18 12:27:37] [INFO] at iteration 46 of decoder recursion - memory usage: 897.1 MB\n",
      "[2018-11-18 12:27:37] [INFO] at iteration 47 of decoder recursion - memory usage: 906.1 MB\n",
      "[2018-11-18 12:27:37] [INFO] at iteration 48 of decoder recursion - memory usage: 915.1 MB\n",
      "[2018-11-18 12:27:37] [INFO] at iteration 49 of decoder recursion - memory usage: 924.0 MB\n",
      "[2018-11-18 12:27:37] [INFO] at iteration 50 of decoder recursion - memory usage: 933.0 MB\n",
      "[2018-11-18 12:27:37] [INFO] at iteration 51 of decoder recursion - memory usage: 942.0 MB\n",
      "[2018-11-18 12:27:37] [INFO] at iteration 52 of decoder recursion - memory usage: 950.9 MB\n",
      "[2018-11-18 12:27:37] [INFO] at iteration 53 of decoder recursion - memory usage: 959.9 MB\n",
      "[2018-11-18 12:27:37] [INFO] at iteration 54 of decoder recursion - memory usage: 968.9 MB\n",
      "[2018-11-18 12:27:37] [INFO] at iteration 55 of decoder recursion - memory usage: 977.8 MB\n",
      "[2018-11-18 12:27:37] [INFO] at Before back prop - memory usage: 986.8 MB\n",
      "[2018-11-18 12:27:37] [INFO] at After back prop - memory usage: 952.5 MB\n",
      "[2018-11-18 12:27:37] [INFO] at After optimizer step - memory usage: 1906.6 MB\n",
      "[2018-11-18 12:27:37] [INFO] at Start of batch %i - memory usage: 1906.6 MB\n",
      "torch.Size([16, 33])\n",
      "torch.Size([16, 35])\n",
      "[2018-11-18 12:27:37] [INFO] at iteration 1  - memory usage: 1906.6 MB\n",
      "[2018-11-18 12:27:37] [INFO] at Starting Decoder - memory usage: 1916.3 MB\n",
      "[2018-11-18 12:27:37] [INFO] at iteration 0 of decoder recursion - memory usage: 1916.3 MB\n",
      "[2018-11-18 12:27:37] [INFO] at iteration 1 of decoder recursion - memory usage: 1925.5 MB\n",
      "[2018-11-18 12:27:37] [INFO] at iteration 2 of decoder recursion - memory usage: 1934.5 MB\n",
      "[2018-11-18 12:27:37] [INFO] at iteration 3 of decoder recursion - memory usage: 1943.4 MB\n",
      "[2018-11-18 12:27:37] [INFO] at iteration 4 of decoder recursion - memory usage: 1952.4 MB\n",
      "[2018-11-18 12:27:37] [INFO] at iteration 5 of decoder recursion - memory usage: 1961.4 MB\n",
      "[2018-11-18 12:27:37] [INFO] at iteration 6 of decoder recursion - memory usage: 1970.3 MB\n",
      "[2018-11-18 12:27:37] [INFO] at iteration 7 of decoder recursion - memory usage: 1979.3 MB\n",
      "[2018-11-18 12:27:37] [INFO] at iteration 8 of decoder recursion - memory usage: 1988.3 MB\n",
      "[2018-11-18 12:27:37] [INFO] at iteration 9 of decoder recursion - memory usage: 1997.2 MB\n",
      "[2018-11-18 12:27:37] [INFO] at iteration 10 of decoder recursion - memory usage: 2006.2 MB\n",
      "[2018-11-18 12:27:37] [INFO] at iteration 11 of decoder recursion - memory usage: 2015.2 MB\n",
      "[2018-11-18 12:27:37] [INFO] at iteration 12 of decoder recursion - memory usage: 2024.1 MB\n",
      "[2018-11-18 12:27:37] [INFO] at iteration 13 of decoder recursion - memory usage: 2033.1 MB\n",
      "[2018-11-18 12:27:37] [INFO] at iteration 14 of decoder recursion - memory usage: 2042.1 MB\n",
      "[2018-11-18 12:27:37] [INFO] at iteration 15 of decoder recursion - memory usage: 2051.0 MB\n",
      "[2018-11-18 12:27:37] [INFO] at iteration 16 of decoder recursion - memory usage: 2060.0 MB\n",
      "[2018-11-18 12:27:37] [INFO] at iteration 17 of decoder recursion - memory usage: 2069.0 MB\n",
      "[2018-11-18 12:27:37] [INFO] at iteration 18 of decoder recursion - memory usage: 2077.9 MB\n",
      "[2018-11-18 12:27:37] [INFO] at iteration 19 of decoder recursion - memory usage: 2086.9 MB\n",
      "[2018-11-18 12:27:37] [INFO] at iteration 20 of decoder recursion - memory usage: 2095.9 MB\n",
      "[2018-11-18 12:27:37] [INFO] at iteration 21 of decoder recursion - memory usage: 2104.8 MB\n",
      "[2018-11-18 12:27:37] [INFO] at iteration 22 of decoder recursion - memory usage: 2113.8 MB\n",
      "[2018-11-18 12:27:37] [INFO] at iteration 23 of decoder recursion - memory usage: 2122.8 MB\n",
      "[2018-11-18 12:27:37] [INFO] at iteration 24 of decoder recursion - memory usage: 2131.7 MB\n",
      "[2018-11-18 12:27:37] [INFO] at iteration 25 of decoder recursion - memory usage: 2140.7 MB\n"
     ]
    },
    {
     "name": "stdout",
     "output_type": "stream",
     "text": [
      "[2018-11-18 12:27:37] [INFO] at iteration 26 of decoder recursion - memory usage: 2149.6 MB\n",
      "[2018-11-18 12:27:37] [INFO] at iteration 27 of decoder recursion - memory usage: 2158.6 MB\n",
      "[2018-11-18 12:27:37] [INFO] at iteration 28 of decoder recursion - memory usage: 2167.6 MB\n",
      "[2018-11-18 12:27:37] [INFO] at iteration 29 of decoder recursion - memory usage: 2176.5 MB\n",
      "[2018-11-18 12:27:37] [INFO] at iteration 30 of decoder recursion - memory usage: 2185.5 MB\n",
      "[2018-11-18 12:27:37] [INFO] at iteration 31 of decoder recursion - memory usage: 2194.5 MB\n",
      "[2018-11-18 12:27:37] [INFO] at iteration 32 of decoder recursion - memory usage: 2203.4 MB\n",
      "[2018-11-18 12:27:37] [INFO] at iteration 33 of decoder recursion - memory usage: 2212.4 MB\n",
      "[2018-11-18 12:27:37] [INFO] at iteration 34 of decoder recursion - memory usage: 2221.4 MB\n",
      "[2018-11-18 12:27:37] [INFO] at Before back prop - memory usage: 2230.3 MB\n",
      "[2018-11-18 12:27:38] [INFO] at After back prop - memory usage: 1906.6 MB\n",
      "[2018-11-18 12:27:38] [INFO] at After optimizer step - memory usage: 1906.6 MB\n",
      "[2018-11-18 12:27:38] [INFO] at Start of batch %i - memory usage: 1906.7 MB\n",
      "torch.Size([16, 68])\n",
      "torch.Size([16, 87])\n",
      "[2018-11-18 12:27:38] [INFO] at iteration 2  - memory usage: 1906.7 MB\n",
      "[2018-11-18 12:27:38] [INFO] at Starting Decoder - memory usage: 1916.3 MB\n",
      "[2018-11-18 12:27:38] [INFO] at iteration 0 of decoder recursion - memory usage: 1916.3 MB\n",
      "[2018-11-18 12:27:38] [INFO] at iteration 1 of decoder recursion - memory usage: 1925.5 MB\n",
      "[2018-11-18 12:27:38] [INFO] at iteration 2 of decoder recursion - memory usage: 1934.5 MB\n",
      "[2018-11-18 12:27:38] [INFO] at iteration 3 of decoder recursion - memory usage: 1943.5 MB\n",
      "[2018-11-18 12:27:38] [INFO] at iteration 4 of decoder recursion - memory usage: 1952.4 MB\n",
      "[2018-11-18 12:27:38] [INFO] at iteration 5 of decoder recursion - memory usage: 1961.4 MB\n",
      "[2018-11-18 12:27:38] [INFO] at iteration 6 of decoder recursion - memory usage: 1970.4 MB\n",
      "[2018-11-18 12:27:38] [INFO] at iteration 7 of decoder recursion - memory usage: 1979.3 MB\n",
      "[2018-11-18 12:27:38] [INFO] at iteration 8 of decoder recursion - memory usage: 1988.3 MB\n",
      "[2018-11-18 12:27:38] [INFO] at iteration 9 of decoder recursion - memory usage: 1997.2 MB\n",
      "[2018-11-18 12:27:38] [INFO] at iteration 10 of decoder recursion - memory usage: 2006.2 MB\n",
      "[2018-11-18 12:27:38] [INFO] at iteration 11 of decoder recursion - memory usage: 2015.2 MB\n",
      "[2018-11-18 12:27:38] [INFO] at iteration 12 of decoder recursion - memory usage: 2024.1 MB\n",
      "[2018-11-18 12:27:38] [INFO] at iteration 13 of decoder recursion - memory usage: 2033.1 MB\n",
      "[2018-11-18 12:27:38] [INFO] at iteration 14 of decoder recursion - memory usage: 2042.1 MB\n",
      "[2018-11-18 12:27:38] [INFO] at iteration 15 of decoder recursion - memory usage: 2051.0 MB\n",
      "[2018-11-18 12:27:38] [INFO] at iteration 16 of decoder recursion - memory usage: 2060.0 MB\n",
      "[2018-11-18 12:27:38] [INFO] at iteration 17 of decoder recursion - memory usage: 2069.0 MB\n",
      "[2018-11-18 12:27:38] [INFO] at iteration 18 of decoder recursion - memory usage: 2077.9 MB\n",
      "[2018-11-18 12:27:38] [INFO] at iteration 19 of decoder recursion - memory usage: 2086.9 MB\n",
      "[2018-11-18 12:27:38] [INFO] at iteration 20 of decoder recursion - memory usage: 2095.9 MB\n",
      "[2018-11-18 12:27:38] [INFO] at iteration 21 of decoder recursion - memory usage: 2104.8 MB\n",
      "[2018-11-18 12:27:38] [INFO] at iteration 22 of decoder recursion - memory usage: 2113.8 MB\n",
      "[2018-11-18 12:27:38] [INFO] at iteration 23 of decoder recursion - memory usage: 2122.8 MB\n",
      "[2018-11-18 12:27:38] [INFO] at iteration 24 of decoder recursion - memory usage: 2131.7 MB\n",
      "[2018-11-18 12:27:38] [INFO] at iteration 25 of decoder recursion - memory usage: 2140.7 MB\n",
      "[2018-11-18 12:27:38] [INFO] at iteration 26 of decoder recursion - memory usage: 2149.7 MB\n",
      "[2018-11-18 12:27:38] [INFO] at iteration 27 of decoder recursion - memory usage: 2158.6 MB\n",
      "[2018-11-18 12:27:38] [INFO] at iteration 28 of decoder recursion - memory usage: 2167.6 MB\n",
      "[2018-11-18 12:27:38] [INFO] at iteration 29 of decoder recursion - memory usage: 2176.6 MB\n",
      "[2018-11-18 12:27:38] [INFO] at iteration 30 of decoder recursion - memory usage: 2185.5 MB\n",
      "[2018-11-18 12:27:38] [INFO] at iteration 31 of decoder recursion - memory usage: 2194.5 MB\n",
      "[2018-11-18 12:27:38] [INFO] at iteration 32 of decoder recursion - memory usage: 2203.5 MB\n",
      "[2018-11-18 12:27:38] [INFO] at iteration 33 of decoder recursion - memory usage: 2212.4 MB\n",
      "[2018-11-18 12:27:38] [INFO] at iteration 34 of decoder recursion - memory usage: 2221.4 MB\n",
      "[2018-11-18 12:27:38] [INFO] at iteration 35 of decoder recursion - memory usage: 2230.3 MB\n",
      "[2018-11-18 12:27:38] [INFO] at iteration 36 of decoder recursion - memory usage: 2239.3 MB\n",
      "[2018-11-18 12:27:38] [INFO] at iteration 37 of decoder recursion - memory usage: 2248.3 MB\n",
      "[2018-11-18 12:27:38] [INFO] at iteration 38 of decoder recursion - memory usage: 2257.2 MB\n",
      "[2018-11-18 12:27:38] [INFO] at iteration 39 of decoder recursion - memory usage: 2266.2 MB\n",
      "[2018-11-18 12:27:38] [INFO] at iteration 40 of decoder recursion - memory usage: 2275.2 MB\n",
      "[2018-11-18 12:27:38] [INFO] at iteration 41 of decoder recursion - memory usage: 2284.1 MB\n",
      "[2018-11-18 12:27:38] [INFO] at iteration 42 of decoder recursion - memory usage: 2293.1 MB\n",
      "[2018-11-18 12:27:38] [INFO] at iteration 43 of decoder recursion - memory usage: 2302.1 MB\n",
      "[2018-11-18 12:27:38] [INFO] at iteration 44 of decoder recursion - memory usage: 2311.0 MB\n",
      "[2018-11-18 12:27:38] [INFO] at iteration 45 of decoder recursion - memory usage: 2320.0 MB\n",
      "[2018-11-18 12:27:38] [INFO] at iteration 46 of decoder recursion - memory usage: 2329.0 MB\n",
      "[2018-11-18 12:27:38] [INFO] at iteration 47 of decoder recursion - memory usage: 2337.9 MB\n",
      "[2018-11-18 12:27:38] [INFO] at iteration 48 of decoder recursion - memory usage: 2346.9 MB\n",
      "[2018-11-18 12:27:38] [INFO] at iteration 49 of decoder recursion - memory usage: 2355.9 MB\n",
      "[2018-11-18 12:27:38] [INFO] at iteration 50 of decoder recursion - memory usage: 2364.8 MB\n",
      "[2018-11-18 12:27:38] [INFO] at iteration 51 of decoder recursion - memory usage: 2373.8 MB\n",
      "[2018-11-18 12:27:38] [INFO] at iteration 52 of decoder recursion - memory usage: 2382.8 MB\n",
      "[2018-11-18 12:27:38] [INFO] at iteration 53 of decoder recursion - memory usage: 2391.7 MB\n",
      "[2018-11-18 12:27:38] [INFO] at iteration 54 of decoder recursion - memory usage: 2400.7 MB\n",
      "[2018-11-18 12:27:38] [INFO] at iteration 55 of decoder recursion - memory usage: 2409.7 MB\n",
      "[2018-11-18 12:27:38] [INFO] at iteration 56 of decoder recursion - memory usage: 2418.6 MB\n",
      "[2018-11-18 12:27:38] [INFO] at iteration 57 of decoder recursion - memory usage: 2427.6 MB\n",
      "[2018-11-18 12:27:38] [INFO] at iteration 58 of decoder recursion - memory usage: 2436.6 MB\n",
      "[2018-11-18 12:27:38] [INFO] at iteration 59 of decoder recursion - memory usage: 2445.5 MB\n",
      "[2018-11-18 12:27:38] [INFO] at iteration 60 of decoder recursion - memory usage: 2454.5 MB\n",
      "[2018-11-18 12:27:38] [INFO] at iteration 61 of decoder recursion - memory usage: 2463.4 MB\n",
      "[2018-11-18 12:27:38] [INFO] at iteration 62 of decoder recursion - memory usage: 2472.4 MB\n",
      "[2018-11-18 12:27:38] [INFO] at iteration 63 of decoder recursion - memory usage: 2481.4 MB\n",
      "[2018-11-18 12:27:38] [INFO] at iteration 64 of decoder recursion - memory usage: 2490.3 MB\n",
      "[2018-11-18 12:27:38] [INFO] at iteration 65 of decoder recursion - memory usage: 2499.3 MB\n",
      "[2018-11-18 12:27:38] [INFO] at iteration 66 of decoder recursion - memory usage: 2508.3 MB\n",
      "[2018-11-18 12:27:38] [INFO] at iteration 67 of decoder recursion - memory usage: 2517.2 MB\n",
      "[2018-11-18 12:27:38] [INFO] at iteration 68 of decoder recursion - memory usage: 2526.2 MB\n",
      "[2018-11-18 12:27:38] [INFO] at iteration 69 of decoder recursion - memory usage: 2535.2 MB\n",
      "[2018-11-18 12:27:38] [INFO] at iteration 70 of decoder recursion - memory usage: 2544.1 MB\n",
      "[2018-11-18 12:27:38] [INFO] at iteration 71 of decoder recursion - memory usage: 2553.1 MB\n",
      "[2018-11-18 12:27:38] [INFO] at iteration 72 of decoder recursion - memory usage: 2562.1 MB\n",
      "[2018-11-18 12:27:38] [INFO] at iteration 73 of decoder recursion - memory usage: 2571.0 MB\n",
      "[2018-11-18 12:27:38] [INFO] at iteration 74 of decoder recursion - memory usage: 2580.0 MB\n"
     ]
    },
    {
     "name": "stdout",
     "output_type": "stream",
     "text": [
      "[2018-11-18 12:27:38] [INFO] at iteration 75 of decoder recursion - memory usage: 2589.0 MB\n",
      "[2018-11-18 12:27:38] [INFO] at iteration 76 of decoder recursion - memory usage: 2597.9 MB\n",
      "[2018-11-18 12:27:38] [INFO] at iteration 77 of decoder recursion - memory usage: 2606.9 MB\n",
      "[2018-11-18 12:27:38] [INFO] at iteration 78 of decoder recursion - memory usage: 2615.9 MB\n",
      "[2018-11-18 12:27:38] [INFO] at iteration 79 of decoder recursion - memory usage: 2624.8 MB\n",
      "[2018-11-18 12:27:38] [INFO] at iteration 80 of decoder recursion - memory usage: 2633.8 MB\n",
      "[2018-11-18 12:27:38] [INFO] at iteration 81 of decoder recursion - memory usage: 2642.8 MB\n",
      "[2018-11-18 12:27:38] [INFO] at iteration 82 of decoder recursion - memory usage: 2651.7 MB\n",
      "[2018-11-18 12:27:38] [INFO] at iteration 83 of decoder recursion - memory usage: 2660.7 MB\n",
      "[2018-11-18 12:27:38] [INFO] at iteration 84 of decoder recursion - memory usage: 2669.6 MB\n",
      "[2018-11-18 12:27:38] [INFO] at iteration 85 of decoder recursion - memory usage: 2678.6 MB\n",
      "[2018-11-18 12:27:38] [INFO] at iteration 86 of decoder recursion - memory usage: 2687.6 MB\n",
      "[2018-11-18 12:27:38] [INFO] at Before back prop - memory usage: 2696.5 MB\n",
      "[2018-11-18 12:27:39] [INFO] at After back prop - memory usage: 1906.7 MB\n",
      "[2018-11-18 12:27:39] [INFO] at After optimizer step - memory usage: 1906.7 MB\n",
      "[2018-11-18 12:27:39] [INFO] at Start of batch %i - memory usage: 1906.6 MB\n",
      "torch.Size([16, 30])\n",
      "torch.Size([16, 32])\n",
      "[2018-11-18 12:27:39] [INFO] at iteration 3  - memory usage: 1906.6 MB\n",
      "[2018-11-18 12:27:39] [INFO] at Starting Decoder - memory usage: 1913.7 MB\n",
      "[2018-11-18 12:27:39] [INFO] at iteration 0 of decoder recursion - memory usage: 1913.7 MB\n",
      "[2018-11-18 12:27:39] [INFO] at iteration 1 of decoder recursion - memory usage: 1922.9 MB\n",
      "[2018-11-18 12:27:39] [INFO] at iteration 2 of decoder recursion - memory usage: 1931.9 MB\n",
      "[2018-11-18 12:27:39] [INFO] at iteration 3 of decoder recursion - memory usage: 1940.8 MB\n",
      "[2018-11-18 12:27:39] [INFO] at iteration 4 of decoder recursion - memory usage: 1949.8 MB\n",
      "[2018-11-18 12:27:39] [INFO] at iteration 5 of decoder recursion - memory usage: 1958.8 MB\n",
      "[2018-11-18 12:27:39] [INFO] at iteration 6 of decoder recursion - memory usage: 1967.7 MB\n",
      "[2018-11-18 12:27:39] [INFO] at iteration 7 of decoder recursion - memory usage: 1976.7 MB\n",
      "[2018-11-18 12:27:39] [INFO] at iteration 8 of decoder recursion - memory usage: 1985.7 MB\n",
      "[2018-11-18 12:27:39] [INFO] at iteration 9 of decoder recursion - memory usage: 1994.6 MB\n",
      "[2018-11-18 12:27:39] [INFO] at iteration 10 of decoder recursion - memory usage: 2003.6 MB\n",
      "[2018-11-18 12:27:39] [INFO] at iteration 11 of decoder recursion - memory usage: 2012.6 MB\n",
      "[2018-11-18 12:27:39] [INFO] at iteration 12 of decoder recursion - memory usage: 2021.5 MB\n",
      "[2018-11-18 12:27:39] [INFO] at iteration 13 of decoder recursion - memory usage: 2030.5 MB\n",
      "[2018-11-18 12:27:39] [INFO] at iteration 14 of decoder recursion - memory usage: 2039.5 MB\n",
      "[2018-11-18 12:27:39] [INFO] at iteration 15 of decoder recursion - memory usage: 2048.4 MB\n",
      "[2018-11-18 12:27:39] [INFO] at iteration 16 of decoder recursion - memory usage: 2057.4 MB\n",
      "[2018-11-18 12:27:39] [INFO] at iteration 17 of decoder recursion - memory usage: 2066.4 MB\n",
      "[2018-11-18 12:27:39] [INFO] at iteration 18 of decoder recursion - memory usage: 2075.3 MB\n",
      "[2018-11-18 12:27:39] [INFO] at iteration 19 of decoder recursion - memory usage: 2084.3 MB\n",
      "[2018-11-18 12:27:39] [INFO] at iteration 20 of decoder recursion - memory usage: 2093.3 MB\n",
      "[2018-11-18 12:27:39] [INFO] at iteration 21 of decoder recursion - memory usage: 2102.2 MB\n",
      "[2018-11-18 12:27:39] [INFO] at iteration 22 of decoder recursion - memory usage: 2111.2 MB\n",
      "[2018-11-18 12:27:39] [INFO] at iteration 23 of decoder recursion - memory usage: 2120.2 MB\n",
      "[2018-11-18 12:27:39] [INFO] at iteration 24 of decoder recursion - memory usage: 2129.1 MB\n",
      "[2018-11-18 12:27:39] [INFO] at iteration 25 of decoder recursion - memory usage: 2138.1 MB\n",
      "[2018-11-18 12:27:39] [INFO] at iteration 26 of decoder recursion - memory usage: 2147.0 MB\n",
      "[2018-11-18 12:27:39] [INFO] at iteration 27 of decoder recursion - memory usage: 2156.0 MB\n",
      "[2018-11-18 12:27:39] [INFO] at iteration 28 of decoder recursion - memory usage: 2165.0 MB\n",
      "[2018-11-18 12:27:39] [INFO] at iteration 29 of decoder recursion - memory usage: 2173.9 MB\n",
      "[2018-11-18 12:27:39] [INFO] at iteration 30 of decoder recursion - memory usage: 2182.9 MB\n",
      "[2018-11-18 12:27:39] [INFO] at iteration 31 of decoder recursion - memory usage: 2191.9 MB\n",
      "[2018-11-18 12:27:39] [INFO] at Before back prop - memory usage: 2200.8 MB\n",
      "[2018-11-18 12:27:39] [INFO] at After back prop - memory usage: 1906.6 MB\n",
      "[2018-11-18 12:27:39] [INFO] at After optimizer step - memory usage: 1906.6 MB\n"
     ]
    }
   ],
   "source": [
    "for i, (src, tgt, src_lens, tgt_lens) in enumerate(l.loaders['train']):\n",
    "    _check_mem(\"Start of batch %i\")\n",
    "    print(src.shape)\n",
    "    print(tgt.shape)\n",
    "    mm.check_mem(\"iteration %s \" % i)\n",
    "    \n",
    "    batch_loss = 0\n",
    "    \n",
    "    m.encoder.train()\n",
    "    m.decoder.train()\n",
    "    m.enc_optim.zero_grad()\n",
    "    m.dec_optim.zero_grad()\n",
    "    batch_size = src.shape[0]\n",
    "    \n",
    "    enc_last_hidden = m.encoder(src, src_lens)\n",
    "    dec_in = torch.full((batch_size,), SOS_IDX, device=DEVICE, dtype=torch.int64).unsqueeze(1)\n",
    "    \n",
    "    _check_mem(\"Starting Decoder\")\n",
    "    \n",
    "    for t in range(tgt.size(1)):  # step through time/seq_len axis\n",
    "        _check_mem(\"iteration %s of decoder recursion\" % t)\n",
    "        dec_in = m.decoder(dec_in, enc_last_hidden)\n",
    "        batch_loss += criterion(dec_in, tgt[:, t], reduction='sum', ignore_index=PAD_IDX)\n",
    "        topv, topi = dec_in.topk(1)\n",
    "        dec_in = topi.detach()\n",
    "        \n",
    "    batch_loss /= tgt.data.gt(0).sum().float()\n",
    "    _check_mem(\"Before back prop\")\n",
    "    batch_loss.backward()\n",
    "    \n",
    "    _check_mem(\"After back prop\")\n",
    "    \n",
    "    m.enc_optim.step()\n",
    "    m.dec_optim.step()\n",
    "    \n",
    "    _check_mem(\"After optimizer step\")\n",
    "    \n",
    "    if i >= 3:\n",
    "        break"
   ]
  },
  {
   "cell_type": "markdown",
   "metadata": {},
   "source": [
    "**The Adam Optimizer uses about 1GB of memory here to compute the gradient estimates**"
   ]
  },
  {
   "cell_type": "markdown",
   "metadata": {},
   "source": [
    "## Remove the graph storage on the compute_loss function\n",
    "\n",
    "by calling .item() on the batch_loss each time"
   ]
  },
  {
   "cell_type": "code",
   "execution_count": 18,
   "metadata": {},
   "outputs": [],
   "source": [
    "from tqdm import tqdm_notebook as tqdm"
   ]
  },
  {
   "cell_type": "code",
   "execution_count": 19,
   "metadata": {},
   "outputs": [
    {
     "data": {
      "application/vnd.jupyter.widget-view+json": {
       "model_id": "909a9d03a52a486389d12fd872f3871e",
       "version_major": 2,
       "version_minor": 0
      },
      "text/plain": [
       "HBox(children=(IntProgress(value=1, bar_style='info', max=1), HTML(value='')))"
      ]
     },
     "metadata": {},
     "output_type": "display_data"
    },
    {
     "ename": "KeyboardInterrupt",
     "evalue": "",
     "output_type": "error",
     "traceback": [
      "\u001b[0;31m---------------------------------------------------------------------------\u001b[0m",
      "\u001b[0;31mKeyboardInterrupt\u001b[0m                         Traceback (most recent call last)",
      "\u001b[0;32m<ipython-input-19-53f68ef702ed>\u001b[0m in \u001b[0;36m<module>\u001b[0;34m()\u001b[0m\n\u001b[1;32m     27\u001b[0m         \u001b[0mdec_out\u001b[0m \u001b[0;34m=\u001b[0m \u001b[0mm\u001b[0m\u001b[0;34m.\u001b[0m\u001b[0mdecoder\u001b[0m\u001b[0;34m(\u001b[0m\u001b[0mdec_in\u001b[0m\u001b[0;34m,\u001b[0m \u001b[0menc_last_hidden\u001b[0m\u001b[0;34m)\u001b[0m\u001b[0;34m\u001b[0m\u001b[0m\n\u001b[1;32m     28\u001b[0m         batch_loss += criterion(dec_out, tgt[:, t], reduction='sum',\n\u001b[0;32m---> 29\u001b[0;31m                                 ignore_index=PAD_IDX).item()\n\u001b[0m\u001b[1;32m     30\u001b[0m         \u001b[0mtopv\u001b[0m\u001b[0;34m,\u001b[0m \u001b[0mtopi\u001b[0m \u001b[0;34m=\u001b[0m \u001b[0mdec_out\u001b[0m\u001b[0;34m.\u001b[0m\u001b[0mtopk\u001b[0m\u001b[0;34m(\u001b[0m\u001b[0;36m1\u001b[0m\u001b[0;34m)\u001b[0m\u001b[0;34m\u001b[0m\u001b[0m\n\u001b[1;32m     31\u001b[0m         \u001b[0mdec_in\u001b[0m \u001b[0;34m=\u001b[0m \u001b[0mtopi\u001b[0m\u001b[0;34m.\u001b[0m\u001b[0mdetach\u001b[0m\u001b[0;34m(\u001b[0m\u001b[0;34m)\u001b[0m\u001b[0;34m\u001b[0m\u001b[0m\n",
      "\u001b[0;31mKeyboardInterrupt\u001b[0m: "
     ]
    }
   ],
   "source": [
    "loader = l.loaders['train']\n",
    "m.encoder.eval()\n",
    "m.decoder.eval()\n",
    "loss = 0\n",
    "mem_used_list = []\n",
    "tensor_length_list = []\n",
    "current_t = []\n",
    "for i, (src, tgt, slen, tlen) in tqdm(enumerate(loader)):\n",
    "    batch_loss = 0\n",
    "    batch_size = src.size()[0]\n",
    "    # encoding\n",
    "    enc_last_hidden = m.encoder(src, slen)\n",
    "    # decoding\n",
    "    dec_in = torch.LongTensor([SOS_IDX] * batch_size).unsqueeze(1).to(DEVICE)\n",
    "    for t in range(tgt.size(1)):  # seq_len axis\n",
    "        # tensor length\n",
    "        tensor_length_list.append(tgt.size(1)) \n",
    "        \n",
    "        # which time step?\n",
    "        current_t.append(t)\n",
    "            \n",
    "        # memory:\n",
    "        mem_used = torch.cuda.memory_allocated(int(str(DEVICE)[-1])) / 1024 / 1024\n",
    "        mem_used_list.append(mem_used)\n",
    "        \n",
    "        \n",
    "        dec_out = m.decoder(dec_in, enc_last_hidden)\n",
    "        batch_loss += criterion(dec_out, tgt[:, t], reduction='sum',\n",
    "                                ignore_index=PAD_IDX).item()\n",
    "        topv, topi = dec_out.topk(1)\n",
    "        dec_in = topi.detach()\n",
    "    batch_loss /= tgt.data.gt(0).sum().float()\n",
    "    loss += batch_loss.item()\n",
    "loss /= len(loader)"
   ]
  },
  {
   "cell_type": "code",
   "execution_count": 20,
   "metadata": {},
   "outputs": [
    {
     "data": {
      "image/png": "[encoded data removed]",
      "text/plain": [
       "<Figure size 432x288 with 1 Axes>"
      ]
     },
     "metadata": {
      "needs_background": "light"
     },
     "output_type": "display_data"
    }
   ],
   "source": [
    "plt.plot(tensor_length_list)\n",
    "plt.show()"
   ]
  },
  {
   "cell_type": "code",
   "execution_count": 21,
   "metadata": {},
   "outputs": [
    {
     "data": {
      "image/png": "[encoded data removed]",
      "text/plain": [
       "<Figure size 432x288 with 1 Axes>"
      ]
     },
     "metadata": {
      "needs_background": "light"
     },
     "output_type": "display_data"
    }
   ],
   "source": [
    "plt.plot(mem_used_list)\n",
    "plt.show()"
   ]
  },
  {
   "cell_type": "code",
   "execution_count": 22,
   "metadata": {},
   "outputs": [
    {
     "data": {
      "image/png": "[encoded data removed]",
      "text/plain": [
       "<Figure size 432x288 with 1 Axes>"
      ]
     },
     "metadata": {
      "needs_background": "light"
     },
     "output_type": "display_data"
    }
   ],
   "source": [
    "plt.plot(current_t)\n",
    "plt.show()"
   ]
  },
  {
   "cell_type": "code",
   "execution_count": null,
   "metadata": {},
   "outputs": [],
   "source": []
  }
 ],
 "metadata": {
  "kernelspec": {
   "display_name": "Python 3",
   "language": "python",
   "name": "python3"
  },
  "language_info": {
   "codemirror_mode": {
    "name": "ipython",
    "version": 3
   },
   "file_extension": ".py",
   "mimetype": "text/x-python",
   "name": "python",
   "nbconvert_exporter": "python",
   "pygments_lexer": "ipython3",
   "version": "3.6.6"
  }
 },
 "nbformat": 4,
 "nbformat_minor": 2
}
