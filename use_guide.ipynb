{
 "cells": [
  {
   "cell_type": "markdown",
   "metadata": {},
   "source": [
    "### This is a use guide to demo the functionality in 0.3.1"
   ]
  },
  {
   "cell_type": "code",
   "execution_count": 1,
   "metadata": {},
   "outputs": [],
   "source": [
    "from config import basic_conf as conf\n",
    "from libs import ModelManager as mm\n",
    "from config.constants import HyperParamKey\n",
    "import logging\n",
    "\n",
    "import matplotlib.pyplot as plt\n",
    "%matplotlib inline"
   ]
  },
  {
   "cell_type": "markdown",
   "metadata": {},
   "source": [
    "## In order to use the text example please load your home work 1 data like this:\n",
    "\n",
    "![require_data](img/required_data.png)"
   ]
  },
  {
   "cell_type": "markdown",
   "metadata": {},
   "source": [
    "## 1. How to init the logger"
   ]
  },
  {
   "cell_type": "markdown",
   "metadata": {},
   "source": [
    "The first parameter when initializing logger will determine the log level for the rest of the session"
   ]
  },
  {
   "cell_type": "code",
   "execution_count": 2,
   "metadata": {
    "scrolled": true
   },
   "outputs": [
    {
     "name": "stdout",
     "output_type": "stream",
     "text": [
      "[2018-10-21 19:23:03] [INFO] Initializing Model Manager, version 0.3.1 ...\n",
      "[2018-10-21 19:23:03] [INFO] \n",
      "=== Models Available ===\n",
      "BagOfWords\n",
      "========================\n",
      "[2018-10-21 19:23:03] [INFO] \n",
      "=== Loaders Available ===\n",
      "IMDB\n",
      "========================\n",
      "[2018-10-21 19:23:03] [INFO] \n",
      "*********** Model Manager Details ***********\n",
      "-- self.hparams.num_epochs = 1\n",
      "-- self.hparams.lr = 0.01\n",
      "-- self.hparams.train_plus_val_size = 25000\n",
      "-- self.hparams.test_size = 25000\n",
      "-- self.hparams.val_size = 5000\n",
      "-- self.hparams.voc_size = 100000\n",
      "-- self.hparams.train_loop_check_freq = 100\n",
      "-- self.hparams.embedding_dim = 50\n",
      "-- self.hparams.batch_size = 32\n",
      "-- self.hparams.ngram_size = 2\n",
      "-- self.hparams.remove_punc = True\n",
      "-- self.hparams.check_early_stop = True\n",
      "-- self.hparams.es_look_back = 5\n",
      "-- self.hparams.es_req_prog = 0.01\n",
      "-- self.hparams.optim_enc = <class 'torch.optim.adam.Adam'>\n",
      "-- self.hparams.optim_dec = <class 'torch.optim.adam.Adam'>\n",
      "-- self.hparams.scheduler = <class 'torch.optim.lr_scheduler.ExponentialLR'>\n",
      "-- self.hparams.scheduler_gamma = 0.95\n",
      "-- self.hparams.criterion = <class 'torch.nn.modules.loss.CrossEntropyLoss'>\n",
      "-- self.cparams.save_best_model = True\n",
      "-- self.cparams.save_each_epoch = True\n",
      "-- self.cparams.test_path = data/aclImdb/test/\n",
      "-- self.cparams.train_path = data/aclImdb/train/\n",
      "-- self.cparams.model_saves = model_saves/\n",
      "-- self.lparams = None\n",
      "-- self.model = None\n",
      "-- self.dataloader = None\n",
      "-- self.results = []\n",
      "-- self.mode = notebook\n",
      "-- self.tqdm = <function tqdm_notebook at 0x7f7d7c83ab70>\n",
      "************ End of Model Manager Details ************\n"
     ]
    }
   ],
   "source": [
    "# in this example we init logger with level = INFO and see that the info logs get outputted\n",
    "conf.init_logger(logging.INFO, logfile=None)\n",
    "logger = logging.getLogger('__main__')\n",
    "mgr = mm.ModelManager(mode='notebook')"
   ]
  },
  {
   "cell_type": "code",
   "execution_count": 3,
   "metadata": {},
   "outputs": [],
   "source": [
    "# in this example we init logger with level = WARNING, we see that all the info logs are suppressed\n",
    "conf.init_logger(logging.WARNING, logfile=None)\n",
    "logger = logging.getLogger('__main__')\n",
    "mgr = mm.ModelManager(mode='notebook')"
   ]
  },
  {
   "cell_type": "markdown",
   "metadata": {},
   "source": [
    "The 2nd parameter in logger controls where the log file lives, by default this is mt.log in root\n",
    "\n",
    "If you pass None, like here, then no output will be written to the log file"
   ]
  },
  {
   "cell_type": "code",
   "execution_count": 4,
   "metadata": {
    "scrolled": true
   },
   "outputs": [
    {
     "name": "stdout",
     "output_type": "stream",
     "text": [
      "[2018-10-21 19:23:03] [INFO] Initializing Model Manager, version 0.3.1 ...\n",
      "[2018-10-21 19:23:03] [INFO] \n",
      "=== Models Available ===\n",
      "BagOfWords\n",
      "========================\n",
      "[2018-10-21 19:23:03] [INFO] \n",
      "=== Loaders Available ===\n",
      "IMDB\n",
      "========================\n",
      "[2018-10-21 19:23:03] [INFO] \n",
      "*********** Model Manager Details ***********\n",
      "-- self.hparams.num_epochs = 1\n",
      "-- self.hparams.lr = 0.01\n",
      "-- self.hparams.train_plus_val_size = 25000\n",
      "-- self.hparams.test_size = 25000\n",
      "-- self.hparams.val_size = 5000\n",
      "-- self.hparams.voc_size = 100000\n",
      "-- self.hparams.train_loop_check_freq = 100\n",
      "-- self.hparams.embedding_dim = 50\n",
      "-- self.hparams.batch_size = 32\n",
      "-- self.hparams.ngram_size = 2\n",
      "-- self.hparams.remove_punc = True\n",
      "-- self.hparams.check_early_stop = True\n",
      "-- self.hparams.es_look_back = 5\n",
      "-- self.hparams.es_req_prog = 0.01\n",
      "-- self.hparams.optim_enc = <class 'torch.optim.adam.Adam'>\n",
      "-- self.hparams.optim_dec = <class 'torch.optim.adam.Adam'>\n",
      "-- self.hparams.scheduler = <class 'torch.optim.lr_scheduler.ExponentialLR'>\n",
      "-- self.hparams.scheduler_gamma = 0.95\n",
      "-- self.hparams.criterion = <class 'torch.nn.modules.loss.CrossEntropyLoss'>\n",
      "-- self.cparams.save_best_model = True\n",
      "-- self.cparams.save_each_epoch = True\n",
      "-- self.cparams.test_path = data/aclImdb/test/\n",
      "-- self.cparams.train_path = data/aclImdb/train/\n",
      "-- self.cparams.model_saves = model_saves/\n",
      "-- self.lparams = None\n",
      "-- self.model = None\n",
      "-- self.dataloader = None\n",
      "-- self.results = []\n",
      "-- self.mode = notebook\n",
      "-- self.tqdm = <function tqdm_notebook at 0x7f7d7c83ab70>\n",
      "************ End of Model Manager Details ************\n"
     ]
    }
   ],
   "source": [
    "# in this example we init logger the default logfile='mt.log' parameter and see that the log was written to the file\n",
    "conf.init_logger(logging.INFO)\n",
    "logger = logging.getLogger('__main__')\n",
    "mgr = mm.ModelManager(mode='notebook')"
   ]
  },
  {
   "cell_type": "code",
   "execution_count": 5,
   "metadata": {},
   "outputs": [
    {
     "name": "stdout",
     "output_type": "stream",
     "text": [
      "[2018-10-21 13:13:59] [INFO] Initializing Model Manager, version 0.3.1 ...\r\n",
      "[2018-10-21 13:13:59] [INFO] \r\n",
      "=== Models Available ===\r\n",
      "BagOfWords\r\n",
      "========================\r\n",
      "[2018-10-21 13:13:59] [INFO] \r\n",
      "=== Loaders Available ===\r\n",
      "IMDB\r\n",
      "========================\r\n",
      "[2018-10-21 13:13:59] [INFO] \r\n"
     ]
    }
   ],
   "source": [
    "!head mt.log"
   ]
  },
  {
   "cell_type": "markdown",
   "metadata": {},
   "source": [
    "## 2. Initializing the Model Manager in notebook or console mode\n",
    "\n",
    "Since the tqdm handler works differently in notebook vs console, we had to branch the execution based on where we are working. Here I will initialize in in 'notebook' mode, by default it operates in console mode."
   ]
  },
  {
   "cell_type": "code",
   "execution_count": 6,
   "metadata": {},
   "outputs": [],
   "source": [
    "# let me first turn off the logging to mt.log\n",
    "conf.init_logger(logging.INFO, logfile=None)"
   ]
  },
  {
   "cell_type": "code",
   "execution_count": 7,
   "metadata": {
    "scrolled": true
   },
   "outputs": [
    {
     "name": "stdout",
     "output_type": "stream",
     "text": [
      "[2018-10-21 19:23:03] [INFO] Initializing Model Manager, version 0.3.1 ...\n",
      "[2018-10-21 19:23:03] [INFO] \n",
      "=== Models Available ===\n",
      "BagOfWords\n",
      "========================\n",
      "[2018-10-21 19:23:03] [INFO] \n",
      "=== Loaders Available ===\n",
      "IMDB\n",
      "========================\n",
      "[2018-10-21 19:23:03] [INFO] \n",
      "*********** Model Manager Details ***********\n",
      "-- self.hparams.num_epochs = 1\n",
      "-- self.hparams.lr = 0.01\n",
      "-- self.hparams.train_plus_val_size = 25000\n",
      "-- self.hparams.test_size = 25000\n",
      "-- self.hparams.val_size = 5000\n",
      "-- self.hparams.voc_size = 100000\n",
      "-- self.hparams.train_loop_check_freq = 100\n",
      "-- self.hparams.embedding_dim = 50\n",
      "-- self.hparams.batch_size = 32\n",
      "-- self.hparams.ngram_size = 2\n",
      "-- self.hparams.remove_punc = True\n",
      "-- self.hparams.check_early_stop = True\n",
      "-- self.hparams.es_look_back = 5\n",
      "-- self.hparams.es_req_prog = 0.01\n",
      "-- self.hparams.optim_enc = <class 'torch.optim.adam.Adam'>\n",
      "-- self.hparams.optim_dec = <class 'torch.optim.adam.Adam'>\n",
      "-- self.hparams.scheduler = <class 'torch.optim.lr_scheduler.ExponentialLR'>\n",
      "-- self.hparams.scheduler_gamma = 0.95\n",
      "-- self.hparams.criterion = <class 'torch.nn.modules.loss.CrossEntropyLoss'>\n",
      "-- self.cparams.save_best_model = True\n",
      "-- self.cparams.save_each_epoch = True\n",
      "-- self.cparams.test_path = data/aclImdb/test/\n",
      "-- self.cparams.train_path = data/aclImdb/train/\n",
      "-- self.cparams.model_saves = model_saves/\n",
      "-- self.lparams = None\n",
      "-- self.model = None\n",
      "-- self.dataloader = None\n",
      "-- self.results = []\n",
      "-- self.mode = notebook\n",
      "-- self.tqdm = <function tqdm_notebook at 0x7f7d7c83ab70>\n",
      "************ End of Model Manager Details ************\n"
     ]
    }
   ],
   "source": [
    "# this line inits the ModelManager, and puts all of the default parameters into memory\n",
    "# mode='notebook' is passed to initialize in notebook mode, if nothing is passed then, it goes in console mode\n",
    "mgr = mm.ModelManager(mode='notebook')"
   ]
  },
  {
   "cell_type": "markdown",
   "metadata": {},
   "source": [
    "### There are 3 types of parameters\n",
    "All of these parameters are passed into the Model constructor when creating a new_model\n",
    "\n",
    "- **Hyperparameters** (self.hparam): the standard hyperparameters used in your model, such as batch_size, embedding_dim, lr ... etc. (The keys are in config.constants.HyperParamKey)\n",
    "- **Control Parameters** (self.cparams): controls how the model in/out behaves, these will include paths, and controls for when the model runs the save routine, whether to save each new best model, or save each epoch, or both. (The keys are in config.constants.PathKey and ControlKey)\n",
    "- **Loader Parameters** (self.lparams): these are parameters that the model constructor will need to know to initialize, so far I found only the act_vocab_size was needed as when running the loader, even with a specified vocab size, the actual vocab size that gets loaded is dependent on what is in the data. Therefore these parameters can only be set after running the load routine. I've specified for the load routines to return a dict of key:param so that this variable can be set. (The keys are in config.constants.LoaderParamKey)"
   ]
  },
  {
   "cell_type": "markdown",
   "metadata": {},
   "source": [
    "### 3. Calling the data loader\n",
    "\n",
    "There is a register at mm.loaderRegister. It will contain a loader_list of available loaders and attributes with the names of the available loaders."
   ]
  },
  {
   "cell_type": "code",
   "execution_count": 8,
   "metadata": {},
   "outputs": [
    {
     "name": "stdout",
     "output_type": "stream",
     "text": [
      "\n",
      "=== Loaders Available ===\n",
      "IMDB\n",
      "========================\n"
     ]
    }
   ],
   "source": [
    "print(mm.loaderRegister.loader_list)"
   ]
  },
  {
   "cell_type": "markdown",
   "metadata": {},
   "source": [
    "To call the load function using a specifict loader, just give the ModelManager.load_data function the registry key for the loader:"
   ]
  },
  {
   "cell_type": "code",
   "execution_count": 9,
   "metadata": {},
   "outputs": [
    {
     "name": "stdout",
     "output_type": "stream",
     "text": [
      "[2018-10-21 19:23:03] [INFO] Loading data using IMDB ...\n",
      "[2018-10-21 19:23:04] [INFO] extracting ngrams from train/val set...\n"
     ]
    },
    {
     "data": {
      "application/vnd.jupyter.widget-view+json": {
       "model_id": "d5ce0a449ea5446ca0634c45e3ef7023",
       "version_major": 2,
       "version_minor": 0
      },
      "text/plain": [
       "HBox(children=(IntProgress(value=0, max=25000), HTML(value='')))"
      ]
     },
     "metadata": {},
     "output_type": "display_data"
    },
    {
     "name": "stdout",
     "output_type": "stream",
     "text": [
      "\n",
      "[2018-10-21 19:23:08] [INFO] extracting ngrams from test set...\n"
     ]
    },
    {
     "data": {
      "application/vnd.jupyter.widget-view+json": {
       "model_id": "86eab48d106c4837886721da00c099fb",
       "version_major": 2,
       "version_minor": 0
      },
      "text/plain": [
       "HBox(children=(IntProgress(value=0, max=25000), HTML(value='')))"
      ]
     },
     "metadata": {},
     "output_type": "display_data"
    },
    {
     "name": "stdout",
     "output_type": "stream",
     "text": [
      "\n",
      "[2018-10-21 19:23:11] [INFO] constructing ngram_indexer ...\n",
      "[2018-10-21 19:23:11] [INFO] indexer length 20000\n"
     ]
    },
    {
     "data": {
      "application/vnd.jupyter.widget-view+json": {
       "model_id": "2387e7008b734f239a6f6402e2f2b2df",
       "version_major": 2,
       "version_minor": 0
      },
      "text/plain": [
       "HBox(children=(IntProgress(value=0, max=20000), HTML(value='')))"
      ]
     },
     "metadata": {},
     "output_type": "display_data"
    },
    {
     "name": "stdout",
     "output_type": "stream",
     "text": [
      "\n",
      "[2018-10-21 19:23:15] [INFO] final vocal size: 100002\n",
      "[2018-10-21 19:23:15] [INFO] setting each dataset's token indexes\n",
      "[2018-10-21 19:23:20] [INFO] All DataLoader pipe ready: train, val, test in ModelManager.loader.loaders (dict)\n"
     ]
    }
   ],
   "source": [
    "mgr.load_data(mm.loaderRegister.IMDB)"
   ]
  },
  {
   "cell_type": "markdown",
   "metadata": {},
   "source": [
    "## 3b) Adding new dataloader handlers\n",
    "\n",
    "- add the implementation child class of libs.data_loaders.BaseLoader to libs.data_loaders\n",
    "- add the registry key to libs.data_loaders.registry\n",
    "\n",
    "A example dataloader used for homework 1 is provided in libs.data_loaders.ImdbLoader"
   ]
  },
  {
   "cell_type": "markdown",
   "metadata": {},
   "source": [
    "## 4. Initializing Models\n",
    "\n",
    "New models are initialized with the ModelManager.new_model function, the parameter is the key in the model registry. All of the parameters on the ModelManager is then passed to the Model constructor"
   ]
  },
  {
   "cell_type": "code",
   "execution_count": 10,
   "metadata": {},
   "outputs": [
    {
     "name": "stdout",
     "output_type": "stream",
     "text": [
      "\n",
      "=== Models Available ===\n",
      "BagOfWords\n",
      "========================\n"
     ]
    }
   ],
   "source": [
    "print(mm.modelRegister.model_list)"
   ]
  },
  {
   "cell_type": "code",
   "execution_count": 11,
   "metadata": {
    "scrolled": true
   },
   "outputs": [
    {
     "name": "stdout",
     "output_type": "stream",
     "text": [
      "[2018-10-21 19:23:20] [INFO] \n",
      "*********** Model: scratch Details ***********\n",
      "-- self.label = scratch\n",
      "-- self.hparams.num_epochs = 1\n",
      "-- self.hparams.lr = 0.01\n",
      "-- self.hparams.train_plus_val_size = 25000\n",
      "-- self.hparams.test_size = 25000\n",
      "-- self.hparams.val_size = 5000\n",
      "-- self.hparams.voc_size = 100000\n",
      "-- self.hparams.train_loop_check_freq = 100\n",
      "-- self.hparams.embedding_dim = 50\n",
      "-- self.hparams.batch_size = 32\n",
      "-- self.hparams.ngram_size = 2\n",
      "-- self.hparams.remove_punc = True\n",
      "-- self.hparams.check_early_stop = True\n",
      "-- self.hparams.es_look_back = 5\n",
      "-- self.hparams.es_req_prog = 0.01\n",
      "-- self.hparams.optim_enc = <class 'torch.optim.adam.Adam'>\n",
      "-- self.hparams.optim_dec = <class 'torch.optim.adam.Adam'>\n",
      "-- self.hparams.scheduler = <class 'torch.optim.lr_scheduler.ExponentialLR'>\n",
      "-- self.hparams.scheduler_gamma = 0.95\n",
      "-- self.hparams.criterion = <class 'torch.nn.modules.loss.CrossEntropyLoss'>\n",
      "-- self.lparams.act_vocab_size = 100002\n",
      "-- self.cparams.save_best_model = True\n",
      "-- self.cparams.save_each_epoch = True\n",
      "-- self.cparams.test_path = data/aclImdb/test/\n",
      "-- self.cparams.train_path = data/aclImdb/train/\n",
      "-- self.cparams.model_saves = model_saves/\n",
      "-- self.cparams.model_path = model_saves/scratch/\n",
      "-- self.cur_epoch = 0\n",
      "-- self.model = None\n",
      "-- self.optim = None\n",
      "-- self.scheduler = None\n",
      "-- self.iter_curves.train_acc = []\n",
      "-- self.iter_curves.train_loss = []\n",
      "-- self.iter_curves.val_acc = []\n",
      "-- self.iter_curves.val_loss = []\n",
      "-- self.epoch_curves.train_acc = []\n",
      "-- self.epoch_curves.train_loss = []\n",
      "-- self.epoch_curves.val_acc = []\n",
      "-- self.epoch_curves.val_loss = []\n",
      "-- self.output_dict.num_epochs = 1\n",
      "-- self.output_dict.lr = 0.01\n",
      "-- self.output_dict.train_plus_val_size = 25000\n",
      "-- self.output_dict.test_size = 25000\n",
      "-- self.output_dict.val_size = 5000\n",
      "-- self.output_dict.voc_size = 100000\n",
      "-- self.output_dict.train_loop_check_freq = 100\n",
      "-- self.output_dict.embedding_dim = 50\n",
      "-- self.output_dict.batch_size = 32\n",
      "-- self.output_dict.ngram_size = 2\n",
      "-- self.output_dict.remove_punc = True\n",
      "-- self.output_dict.check_early_stop = True\n",
      "-- self.output_dict.es_look_back = 5\n",
      "-- self.output_dict.es_req_prog = 0.01\n",
      "-- self.output_dict.optim_enc = <class 'torch.optim.adam.Adam'>\n",
      "-- self.output_dict.optim_dec = <class 'torch.optim.adam.Adam'>\n",
      "-- self.output_dict.scheduler = <class 'torch.optim.lr_scheduler.ExponentialLR'>\n",
      "-- self.output_dict.scheduler_gamma = 0.95\n",
      "-- self.output_dict.criterion = <class 'torch.nn.modules.loss.CrossEntropyLoss'>\n",
      "-- self.output_dict.act_vocab_size = 100002\n",
      "************ End of Model: scratch Details ************\n",
      "[2018-10-21 19:23:21] [INFO] New Model initialized: /scratch, all model output files will be saved here: model_saves/scratch/\n"
     ]
    }
   ],
   "source": [
    "mgr.new_model(mm.modelRegister.BagOfWords)"
   ]
  },
  {
   "cell_type": "markdown",
   "metadata": {},
   "source": [
    "## ** Important generalized concepts on Models:\n",
    "\n",
    "Each epoch is subdivided into \"iteration\" with each iteration as a collection of n batches. n is determined by the self.hparams.train_loop_check_freq parameter.\n",
    "\n",
    "The check_early_stop function is called for each iteration. \n",
    "\n",
    "The BaseModel class implements the basic training loop as well as save and load functions, save/load function folder is determined by the BaseModel.label property\n",
    "\n",
    "Each model will have 2 training curves: self.iter_curves is saved each training \"iteration\". self.epoch_curves is saved at each epoch\n",
    "\n",
    "the self.model property on the BaseModel or child model class should point to the graph (nn.Module) that implements forward and backward passing\n",
    "\n",
    "The child model class (in the example case: BagOfWords) should implement:\n",
    "- eval_model() which is a forward pass but in eval mode (no drop out, no autograd)\n",
    "- check_early_stop() which is called at each training iteration\n",
    "\n",
    "\n"
   ]
  },
  {
   "cell_type": "markdown",
   "metadata": {},
   "source": [
    "## 5. Running the training loop"
   ]
  },
  {
   "cell_type": "code",
   "execution_count": 12,
   "metadata": {},
   "outputs": [
    {
     "data": {
      "application/vnd.jupyter.widget-view+json": {
       "model_id": "5f6bda25caa245e0b9fffb7042d69636",
       "version_major": 2,
       "version_minor": 0
      },
      "text/plain": [
       "HBox(children=(IntProgress(value=0, max=1), HTML(value='')))"
      ]
     },
     "metadata": {},
     "output_type": "display_data"
    },
    {
     "name": "stdout",
     "output_type": "stream",
     "text": [
      "[2018-10-21 19:23:21] [INFO] stepped scheduler to epoch = 1\n",
      "[2018-10-21 19:23:23] [INFO] Ep:1/1, Bt:100/625, VAcc:79.74, VLoss:94.7, TAcc:82.28, TLoss:370.5, LR:0.0100\n",
      "[2018-10-21 19:23:26] [INFO] Ep:1/1, Bt:200/625, VAcc:85.40, VLoss:78.2, TAcc:89.36, TLoss:293.0, LR:0.0100\n",
      "[2018-10-21 19:23:28] [INFO] Ep:1/1, Bt:300/625, VAcc:85.86, VLoss:73.8, TAcc:91.73, TLoss:266.8, LR:0.0100\n",
      "[2018-10-21 19:23:31] [INFO] Ep:1/1, Bt:400/625, VAcc:87.54, VLoss:71.3, TAcc:93.91, TLoss:251.4, LR:0.0100\n",
      "[2018-10-21 19:23:33] [INFO] Ep:1/1, Bt:500/625, VAcc:88.24, VLoss:70.1, TAcc:95.76, TLoss:240.6, LR:0.0100\n",
      "[2018-10-21 19:23:36] [INFO] Ep:1/1, Bt:600/625, VAcc:89.42, VLoss:68.7, TAcc:97.50, TLoss:229.6, LR:0.0100\n",
      "\n",
      "[2018-10-21 19:23:40] [INFO] training completed, results collected ...\n"
     ]
    }
   ],
   "source": [
    "# here our hyperparameter for number of epoch was set only to 1, so the loop runs just 1 epoch\n",
    "mgr.train()"
   ]
  },
  {
   "cell_type": "markdown",
   "metadata": {},
   "source": [
    "since we have enabled saving at each epoch and each best, we should find 2 saved files:\n",
    "- model_saves/checkpoint.tar - saved after the last **completed** epoch\n",
    "- model_saves/model_best.tar - saved after a new best iteration was achieved (best on val acc)"
   ]
  },
  {
   "cell_type": "markdown",
   "metadata": {},
   "source": [
    "## 6. Saving and Loading"
   ]
  },
  {
   "cell_type": "code",
   "execution_count": 13,
   "metadata": {},
   "outputs": [],
   "source": [
    "# we can also explicitly save the model with a comment in markdown format, \n",
    "# and can override the default filename = 'checkpoint.tar'\n",
    "comment = \"\"\"\n",
    "## Trial 1\n",
    "\n",
    "I ran the basic training model for 1 iteration and wanted to demonstrate the save functionality\n",
    "\n",
    "**hope you all find this useful!**\n",
    "\"\"\"\n",
    "\n",
    "mgr.save_model(comment, fn='mysave.tar')"
   ]
  },
  {
   "cell_type": "markdown",
   "metadata": {},
   "source": [
    "This saves the model to model_saves/<model_label>/ and adds a README.md with the comment in that folder - once checked in, the readme.md will be automatically rendered on github.\n",
    "\n",
    "In this case, my label was the default \"scratch\" so the model was saved to model_saves/scratch/"
   ]
  },
  {
   "cell_type": "markdown",
   "metadata": {},
   "source": [
    "### 6b Loading\n",
    "\n",
    "If I wanted to continue to train that model, I can load it like this (first we'll clear the model)"
   ]
  },
  {
   "cell_type": "code",
   "execution_count": 14,
   "metadata": {},
   "outputs": [
    {
     "name": "stdout",
     "output_type": "stream",
     "text": [
      "[2018-10-21 19:25:03] [INFO] New Model initialized: /scratch, all model output files will be saved here: model_saves/scratch/\n",
      "[2018-10-21 19:25:03] [INFO] loading checkpoint at model_saves/scratch/checkpoint.tar\n",
      "[2018-10-21 19:25:03] [INFO] Successfully loaded checkpoint!\n"
     ]
    }
   ],
   "source": [
    "mgr.model = None  # gc-ing the existing model\n",
    "\n",
    "# reinit\n",
    "mgr.new_model(mm.modelRegister.BagOfWords, nolog=True)\n",
    "\n",
    "# loading state\n",
    "mgr.load_model(which_model='mysave.tar')"
   ]
  },
  {
   "cell_type": "markdown",
   "metadata": {},
   "source": [
    "### 6c. Continuing Training\n",
    "\n",
    "We can add more epochs to the model and continue to train it:\n",
    "\n",
    "**Note that the model continues where it left off in epoch 2!**"
   ]
  },
  {
   "cell_type": "code",
   "execution_count": 15,
   "metadata": {},
   "outputs": [
    {
     "name": "stdout",
     "output_type": "stream",
     "text": [
      "[2018-10-21 19:25:04] [INFO] added 2 to required epochs count. \n",
      "cur epoch=1, required epochs=3\n"
     ]
    }
   ],
   "source": [
    "mgr.model.add_epochs(2)"
   ]
  },
  {
   "cell_type": "code",
   "execution_count": 16,
   "metadata": {},
   "outputs": [
    {
     "data": {
      "application/vnd.jupyter.widget-view+json": {
       "model_id": "0e45e47d1c94488da802efcbef352118",
       "version_major": 2,
       "version_minor": 0
      },
      "text/plain": [
       "HBox(children=(IntProgress(value=0, max=2), HTML(value='')))"
      ]
     },
     "metadata": {},
     "output_type": "display_data"
    },
    {
     "name": "stdout",
     "output_type": "stream",
     "text": [
      "[2018-10-21 19:25:04] [INFO] stepped scheduler to epoch = 2\n",
      "[2018-10-21 19:25:07] [INFO] Ep:2/3, Bt:100/625, VAcc:88.84, VLoss:67.3, TAcc:97.58, TLoss:218.5, LR:0.0095\n",
      "[2018-10-21 19:25:09] [INFO] Ep:2/3, Bt:200/625, VAcc:89.62, VLoss:65.9, TAcc:98.23, TLoss:212.3, LR:0.0095\n",
      "[2018-10-21 19:25:11] [INFO] Ep:2/3, Bt:300/625, VAcc:89.34, VLoss:66.5, TAcc:98.45, TLoss:210.5, LR:0.0095\n",
      "[2018-10-21 19:25:14] [INFO] Ep:2/3, Bt:400/625, VAcc:89.38, VLoss:65.9, TAcc:99.06, TLoss:206.0, LR:0.0095\n",
      "[2018-10-21 19:25:16] [INFO] Ep:2/3, Bt:500/625, VAcc:89.02, VLoss:66.2, TAcc:99.32, TLoss:204.2, LR:0.0095\n",
      "[2018-10-21 19:25:19] [INFO] Ep:2/3, Bt:600/625, VAcc:89.12, VLoss:66.4, TAcc:99.73, TLoss:201.2, LR:0.0095\n",
      "[2018-10-21 19:25:21] [INFO] stepped scheduler to epoch = 3\n",
      "[2018-10-21 19:25:23] [INFO] Ep:3/3, Bt:100/625, VAcc:89.52, VLoss:65.5, TAcc:99.92, TLoss:198.7, LR:0.0090\n",
      "[2018-10-21 19:25:23] [INFO] --- stopping training due to early stop ---\n",
      "\n",
      "[2018-10-21 19:25:27] [INFO] training completed, results collected ...\n"
     ]
    }
   ],
   "source": [
    "mgr.train()"
   ]
  },
  {
   "cell_type": "markdown",
   "metadata": {},
   "source": [
    "## 7. Visualizing Training Curves\n",
    "\n",
    "I implemented a graph_training_curves() method just to see the training/val acc and loss in a graph\n",
    "\n",
    "If the ModelManager is in notebook mode, it will output results here, if console it will output results to the model folder: model_saves/<model_label>/\n",
    "\n",
    "It can graph either the iteration curves or the epoch curves: see below"
   ]
  },
  {
   "cell_type": "code",
   "execution_count": 17,
   "metadata": {},
   "outputs": [
    {
     "data": {
      "image/png": "[encoded data removed]",
      "text/plain": [
       "<Figure size 1080x504 with 2 Axes>"
      ]
     },
     "metadata": {
      "needs_background": "light"
     },
     "output_type": "display_data"
    }
   ],
   "source": [
    "mgr.graph_training_curves()  # no mode param defaults to iteration mode"
   ]
  },
  {
   "cell_type": "code",
   "execution_count": 18,
   "metadata": {},
   "outputs": [
    {
     "data": {
      "image/png": "[encoded data removed]",
      "text/plain": [
       "<Figure size 1080x504 with 2 Axes>"
      ]
     },
     "metadata": {
      "needs_background": "light"
     },
     "output_type": "display_data"
    }
   ],
   "source": [
    "mgr.graph_training_curves(mode=mgr.GRAPH_MODE_EPOCH)"
   ]
  },
  {
   "cell_type": "markdown",
   "metadata": {},
   "source": [
    "## 8. Reporting other training metrics back up to ModelManager\n",
    "\n",
    "models should collect their own results values in self.output_dict in {'field': value} format.\n",
    "\n",
    "After **each** mgr.train() call the ModelManager will collect these outputs\n",
    "\n",
    "you can use these results to do your hyperparameter optimization"
   ]
  },
  {
   "cell_type": "code",
   "execution_count": 19,
   "metadata": {},
   "outputs": [
    {
     "data": {
      "text/html": [
       "<div>\n",
       "<style scoped>\n",
       "    .dataframe tbody tr th:only-of-type {\n",
       "        vertical-align: middle;\n",
       "    }\n",
       "\n",
       "    .dataframe tbody tr th {\n",
       "        vertical-align: top;\n",
       "    }\n",
       "\n",
       "    .dataframe thead th {\n",
       "        text-align: right;\n",
       "    }\n",
       "</style>\n",
       "<table border=\"1\" class=\"dataframe\">\n",
       "  <thead>\n",
       "    <tr style=\"text-align: right;\">\n",
       "      <th></th>\n",
       "      <th>act_vocab_size</th>\n",
       "      <th>batch_size</th>\n",
       "      <th>best_val_acc</th>\n",
       "      <th>best_val_loss</th>\n",
       "      <th>check_early_stop</th>\n",
       "      <th>criterion</th>\n",
       "      <th>embedding_dim</th>\n",
       "      <th>es_look_back</th>\n",
       "      <th>es_req_prog</th>\n",
       "      <th>final_train_acc</th>\n",
       "      <th>...</th>\n",
       "      <th>optim_dec</th>\n",
       "      <th>optim_enc</th>\n",
       "      <th>remove_punc</th>\n",
       "      <th>scheduler</th>\n",
       "      <th>scheduler_gamma</th>\n",
       "      <th>test_size</th>\n",
       "      <th>train_loop_check_freq</th>\n",
       "      <th>train_plus_val_size</th>\n",
       "      <th>val_size</th>\n",
       "      <th>voc_size</th>\n",
       "    </tr>\n",
       "  </thead>\n",
       "  <tbody>\n",
       "    <tr>\n",
       "      <th>0</th>\n",
       "      <td>100002</td>\n",
       "      <td>32</td>\n",
       "      <td>89.42</td>\n",
       "      <td>68.721974</td>\n",
       "      <td>True</td>\n",
       "      <td>&lt;class 'torch.nn.modules.loss.CrossEntropyLoss'&gt;</td>\n",
       "      <td>50</td>\n",
       "      <td>5</td>\n",
       "      <td>0.01</td>\n",
       "      <td>97.685</td>\n",
       "      <td>...</td>\n",
       "      <td>&lt;class 'torch.optim.adam.Adam'&gt;</td>\n",
       "      <td>&lt;class 'torch.optim.adam.Adam'&gt;</td>\n",
       "      <td>True</td>\n",
       "      <td>&lt;class 'torch.optim.lr_scheduler.ExponentialLR'&gt;</td>\n",
       "      <td>0.95</td>\n",
       "      <td>25000</td>\n",
       "      <td>100</td>\n",
       "      <td>25000</td>\n",
       "      <td>5000</td>\n",
       "      <td>100000</td>\n",
       "    </tr>\n",
       "    <tr>\n",
       "      <th>1</th>\n",
       "      <td>100002</td>\n",
       "      <td>32</td>\n",
       "      <td>89.62</td>\n",
       "      <td>65.945322</td>\n",
       "      <td>True</td>\n",
       "      <td>&lt;class 'torch.nn.modules.loss.CrossEntropyLoss'&gt;</td>\n",
       "      <td>50</td>\n",
       "      <td>5</td>\n",
       "      <td>0.01</td>\n",
       "      <td>99.925</td>\n",
       "      <td>...</td>\n",
       "      <td>&lt;class 'torch.optim.adam.Adam'&gt;</td>\n",
       "      <td>&lt;class 'torch.optim.adam.Adam'&gt;</td>\n",
       "      <td>True</td>\n",
       "      <td>&lt;class 'torch.optim.lr_scheduler.ExponentialLR'&gt;</td>\n",
       "      <td>0.95</td>\n",
       "      <td>25000</td>\n",
       "      <td>100</td>\n",
       "      <td>25000</td>\n",
       "      <td>5000</td>\n",
       "      <td>100000</td>\n",
       "    </tr>\n",
       "  </tbody>\n",
       "</table>\n",
       "<p>2 rows × 26 columns</p>\n",
       "</div>"
      ],
      "text/plain": [
       "   act_vocab_size  batch_size  best_val_acc  best_val_loss  check_early_stop  \\\n",
       "0          100002          32         89.42      68.721974              True   \n",
       "1          100002          32         89.62      65.945322              True   \n",
       "\n",
       "                                          criterion  embedding_dim  \\\n",
       "0  <class 'torch.nn.modules.loss.CrossEntropyLoss'>             50   \n",
       "1  <class 'torch.nn.modules.loss.CrossEntropyLoss'>             50   \n",
       "\n",
       "   es_look_back  es_req_prog  final_train_acc   ...     \\\n",
       "0             5         0.01           97.685   ...      \n",
       "1             5         0.01           99.925   ...      \n",
       "\n",
       "                         optim_dec                        optim_enc  \\\n",
       "0  <class 'torch.optim.adam.Adam'>  <class 'torch.optim.adam.Adam'>   \n",
       "1  <class 'torch.optim.adam.Adam'>  <class 'torch.optim.adam.Adam'>   \n",
       "\n",
       "   remove_punc                                         scheduler  \\\n",
       "0         True  <class 'torch.optim.lr_scheduler.ExponentialLR'>   \n",
       "1         True  <class 'torch.optim.lr_scheduler.ExponentialLR'>   \n",
       "\n",
       "   scheduler_gamma  test_size train_loop_check_freq train_plus_val_size  \\\n",
       "0             0.95      25000                   100               25000   \n",
       "1             0.95      25000                   100               25000   \n",
       "\n",
       "   val_size voc_size  \n",
       "0      5000   100000  \n",
       "1      5000   100000  \n",
       "\n",
       "[2 rows x 26 columns]"
      ]
     },
     "execution_count": 19,
     "metadata": {},
     "output_type": "execute_result"
    }
   ],
   "source": [
    "mgr.get_results()"
   ]
  },
  {
   "cell_type": "markdown",
   "metadata": {},
   "source": [
    "## 9. Comprehensive example of training multiple models and collecting results:"
   ]
  },
  {
   "cell_type": "code",
   "execution_count": 20,
   "metadata": {
    "scrolled": true
   },
   "outputs": [
    {
     "name": "stdout",
     "output_type": "stream",
     "text": [
      "[2018-10-21 19:25:27] [INFO] Initializing Model Manager, version 0.3.1 ...\n",
      "[2018-10-21 19:25:27] [INFO] \n",
      "=== Models Available ===\n",
      "BagOfWords\n",
      "========================\n",
      "[2018-10-21 19:25:27] [INFO] \n",
      "=== Loaders Available ===\n",
      "IMDB\n",
      "========================\n",
      "[2018-10-21 19:25:27] [INFO] \n",
      "*********** Model Manager Details ***********\n",
      "-- self.hparams.num_epochs = 1\n",
      "-- self.hparams.lr = 0.01\n",
      "-- self.hparams.train_plus_val_size = 25000\n",
      "-- self.hparams.test_size = 25000\n",
      "-- self.hparams.val_size = 5000\n",
      "-- self.hparams.voc_size = 100000\n",
      "-- self.hparams.train_loop_check_freq = 100\n",
      "-- self.hparams.embedding_dim = 50\n",
      "-- self.hparams.batch_size = 32\n",
      "-- self.hparams.ngram_size = 2\n",
      "-- self.hparams.remove_punc = True\n",
      "-- self.hparams.check_early_stop = True\n",
      "-- self.hparams.es_look_back = 5\n",
      "-- self.hparams.es_req_prog = 0.01\n",
      "-- self.hparams.optim_enc = <class 'torch.optim.adam.Adam'>\n",
      "-- self.hparams.optim_dec = <class 'torch.optim.adam.Adam'>\n",
      "-- self.hparams.scheduler = <class 'torch.optim.lr_scheduler.ExponentialLR'>\n",
      "-- self.hparams.scheduler_gamma = 0.95\n",
      "-- self.hparams.criterion = <class 'torch.nn.modules.loss.CrossEntropyLoss'>\n",
      "-- self.cparams.save_best_model = True\n",
      "-- self.cparams.save_each_epoch = True\n",
      "-- self.cparams.test_path = data/aclImdb/test/\n",
      "-- self.cparams.train_path = data/aclImdb/train/\n",
      "-- self.cparams.model_saves = model_saves/\n",
      "-- self.lparams = None\n",
      "-- self.model = None\n",
      "-- self.dataloader = None\n",
      "-- self.results = []\n",
      "-- self.mode = notebook\n",
      "-- self.tqdm = <function tqdm_notebook at 0x7f7d7c83ab70>\n",
      "************ End of Model Manager Details ************\n"
     ]
    }
   ],
   "source": [
    "# resetting the manager\n",
    "mgr = mm.ModelManager(mode='notebook')"
   ]
  },
  {
   "cell_type": "code",
   "execution_count": 21,
   "metadata": {
    "scrolled": true
   },
   "outputs": [
    {
     "name": "stdout",
     "output_type": "stream",
     "text": [
      "[2018-10-21 19:25:28] [INFO] Loading data using IMDB ...\n",
      "[2018-10-21 19:25:29] [INFO] extracting ngrams from train/val set...\n"
     ]
    },
    {
     "data": {
      "application/vnd.jupyter.widget-view+json": {
       "model_id": "08a377daf3994a9abb1300c92038d2dd",
       "version_major": 2,
       "version_minor": 0
      },
      "text/plain": [
       "HBox(children=(IntProgress(value=0, max=25000), HTML(value='')))"
      ]
     },
     "metadata": {},
     "output_type": "display_data"
    },
    {
     "name": "stdout",
     "output_type": "stream",
     "text": [
      "\n",
      "[2018-10-21 19:25:32] [INFO] extracting ngrams from test set...\n"
     ]
    },
    {
     "data": {
      "application/vnd.jupyter.widget-view+json": {
       "model_id": "0ccaf31e4eda4d4a87b08171d6aa0156",
       "version_major": 2,
       "version_minor": 0
      },
      "text/plain": [
       "HBox(children=(IntProgress(value=0, max=25000), HTML(value='')))"
      ]
     },
     "metadata": {},
     "output_type": "display_data"
    },
    {
     "name": "stdout",
     "output_type": "stream",
     "text": [
      "\n",
      "[2018-10-21 19:25:35] [INFO] constructing ngram_indexer ...\n",
      "[2018-10-21 19:25:35] [INFO] indexer length 20000\n"
     ]
    },
    {
     "data": {
      "application/vnd.jupyter.widget-view+json": {
       "model_id": "5df966eabec4449d8aba3d8ff6e0560b",
       "version_major": 2,
       "version_minor": 0
      },
      "text/plain": [
       "HBox(children=(IntProgress(value=0, max=20000), HTML(value='')))"
      ]
     },
     "metadata": {},
     "output_type": "display_data"
    },
    {
     "name": "stdout",
     "output_type": "stream",
     "text": [
      "\n",
      "[2018-10-21 19:25:39] [INFO] final vocal size: 100002\n",
      "[2018-10-21 19:25:39] [INFO] setting each dataset's token indexes\n",
      "[2018-10-21 19:25:44] [INFO] All DataLoader pipe ready: train, val, test in ModelManager.loader.loaders (dict)\n",
      "[2018-10-21 19:25:44] [INFO] \n",
      "*********** Model: scratch Details ***********\n",
      "-- self.label = scratch\n",
      "-- self.hparams.num_epochs = 1\n",
      "-- self.hparams.lr = 0.1\n",
      "-- self.hparams.train_plus_val_size = 25000\n",
      "-- self.hparams.test_size = 25000\n",
      "-- self.hparams.val_size = 5000\n",
      "-- self.hparams.voc_size = 100000\n",
      "-- self.hparams.train_loop_check_freq = 100\n",
      "-- self.hparams.embedding_dim = 50\n",
      "-- self.hparams.batch_size = 32\n",
      "-- self.hparams.ngram_size = 2\n",
      "-- self.hparams.remove_punc = True\n",
      "-- self.hparams.check_early_stop = True\n",
      "-- self.hparams.es_look_back = 5\n",
      "-- self.hparams.es_req_prog = 0.01\n",
      "-- self.hparams.optim_enc = <class 'torch.optim.adam.Adam'>\n",
      "-- self.hparams.optim_dec = <class 'torch.optim.adam.Adam'>\n",
      "-- self.hparams.scheduler = <class 'torch.optim.lr_scheduler.ExponentialLR'>\n",
      "-- self.hparams.scheduler_gamma = 0.95\n",
      "-- self.hparams.criterion = <class 'torch.nn.modules.loss.CrossEntropyLoss'>\n",
      "-- self.lparams.act_vocab_size = 100002\n",
      "-- self.cparams.save_best_model = True\n",
      "-- self.cparams.save_each_epoch = True\n",
      "-- self.cparams.test_path = data/aclImdb/test/\n",
      "-- self.cparams.train_path = data/aclImdb/train/\n",
      "-- self.cparams.model_saves = model_saves/\n",
      "-- self.cparams.model_path = model_saves/scratch/\n",
      "-- self.cur_epoch = 0\n",
      "-- self.model = None\n",
      "-- self.optim = None\n",
      "-- self.scheduler = None\n",
      "-- self.iter_curves.train_acc = []\n",
      "-- self.iter_curves.train_loss = []\n",
      "-- self.iter_curves.val_acc = []\n",
      "-- self.iter_curves.val_loss = []\n",
      "-- self.epoch_curves.train_acc = []\n",
      "-- self.epoch_curves.train_loss = []\n",
      "-- self.epoch_curves.val_acc = []\n",
      "-- self.epoch_curves.val_loss = []\n",
      "-- self.output_dict.num_epochs = 1\n",
      "-- self.output_dict.lr = 0.1\n",
      "-- self.output_dict.train_plus_val_size = 25000\n",
      "-- self.output_dict.test_size = 25000\n",
      "-- self.output_dict.val_size = 5000\n",
      "-- self.output_dict.voc_size = 100000\n",
      "-- self.output_dict.train_loop_check_freq = 100\n",
      "-- self.output_dict.embedding_dim = 50\n",
      "-- self.output_dict.batch_size = 32\n",
      "-- self.output_dict.ngram_size = 2\n",
      "-- self.output_dict.remove_punc = True\n",
      "-- self.output_dict.check_early_stop = True\n",
      "-- self.output_dict.es_look_back = 5\n",
      "-- self.output_dict.es_req_prog = 0.01\n",
      "-- self.output_dict.optim_enc = <class 'torch.optim.adam.Adam'>\n",
      "-- self.output_dict.optim_dec = <class 'torch.optim.adam.Adam'>\n",
      "-- self.output_dict.scheduler = <class 'torch.optim.lr_scheduler.ExponentialLR'>\n",
      "-- self.output_dict.scheduler_gamma = 0.95\n",
      "-- self.output_dict.criterion = <class 'torch.nn.modules.loss.CrossEntropyLoss'>\n",
      "-- self.output_dict.act_vocab_size = 100002\n",
      "************ End of Model: scratch Details ************\n",
      "[2018-10-21 19:25:44] [INFO] New Model initialized: /scratch, all model output files will be saved here: model_saves/scratch/\n"
     ]
    },
    {
     "data": {
      "application/vnd.jupyter.widget-view+json": {
       "model_id": "1bfb2ffadd9540739780d9fed0593666",
       "version_major": 2,
       "version_minor": 0
      },
      "text/plain": [
       "HBox(children=(IntProgress(value=0, max=1), HTML(value='')))"
      ]
     },
     "metadata": {},
     "output_type": "display_data"
    },
    {
     "name": "stdout",
     "output_type": "stream",
     "text": [
      "[2018-10-21 19:25:44] [INFO] stepped scheduler to epoch = 1\n",
      "[2018-10-21 19:25:47] [INFO] Ep:1/1, Bt:100/625, VAcc:85.22, VLoss:74.3, TAcc:87.96, TLoss:279.9, LR:0.1000\n",
      "[2018-10-21 19:25:50] [INFO] Ep:1/1, Bt:200/625, VAcc:86.16, VLoss:73.6, TAcc:90.60, TLoss:266.1, LR:0.1000\n",
      "[2018-10-21 19:25:52] [INFO] Ep:1/1, Bt:300/625, VAcc:87.96, VLoss:71.3, TAcc:93.74, TLoss:249.6, LR:0.1000\n",
      "[2018-10-21 19:25:55] [INFO] Ep:1/1, Bt:400/625, VAcc:88.16, VLoss:69.9, TAcc:95.67, TLoss:235.3, LR:0.1000\n",
      "[2018-10-21 19:25:57] [INFO] Ep:1/1, Bt:500/625, VAcc:87.24, VLoss:70.4, TAcc:96.64, TLoss:228.3, LR:0.1000\n",
      "[2018-10-21 19:26:00] [INFO] Ep:1/1, Bt:600/625, VAcc:87.64, VLoss:72.5, TAcc:98.56, TLoss:233.1, LR:0.1000\n",
      "\n",
      "[2018-10-21 19:26:04] [INFO] training completed, results collected ...\n",
      "[2018-10-21 19:26:04] [INFO] Loading data using IMDB ...\n",
      "[2018-10-21 19:26:06] [INFO] extracting ngrams from train/val set...\n"
     ]
    },
    {
     "data": {
      "application/vnd.jupyter.widget-view+json": {
       "model_id": "5d9b7eeb0047449d94eddd5c803a8032",
       "version_major": 2,
       "version_minor": 0
      },
      "text/plain": [
       "HBox(children=(IntProgress(value=0, max=25000), HTML(value='')))"
      ]
     },
     "metadata": {},
     "output_type": "display_data"
    },
    {
     "name": "stdout",
     "output_type": "stream",
     "text": [
      "\n",
      "[2018-10-21 19:26:09] [INFO] extracting ngrams from test set...\n"
     ]
    },
    {
     "data": {
      "application/vnd.jupyter.widget-view+json": {
       "model_id": "ffb884e2c0d44bf9a350a1b7595b7fe4",
       "version_major": 2,
       "version_minor": 0
      },
      "text/plain": [
       "HBox(children=(IntProgress(value=0, max=25000), HTML(value='')))"
      ]
     },
     "metadata": {},
     "output_type": "display_data"
    },
    {
     "name": "stdout",
     "output_type": "stream",
     "text": [
      "\n",
      "[2018-10-21 19:26:12] [INFO] constructing ngram_indexer ...\n",
      "[2018-10-21 19:26:12] [INFO] indexer length 20000\n"
     ]
    },
    {
     "data": {
      "application/vnd.jupyter.widget-view+json": {
       "model_id": "78a21025ce7d4c8ca4921f4499476fe8",
       "version_major": 2,
       "version_minor": 0
      },
      "text/plain": [
       "HBox(children=(IntProgress(value=0, max=20000), HTML(value='')))"
      ]
     },
     "metadata": {},
     "output_type": "display_data"
    },
    {
     "name": "stdout",
     "output_type": "stream",
     "text": [
      "\n",
      "[2018-10-21 19:26:16] [INFO] final vocal size: 100002\n",
      "[2018-10-21 19:26:16] [INFO] setting each dataset's token indexes\n",
      "[2018-10-21 19:26:21] [INFO] All DataLoader pipe ready: train, val, test in ModelManager.loader.loaders (dict)\n",
      "[2018-10-21 19:26:21] [INFO] \n",
      "*********** Model: scratch Details ***********\n",
      "-- self.label = scratch\n",
      "-- self.hparams.num_epochs = 2\n",
      "-- self.hparams.lr = 0.1\n",
      "-- self.hparams.train_plus_val_size = 25000\n",
      "-- self.hparams.test_size = 25000\n",
      "-- self.hparams.val_size = 5000\n",
      "-- self.hparams.voc_size = 100000\n",
      "-- self.hparams.train_loop_check_freq = 100\n",
      "-- self.hparams.embedding_dim = 50\n",
      "-- self.hparams.batch_size = 32\n",
      "-- self.hparams.ngram_size = 2\n",
      "-- self.hparams.remove_punc = True\n",
      "-- self.hparams.check_early_stop = True\n",
      "-- self.hparams.es_look_back = 5\n",
      "-- self.hparams.es_req_prog = 0.01\n",
      "-- self.hparams.optim_enc = <class 'torch.optim.adam.Adam'>\n",
      "-- self.hparams.optim_dec = <class 'torch.optim.adam.Adam'>\n",
      "-- self.hparams.scheduler = <class 'torch.optim.lr_scheduler.ExponentialLR'>\n",
      "-- self.hparams.scheduler_gamma = 0.95\n",
      "-- self.hparams.criterion = <class 'torch.nn.modules.loss.CrossEntropyLoss'>\n",
      "-- self.lparams.act_vocab_size = 100002\n",
      "-- self.cparams.save_best_model = True\n",
      "-- self.cparams.save_each_epoch = True\n",
      "-- self.cparams.test_path = data/aclImdb/test/\n",
      "-- self.cparams.train_path = data/aclImdb/train/\n",
      "-- self.cparams.model_saves = model_saves/\n",
      "-- self.cparams.model_path = model_saves/scratch/\n",
      "-- self.cur_epoch = 0\n",
      "-- self.model = None\n",
      "-- self.optim = None\n",
      "-- self.scheduler = None\n",
      "-- self.iter_curves.train_acc = []\n",
      "-- self.iter_curves.train_loss = []\n",
      "-- self.iter_curves.val_acc = []\n",
      "-- self.iter_curves.val_loss = []\n",
      "-- self.epoch_curves.train_acc = []\n",
      "-- self.epoch_curves.train_loss = []\n",
      "-- self.epoch_curves.val_acc = []\n",
      "-- self.epoch_curves.val_loss = []\n",
      "-- self.output_dict.num_epochs = 2\n",
      "-- self.output_dict.lr = 0.1\n",
      "-- self.output_dict.train_plus_val_size = 25000\n",
      "-- self.output_dict.test_size = 25000\n",
      "-- self.output_dict.val_size = 5000\n",
      "-- self.output_dict.voc_size = 100000\n",
      "-- self.output_dict.train_loop_check_freq = 100\n",
      "-- self.output_dict.embedding_dim = 50\n",
      "-- self.output_dict.batch_size = 32\n",
      "-- self.output_dict.ngram_size = 2\n",
      "-- self.output_dict.remove_punc = True\n",
      "-- self.output_dict.check_early_stop = True\n",
      "-- self.output_dict.es_look_back = 5\n",
      "-- self.output_dict.es_req_prog = 0.01\n",
      "-- self.output_dict.optim_enc = <class 'torch.optim.adam.Adam'>\n",
      "-- self.output_dict.optim_dec = <class 'torch.optim.adam.Adam'>\n",
      "-- self.output_dict.scheduler = <class 'torch.optim.lr_scheduler.ExponentialLR'>\n",
      "-- self.output_dict.scheduler_gamma = 0.95\n",
      "-- self.output_dict.criterion = <class 'torch.nn.modules.loss.CrossEntropyLoss'>\n",
      "-- self.output_dict.act_vocab_size = 100002\n",
      "************ End of Model: scratch Details ************\n",
      "[2018-10-21 19:26:21] [INFO] New Model initialized: /scratch, all model output files will be saved here: model_saves/scratch/\n"
     ]
    },
    {
     "data": {
      "application/vnd.jupyter.widget-view+json": {
       "model_id": "f8dd9b64a6894394ac949788166df322",
       "version_major": 2,
       "version_minor": 0
      },
      "text/plain": [
       "HBox(children=(IntProgress(value=0, max=2), HTML(value='')))"
      ]
     },
     "metadata": {},
     "output_type": "display_data"
    },
    {
     "name": "stdout",
     "output_type": "stream",
     "text": [
      "[2018-10-21 19:26:21] [INFO] stepped scheduler to epoch = 1\n",
      "[2018-10-21 19:26:24] [INFO] Ep:1/2, Bt:100/625, VAcc:85.34, VLoss:73.8, TAcc:88.09, TLoss:277.6, LR:0.1000\n",
      "[2018-10-21 19:26:26] [INFO] Ep:1/2, Bt:200/625, VAcc:86.86, VLoss:71.7, TAcc:91.00, TLoss:258.8, LR:0.1000\n",
      "[2018-10-21 19:26:28] [INFO] Ep:1/2, Bt:300/625, VAcc:88.08, VLoss:69.7, TAcc:93.46, TLoss:243.6, LR:0.1000\n",
      "[2018-10-21 19:26:31] [INFO] Ep:1/2, Bt:400/625, VAcc:87.24, VLoss:70.8, TAcc:94.88, TLoss:237.7, LR:0.1000\n",
      "[2018-10-21 19:26:33] [INFO] Ep:1/2, Bt:500/625, VAcc:88.24, VLoss:68.9, TAcc:97.03, TLoss:224.3, LR:0.1000\n",
      "[2018-10-21 19:26:36] [INFO] Ep:1/2, Bt:600/625, VAcc:86.36, VLoss:73.6, TAcc:97.78, TLoss:238.1, LR:0.1000\n",
      "[2018-10-21 19:26:38] [INFO] stepped scheduler to epoch = 2\n",
      "[2018-10-21 19:26:40] [INFO] Ep:2/2, Bt:100/625, VAcc:87.88, VLoss:67.2, TAcc:99.07, TLoss:202.7, LR:0.0950\n",
      "[2018-10-21 19:26:43] [INFO] Ep:2/2, Bt:200/625, VAcc:88.44, VLoss:66.6, TAcc:99.40, TLoss:200.5, LR:0.0950\n",
      "[2018-10-21 19:26:45] [INFO] Ep:2/2, Bt:300/625, VAcc:88.38, VLoss:66.5, TAcc:99.58, TLoss:199.5, LR:0.0950\n",
      "[2018-10-21 19:26:48] [INFO] Ep:2/2, Bt:400/625, VAcc:88.04, VLoss:66.9, TAcc:99.63, TLoss:198.8, LR:0.0950\n",
      "[2018-10-21 19:26:50] [INFO] Ep:2/2, Bt:500/625, VAcc:88.26, VLoss:67.0, TAcc:99.72, TLoss:198.6, LR:0.0950\n",
      "[2018-10-21 19:26:53] [INFO] Ep:2/2, Bt:600/625, VAcc:88.10, VLoss:67.2, TAcc:99.80, TLoss:198.0, LR:0.0950\n",
      "\n",
      "[2018-10-21 19:26:57] [INFO] training completed, results collected ...\n",
      "[2018-10-21 19:26:57] [INFO] Loading data using IMDB ...\n",
      "[2018-10-21 19:26:59] [INFO] extracting ngrams from train/val set...\n"
     ]
    },
    {
     "data": {
      "application/vnd.jupyter.widget-view+json": {
       "model_id": "fefab5d58781498a9547869a4da7e27e",
       "version_major": 2,
       "version_minor": 0
      },
      "text/plain": [
       "HBox(children=(IntProgress(value=0, max=25000), HTML(value='')))"
      ]
     },
     "metadata": {},
     "output_type": "display_data"
    },
    {
     "name": "stdout",
     "output_type": "stream",
     "text": [
      "\n",
      "[2018-10-21 19:27:02] [INFO] extracting ngrams from test set...\n"
     ]
    },
    {
     "data": {
      "application/vnd.jupyter.widget-view+json": {
       "model_id": "93260c82456a45aeb18c2482b258fa22",
       "version_major": 2,
       "version_minor": 0
      },
      "text/plain": [
       "HBox(children=(IntProgress(value=0, max=25000), HTML(value='')))"
      ]
     },
     "metadata": {},
     "output_type": "display_data"
    },
    {
     "name": "stdout",
     "output_type": "stream",
     "text": [
      "\n",
      "[2018-10-21 19:27:05] [INFO] constructing ngram_indexer ...\n",
      "[2018-10-21 19:27:05] [INFO] indexer length 20000\n"
     ]
    },
    {
     "data": {
      "application/vnd.jupyter.widget-view+json": {
       "model_id": "c04798f3e68641c2b363452fcccb7f70",
       "version_major": 2,
       "version_minor": 0
      },
      "text/plain": [
       "HBox(children=(IntProgress(value=0, max=20000), HTML(value='')))"
      ]
     },
     "metadata": {},
     "output_type": "display_data"
    },
    {
     "name": "stdout",
     "output_type": "stream",
     "text": [
      "\n",
      "[2018-10-21 19:27:10] [INFO] final vocal size: 100002\n",
      "[2018-10-21 19:27:10] [INFO] setting each dataset's token indexes\n",
      "[2018-10-21 19:27:14] [INFO] All DataLoader pipe ready: train, val, test in ModelManager.loader.loaders (dict)\n",
      "[2018-10-21 19:27:14] [INFO] \n",
      "*********** Model: scratch Details ***********\n",
      "-- self.label = scratch\n",
      "-- self.hparams.num_epochs = 1\n",
      "-- self.hparams.lr = 0.01\n",
      "-- self.hparams.train_plus_val_size = 25000\n",
      "-- self.hparams.test_size = 25000\n",
      "-- self.hparams.val_size = 5000\n",
      "-- self.hparams.voc_size = 100000\n",
      "-- self.hparams.train_loop_check_freq = 100\n",
      "-- self.hparams.embedding_dim = 50\n",
      "-- self.hparams.batch_size = 32\n",
      "-- self.hparams.ngram_size = 2\n",
      "-- self.hparams.remove_punc = True\n",
      "-- self.hparams.check_early_stop = True\n",
      "-- self.hparams.es_look_back = 5\n",
      "-- self.hparams.es_req_prog = 0.01\n",
      "-- self.hparams.optim_enc = <class 'torch.optim.adam.Adam'>\n",
      "-- self.hparams.optim_dec = <class 'torch.optim.adam.Adam'>\n",
      "-- self.hparams.scheduler = <class 'torch.optim.lr_scheduler.ExponentialLR'>\n",
      "-- self.hparams.scheduler_gamma = 0.95\n",
      "-- self.hparams.criterion = <class 'torch.nn.modules.loss.CrossEntropyLoss'>\n",
      "-- self.lparams.act_vocab_size = 100002\n",
      "-- self.cparams.save_best_model = True\n",
      "-- self.cparams.save_each_epoch = True\n",
      "-- self.cparams.test_path = data/aclImdb/test/\n",
      "-- self.cparams.train_path = data/aclImdb/train/\n",
      "-- self.cparams.model_saves = model_saves/\n",
      "-- self.cparams.model_path = model_saves/scratch/\n",
      "-- self.cur_epoch = 0\n",
      "-- self.model = None\n",
      "-- self.optim = None\n",
      "-- self.scheduler = None\n",
      "-- self.iter_curves.train_acc = []\n",
      "-- self.iter_curves.train_loss = []\n",
      "-- self.iter_curves.val_acc = []\n",
      "-- self.iter_curves.val_loss = []\n",
      "-- self.epoch_curves.train_acc = []\n",
      "-- self.epoch_curves.train_loss = []\n",
      "-- self.epoch_curves.val_acc = []\n",
      "-- self.epoch_curves.val_loss = []\n",
      "-- self.output_dict.num_epochs = 1\n",
      "-- self.output_dict.lr = 0.01\n",
      "-- self.output_dict.train_plus_val_size = 25000\n",
      "-- self.output_dict.test_size = 25000\n",
      "-- self.output_dict.val_size = 5000\n",
      "-- self.output_dict.voc_size = 100000\n",
      "-- self.output_dict.train_loop_check_freq = 100\n",
      "-- self.output_dict.embedding_dim = 50\n",
      "-- self.output_dict.batch_size = 32\n",
      "-- self.output_dict.ngram_size = 2\n",
      "-- self.output_dict.remove_punc = True\n",
      "-- self.output_dict.check_early_stop = True\n",
      "-- self.output_dict.es_look_back = 5\n",
      "-- self.output_dict.es_req_prog = 0.01\n",
      "-- self.output_dict.optim_enc = <class 'torch.optim.adam.Adam'>\n",
      "-- self.output_dict.optim_dec = <class 'torch.optim.adam.Adam'>\n",
      "-- self.output_dict.scheduler = <class 'torch.optim.lr_scheduler.ExponentialLR'>\n",
      "-- self.output_dict.scheduler_gamma = 0.95\n",
      "-- self.output_dict.criterion = <class 'torch.nn.modules.loss.CrossEntropyLoss'>\n",
      "-- self.output_dict.act_vocab_size = 100002\n",
      "************ End of Model: scratch Details ************\n",
      "[2018-10-21 19:27:14] [INFO] New Model initialized: /scratch, all model output files will be saved here: model_saves/scratch/\n"
     ]
    },
    {
     "data": {
      "application/vnd.jupyter.widget-view+json": {
       "model_id": "1772ef54c28f4e6cbfc353637477fada",
       "version_major": 2,
       "version_minor": 0
      },
      "text/plain": [
       "HBox(children=(IntProgress(value=0, max=1), HTML(value='')))"
      ]
     },
     "metadata": {},
     "output_type": "display_data"
    },
    {
     "name": "stdout",
     "output_type": "stream",
     "text": [
      "[2018-10-21 19:27:14] [INFO] stepped scheduler to epoch = 1\n",
      "[2018-10-21 19:27:17] [INFO] Ep:1/1, Bt:100/625, VAcc:78.00, VLoss:93.4, TAcc:80.39, TLoss:364.9, LR:0.0100\n",
      "[2018-10-21 19:27:19] [INFO] Ep:1/1, Bt:200/625, VAcc:85.34, VLoss:78.2, TAcc:88.64, TLoss:293.4, LR:0.0100\n",
      "[2018-10-21 19:27:21] [INFO] Ep:1/1, Bt:300/625, VAcc:87.32, VLoss:73.2, TAcc:91.95, TLoss:266.7, LR:0.0100\n",
      "[2018-10-21 19:27:24] [INFO] Ep:1/1, Bt:400/625, VAcc:86.80, VLoss:72.1, TAcc:93.14, TLoss:254.4, LR:0.0100\n",
      "[2018-10-21 19:27:26] [INFO] Ep:1/1, Bt:500/625, VAcc:88.48, VLoss:70.0, TAcc:95.72, TLoss:240.1, LR:0.0100\n",
      "[2018-10-21 19:27:29] [INFO] Ep:1/1, Bt:600/625, VAcc:88.60, VLoss:69.3, TAcc:97.28, TLoss:231.9, LR:0.0100\n",
      "\n",
      "[2018-10-21 19:27:33] [INFO] training completed, results collected ...\n",
      "[2018-10-21 19:27:33] [INFO] Loading data using IMDB ...\n",
      "[2018-10-21 19:27:35] [INFO] extracting ngrams from train/val set...\n"
     ]
    },
    {
     "data": {
      "application/vnd.jupyter.widget-view+json": {
       "model_id": "cdf9216cb5204007b1cc559a59ade9bb",
       "version_major": 2,
       "version_minor": 0
      },
      "text/plain": [
       "HBox(children=(IntProgress(value=0, max=25000), HTML(value='')))"
      ]
     },
     "metadata": {},
     "output_type": "display_data"
    },
    {
     "name": "stdout",
     "output_type": "stream",
     "text": [
      "\n",
      "[2018-10-21 19:27:38] [INFO] extracting ngrams from test set...\n"
     ]
    },
    {
     "data": {
      "application/vnd.jupyter.widget-view+json": {
       "model_id": "bf6747192eaf4a9899647cc53a439db2",
       "version_major": 2,
       "version_minor": 0
      },
      "text/plain": [
       "HBox(children=(IntProgress(value=0, max=25000), HTML(value='')))"
      ]
     },
     "metadata": {},
     "output_type": "display_data"
    },
    {
     "name": "stdout",
     "output_type": "stream",
     "text": [
      "\n",
      "[2018-10-21 19:27:41] [INFO] constructing ngram_indexer ...\n",
      "[2018-10-21 19:27:41] [INFO] indexer length 20000\n"
     ]
    },
    {
     "data": {
      "application/vnd.jupyter.widget-view+json": {
       "model_id": "f2475a33ba324996895e755a01670f1c",
       "version_major": 2,
       "version_minor": 0
      },
      "text/plain": [
       "HBox(children=(IntProgress(value=0, max=20000), HTML(value='')))"
      ]
     },
     "metadata": {},
     "output_type": "display_data"
    },
    {
     "name": "stdout",
     "output_type": "stream",
     "text": [
      "\n",
      "[2018-10-21 19:27:45] [INFO] final vocal size: 100002\n",
      "[2018-10-21 19:27:45] [INFO] setting each dataset's token indexes\n",
      "[2018-10-21 19:27:50] [INFO] All DataLoader pipe ready: train, val, test in ModelManager.loader.loaders (dict)\n",
      "[2018-10-21 19:27:50] [INFO] \n",
      "*********** Model: scratch Details ***********\n",
      "-- self.label = scratch\n",
      "-- self.hparams.num_epochs = 2\n",
      "-- self.hparams.lr = 0.01\n",
      "-- self.hparams.train_plus_val_size = 25000\n",
      "-- self.hparams.test_size = 25000\n",
      "-- self.hparams.val_size = 5000\n",
      "-- self.hparams.voc_size = 100000\n",
      "-- self.hparams.train_loop_check_freq = 100\n",
      "-- self.hparams.embedding_dim = 50\n",
      "-- self.hparams.batch_size = 32\n",
      "-- self.hparams.ngram_size = 2\n",
      "-- self.hparams.remove_punc = True\n",
      "-- self.hparams.check_early_stop = True\n",
      "-- self.hparams.es_look_back = 5\n",
      "-- self.hparams.es_req_prog = 0.01\n",
      "-- self.hparams.optim_enc = <class 'torch.optim.adam.Adam'>\n",
      "-- self.hparams.optim_dec = <class 'torch.optim.adam.Adam'>\n",
      "-- self.hparams.scheduler = <class 'torch.optim.lr_scheduler.ExponentialLR'>\n",
      "-- self.hparams.scheduler_gamma = 0.95\n",
      "-- self.hparams.criterion = <class 'torch.nn.modules.loss.CrossEntropyLoss'>\n",
      "-- self.lparams.act_vocab_size = 100002\n",
      "-- self.cparams.save_best_model = True\n",
      "-- self.cparams.save_each_epoch = True\n",
      "-- self.cparams.test_path = data/aclImdb/test/\n",
      "-- self.cparams.train_path = data/aclImdb/train/\n",
      "-- self.cparams.model_saves = model_saves/\n",
      "-- self.cparams.model_path = model_saves/scratch/\n",
      "-- self.cur_epoch = 0\n",
      "-- self.model = None\n",
      "-- self.optim = None\n",
      "-- self.scheduler = None\n",
      "-- self.iter_curves.train_acc = []\n",
      "-- self.iter_curves.train_loss = []\n",
      "-- self.iter_curves.val_acc = []\n",
      "-- self.iter_curves.val_loss = []\n",
      "-- self.epoch_curves.train_acc = []\n",
      "-- self.epoch_curves.train_loss = []\n",
      "-- self.epoch_curves.val_acc = []\n",
      "-- self.epoch_curves.val_loss = []\n",
      "-- self.output_dict.num_epochs = 2\n",
      "-- self.output_dict.lr = 0.01\n",
      "-- self.output_dict.train_plus_val_size = 25000\n",
      "-- self.output_dict.test_size = 25000\n",
      "-- self.output_dict.val_size = 5000\n",
      "-- self.output_dict.voc_size = 100000\n",
      "-- self.output_dict.train_loop_check_freq = 100\n",
      "-- self.output_dict.embedding_dim = 50\n",
      "-- self.output_dict.batch_size = 32\n",
      "-- self.output_dict.ngram_size = 2\n",
      "-- self.output_dict.remove_punc = True\n",
      "-- self.output_dict.check_early_stop = True\n",
      "-- self.output_dict.es_look_back = 5\n",
      "-- self.output_dict.es_req_prog = 0.01\n",
      "-- self.output_dict.optim_enc = <class 'torch.optim.adam.Adam'>\n",
      "-- self.output_dict.optim_dec = <class 'torch.optim.adam.Adam'>\n",
      "-- self.output_dict.scheduler = <class 'torch.optim.lr_scheduler.ExponentialLR'>\n",
      "-- self.output_dict.scheduler_gamma = 0.95\n",
      "-- self.output_dict.criterion = <class 'torch.nn.modules.loss.CrossEntropyLoss'>\n",
      "-- self.output_dict.act_vocab_size = 100002\n",
      "************ End of Model: scratch Details ************\n",
      "[2018-10-21 19:27:50] [INFO] New Model initialized: /scratch, all model output files will be saved here: model_saves/scratch/\n"
     ]
    },
    {
     "data": {
      "application/vnd.jupyter.widget-view+json": {
       "model_id": "c98b4888b03e4a98baf33d57dd8a181b",
       "version_major": 2,
       "version_minor": 0
      },
      "text/plain": [
       "HBox(children=(IntProgress(value=0, max=2), HTML(value='')))"
      ]
     },
     "metadata": {},
     "output_type": "display_data"
    },
    {
     "name": "stdout",
     "output_type": "stream",
     "text": [
      "[2018-10-21 19:27:50] [INFO] stepped scheduler to epoch = 1\n",
      "[2018-10-21 19:27:52] [INFO] Ep:1/2, Bt:100/625, VAcc:78.80, VLoss:93.1, TAcc:81.79, TLoss:362.2, LR:0.0100\n",
      "[2018-10-21 19:27:55] [INFO] Ep:1/2, Bt:200/625, VAcc:85.22, VLoss:78.0, TAcc:88.89, TLoss:291.1, LR:0.0100\n",
      "[2018-10-21 19:27:57] [INFO] Ep:1/2, Bt:300/625, VAcc:86.94, VLoss:73.2, TAcc:92.31, TLoss:264.7, LR:0.0100\n",
      "[2018-10-21 19:28:00] [INFO] Ep:1/2, Bt:400/625, VAcc:87.32, VLoss:71.7, TAcc:93.90, TLoss:252.0, LR:0.0100\n",
      "[2018-10-21 19:28:02] [INFO] Ep:1/2, Bt:500/625, VAcc:88.50, VLoss:69.7, TAcc:95.86, TLoss:238.7, LR:0.0100\n",
      "[2018-10-21 19:28:05] [INFO] Ep:1/2, Bt:600/625, VAcc:88.44, VLoss:69.3, TAcc:97.22, TLoss:230.7, LR:0.0100\n",
      "[2018-10-21 19:28:07] [INFO] stepped scheduler to epoch = 2\n",
      "[2018-10-21 19:28:10] [INFO] Ep:2/2, Bt:100/625, VAcc:89.04, VLoss:67.7, TAcc:98.28, TLoss:219.5, LR:0.0095\n",
      "[2018-10-21 19:28:12] [INFO] Ep:2/2, Bt:200/625, VAcc:89.38, VLoss:67.0, TAcc:98.56, TLoss:214.3, LR:0.0095\n",
      "[2018-10-21 19:28:15] [INFO] Ep:2/2, Bt:300/625, VAcc:89.14, VLoss:66.7, TAcc:98.83, TLoss:210.6, LR:0.0095\n",
      "[2018-10-21 19:28:17] [INFO] Ep:2/2, Bt:400/625, VAcc:89.18, VLoss:66.4, TAcc:99.09, TLoss:207.9, LR:0.0095\n",
      "[2018-10-21 19:28:19] [INFO] Ep:2/2, Bt:500/625, VAcc:88.82, VLoss:66.9, TAcc:99.37, TLoss:205.6, LR:0.0095\n",
      "[2018-10-21 19:28:22] [INFO] Ep:2/2, Bt:600/625, VAcc:89.28, VLoss:66.3, TAcc:99.83, TLoss:201.6, LR:0.0095\n",
      "\n",
      "[2018-10-21 19:28:26] [INFO] training completed, results collected ...\n"
     ]
    },
    {
     "data": {
      "text/html": [
       "<div>\n",
       "<style scoped>\n",
       "    .dataframe tbody tr th:only-of-type {\n",
       "        vertical-align: middle;\n",
       "    }\n",
       "\n",
       "    .dataframe tbody tr th {\n",
       "        vertical-align: top;\n",
       "    }\n",
       "\n",
       "    .dataframe thead th {\n",
       "        text-align: right;\n",
       "    }\n",
       "</style>\n",
       "<table border=\"1\" class=\"dataframe\">\n",
       "  <thead>\n",
       "    <tr style=\"text-align: right;\">\n",
       "      <th></th>\n",
       "      <th>act_vocab_size</th>\n",
       "      <th>batch_size</th>\n",
       "      <th>best_val_acc</th>\n",
       "      <th>best_val_loss</th>\n",
       "      <th>check_early_stop</th>\n",
       "      <th>criterion</th>\n",
       "      <th>embedding_dim</th>\n",
       "      <th>es_look_back</th>\n",
       "      <th>es_req_prog</th>\n",
       "      <th>final_train_acc</th>\n",
       "      <th>...</th>\n",
       "      <th>optim_dec</th>\n",
       "      <th>optim_enc</th>\n",
       "      <th>remove_punc</th>\n",
       "      <th>scheduler</th>\n",
       "      <th>scheduler_gamma</th>\n",
       "      <th>test_size</th>\n",
       "      <th>train_loop_check_freq</th>\n",
       "      <th>train_plus_val_size</th>\n",
       "      <th>val_size</th>\n",
       "      <th>voc_size</th>\n",
       "    </tr>\n",
       "  </thead>\n",
       "  <tbody>\n",
       "    <tr>\n",
       "      <th>0</th>\n",
       "      <td>100002</td>\n",
       "      <td>32</td>\n",
       "      <td>88.16</td>\n",
       "      <td>69.880417</td>\n",
       "      <td>True</td>\n",
       "      <td>&lt;class 'torch.nn.modules.loss.CrossEntropyLoss'&gt;</td>\n",
       "      <td>50</td>\n",
       "      <td>5</td>\n",
       "      <td>0.01</td>\n",
       "      <td>97.660</td>\n",
       "      <td>...</td>\n",
       "      <td>&lt;class 'torch.optim.adam.Adam'&gt;</td>\n",
       "      <td>&lt;class 'torch.optim.adam.Adam'&gt;</td>\n",
       "      <td>True</td>\n",
       "      <td>&lt;class 'torch.optim.lr_scheduler.ExponentialLR'&gt;</td>\n",
       "      <td>0.95</td>\n",
       "      <td>25000</td>\n",
       "      <td>100</td>\n",
       "      <td>25000</td>\n",
       "      <td>5000</td>\n",
       "      <td>100000</td>\n",
       "    </tr>\n",
       "    <tr>\n",
       "      <th>1</th>\n",
       "      <td>100002</td>\n",
       "      <td>32</td>\n",
       "      <td>88.44</td>\n",
       "      <td>66.593614</td>\n",
       "      <td>True</td>\n",
       "      <td>&lt;class 'torch.nn.modules.loss.CrossEntropyLoss'&gt;</td>\n",
       "      <td>50</td>\n",
       "      <td>5</td>\n",
       "      <td>0.01</td>\n",
       "      <td>99.775</td>\n",
       "      <td>...</td>\n",
       "      <td>&lt;class 'torch.optim.adam.Adam'&gt;</td>\n",
       "      <td>&lt;class 'torch.optim.adam.Adam'&gt;</td>\n",
       "      <td>True</td>\n",
       "      <td>&lt;class 'torch.optim.lr_scheduler.ExponentialLR'&gt;</td>\n",
       "      <td>0.95</td>\n",
       "      <td>25000</td>\n",
       "      <td>100</td>\n",
       "      <td>25000</td>\n",
       "      <td>5000</td>\n",
       "      <td>100000</td>\n",
       "    </tr>\n",
       "    <tr>\n",
       "      <th>2</th>\n",
       "      <td>100002</td>\n",
       "      <td>32</td>\n",
       "      <td>88.60</td>\n",
       "      <td>69.308525</td>\n",
       "      <td>True</td>\n",
       "      <td>&lt;class 'torch.nn.modules.loss.CrossEntropyLoss'&gt;</td>\n",
       "      <td>50</td>\n",
       "      <td>5</td>\n",
       "      <td>0.01</td>\n",
       "      <td>97.360</td>\n",
       "      <td>...</td>\n",
       "      <td>&lt;class 'torch.optim.adam.Adam'&gt;</td>\n",
       "      <td>&lt;class 'torch.optim.adam.Adam'&gt;</td>\n",
       "      <td>True</td>\n",
       "      <td>&lt;class 'torch.optim.lr_scheduler.ExponentialLR'&gt;</td>\n",
       "      <td>0.95</td>\n",
       "      <td>25000</td>\n",
       "      <td>100</td>\n",
       "      <td>25000</td>\n",
       "      <td>5000</td>\n",
       "      <td>100000</td>\n",
       "    </tr>\n",
       "    <tr>\n",
       "      <th>3</th>\n",
       "      <td>100002</td>\n",
       "      <td>32</td>\n",
       "      <td>89.38</td>\n",
       "      <td>67.005429</td>\n",
       "      <td>True</td>\n",
       "      <td>&lt;class 'torch.nn.modules.loss.CrossEntropyLoss'&gt;</td>\n",
       "      <td>50</td>\n",
       "      <td>5</td>\n",
       "      <td>0.01</td>\n",
       "      <td>99.940</td>\n",
       "      <td>...</td>\n",
       "      <td>&lt;class 'torch.optim.adam.Adam'&gt;</td>\n",
       "      <td>&lt;class 'torch.optim.adam.Adam'&gt;</td>\n",
       "      <td>True</td>\n",
       "      <td>&lt;class 'torch.optim.lr_scheduler.ExponentialLR'&gt;</td>\n",
       "      <td>0.95</td>\n",
       "      <td>25000</td>\n",
       "      <td>100</td>\n",
       "      <td>25000</td>\n",
       "      <td>5000</td>\n",
       "      <td>100000</td>\n",
       "    </tr>\n",
       "  </tbody>\n",
       "</table>\n",
       "<p>4 rows × 26 columns</p>\n",
       "</div>"
      ],
      "text/plain": [
       "   act_vocab_size  batch_size  best_val_acc  best_val_loss  check_early_stop  \\\n",
       "0          100002          32         88.16      69.880417              True   \n",
       "1          100002          32         88.44      66.593614              True   \n",
       "2          100002          32         88.60      69.308525              True   \n",
       "3          100002          32         89.38      67.005429              True   \n",
       "\n",
       "                                          criterion  embedding_dim  \\\n",
       "0  <class 'torch.nn.modules.loss.CrossEntropyLoss'>             50   \n",
       "1  <class 'torch.nn.modules.loss.CrossEntropyLoss'>             50   \n",
       "2  <class 'torch.nn.modules.loss.CrossEntropyLoss'>             50   \n",
       "3  <class 'torch.nn.modules.loss.CrossEntropyLoss'>             50   \n",
       "\n",
       "   es_look_back  es_req_prog  final_train_acc   ...     \\\n",
       "0             5         0.01           97.660   ...      \n",
       "1             5         0.01           99.775   ...      \n",
       "2             5         0.01           97.360   ...      \n",
       "3             5         0.01           99.940   ...      \n",
       "\n",
       "                         optim_dec                        optim_enc  \\\n",
       "0  <class 'torch.optim.adam.Adam'>  <class 'torch.optim.adam.Adam'>   \n",
       "1  <class 'torch.optim.adam.Adam'>  <class 'torch.optim.adam.Adam'>   \n",
       "2  <class 'torch.optim.adam.Adam'>  <class 'torch.optim.adam.Adam'>   \n",
       "3  <class 'torch.optim.adam.Adam'>  <class 'torch.optim.adam.Adam'>   \n",
       "\n",
       "   remove_punc                                         scheduler  \\\n",
       "0         True  <class 'torch.optim.lr_scheduler.ExponentialLR'>   \n",
       "1         True  <class 'torch.optim.lr_scheduler.ExponentialLR'>   \n",
       "2         True  <class 'torch.optim.lr_scheduler.ExponentialLR'>   \n",
       "3         True  <class 'torch.optim.lr_scheduler.ExponentialLR'>   \n",
       "\n",
       "   scheduler_gamma  test_size train_loop_check_freq train_plus_val_size  \\\n",
       "0             0.95      25000                   100               25000   \n",
       "1             0.95      25000                   100               25000   \n",
       "2             0.95      25000                   100               25000   \n",
       "3             0.95      25000                   100               25000   \n",
       "\n",
       "   val_size voc_size  \n",
       "0      5000   100000  \n",
       "1      5000   100000  \n",
       "2      5000   100000  \n",
       "3      5000   100000  \n",
       "\n",
       "[4 rows x 26 columns]"
      ]
     },
     "execution_count": 21,
     "metadata": {},
     "output_type": "execute_result"
    }
   ],
   "source": [
    "# simple grid search\n",
    "lr_list = [0.1, 0.01]\n",
    "epoch_list = [1, 2]\n",
    "\n",
    "for lr in lr_list:\n",
    "    for epoch in epoch_list:\n",
    "        # update hparams\n",
    "        hparam_overrides = {HyperParamKey.LR:lr, HyperParamKey.NUM_EPOCH:epoch}\n",
    "        mgr.hparams.update(hparam_overrides)\n",
    "        \n",
    "        # load data is needed in the loop if the data loaded is dependant on hparams, otherwise can put outside\n",
    "        mgr.load_data(mm.loaderRegister.IMDB)  \n",
    "        \n",
    "        # reinits a model with\n",
    "        mgr.new_model(mm.modelRegister.BagOfWords)\n",
    "        \n",
    "        # trains and collects results\n",
    "        mgr.train()\n",
    "        \n",
    "        # free up memory\n",
    "        mgr.dump_model()  \n",
    "        \n",
    "mgr.get_results()"
   ]
  }
 ],
 "metadata": {
  "kernelspec": {
   "display_name": "Python 3",
   "language": "python",
   "name": "python3"
  },
  "language_info": {
   "codemirror_mode": {
    "name": "ipython",
    "version": 3
   },
   "file_extension": ".py",
   "mimetype": "text/x-python",
   "name": "python",
   "nbconvert_exporter": "python",
   "pygments_lexer": "ipython3",
   "version": "3.6.6"
  }
 },
 "nbformat": 4,
 "nbformat_minor": 2
}
