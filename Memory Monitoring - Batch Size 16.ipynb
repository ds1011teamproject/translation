{
 "cells": [
  {
   "cell_type": "markdown",
   "metadata": {},
   "source": [
    "# Sheet to visualize memory usage"
   ]
  },
  {
   "cell_type": "code",
   "execution_count": 1,
   "metadata": {},
   "outputs": [],
   "source": [
    "from config import basic_conf as conf\n",
    "from libs import ModelManager as mm\n",
    "from config.constants import HyperParamKey, PathKey\n",
    "import logging\n",
    "import numpy as np\n",
    "import pickle\n",
    "from importlib import reload\n",
    "\n",
    "import matplotlib.pyplot as plt\n",
    "%matplotlib inline"
   ]
  },
  {
   "cell_type": "code",
   "execution_count": 2,
   "metadata": {
    "scrolled": true
   },
   "outputs": [
    {
     "name": "stdout",
     "output_type": "stream",
     "text": [
      "[2018-11-18 11:59:37] [INFO] Initializing Model Manager, version 0.6.4 ...\n",
      "[2018-11-18 11:59:37] [INFO] \n",
      "=== Models Available ===\n",
      "RNN_GRU\n",
      "CNN\n",
      "========================\n",
      "[2018-11-18 11:59:37] [INFO] \n",
      "=== Loaders Available ===\n",
      "IWSLT\n",
      "========================\n",
      "[2018-11-18 11:59:37] [INFO] \n",
      "*********** Model Manager Details ***********\n",
      "-- self.hparams.voc_size = 100000\n",
      "-- self.hparams.use_ft_embeddings = False\n",
      "-- self.hparams.freeze_emb_vectors = False\n",
      "-- self.hparams.embedding_dim = 300\n",
      "-- self.hparams.hidden_size = 1000\n",
      "-- self.hparams.enc_layers = 1\n",
      "-- self.hparams.enc_directions = 1\n",
      "-- self.hparams.dec_layers = 1\n",
      "-- self.hparams.dec_directions = 1\n",
      "-- self.hparams.kernel_size = 3\n",
      "-- self.hparams.max_length = 100\n",
      "-- self.hparams.teacher_forching_ratio = 0.5\n",
      "-- self.hparams.num_epochs = 10\n",
      "-- self.hparams.enc_lr = 0.01\n",
      "-- self.hparams.dec_lr = 0.01\n",
      "-- self.hparams.batch_size = 16\n",
      "-- self.hparams.train_loop_check_freq = 100\n",
      "-- self.hparams.check_early_stop = False\n",
      "-- self.hparams.es_look_back = 5\n",
      "-- self.hparams.es_req_prog = 0.01\n",
      "-- self.hparams.no_improv_look_back = 25\n",
      "-- self.hparams.optim_method = <class 'torch.optim.adam.Adam'>\n",
      "-- self.hparams.scheduler = <class 'torch.optim.lr_scheduler.ExponentialLR'>\n",
      "-- self.hparams.scheduler_gamma = 0.95\n",
      "-- self.hparams.criterion = <function nll_loss at 0x7f7eb2755bf8>\n",
      "-- self.hparams.num_train_sent_to_load = -1\n",
      "-- self.cparams.save_best_model = True\n",
      "-- self.cparams.save_each_epoch = True\n",
      "-- self.cparams.input_lang = zh\n",
      "-- self.cparams.data_path = data/\n",
      "-- self.cparams.output_lang = en\n",
      "-- self.cparams.model_saves = model_saves/\n",
      "-- self.lparams = None\n",
      "-- self.model = None\n",
      "-- self.dataloader = None\n",
      "-- self.results = []\n",
      "-- self.mode = notebook\n",
      "-- self.tqdm = <function tqdm_notebook at 0x7f7e94a879d8>\n",
      "-- self.device = cuda:1\n",
      "************ End of Model Manager Details ************\n",
      "[2018-11-18 11:59:37] [INFO] Loading data using IWSLT ...\n",
      "[2018-11-18 11:59:37] [INFO] Get source language datum list...\n",
      "[2018-11-18 11:59:38] [INFO] Get target language datum list...\n",
      "[2018-11-18 11:59:39] [INFO] Vocabulary found and loaded! (token2id, id2token, vocabs)\n",
      "[2018-11-18 11:59:39] [INFO] Convert token to index for source language ...\n",
      "[2018-11-18 11:59:40] [INFO] Convert token to index for target language ...\n",
      "[2018-11-18 11:59:41] [INFO] Datum list loaded for both src/target languages!\n",
      "[2018-11-18 11:59:41] [INFO] Loading raw data into the DataLoaders ...\n"
     ]
    }
   ],
   "source": [
    "conf.init_logger(logging.DEBUG)\n",
    "logger = logging.getLogger('__main__')\n",
    "mgr = mm.ModelManager(mode='notebook')\n",
    "mgr.load_data(mm.loaderRegister.IWSLT)"
   ]
  },
  {
   "cell_type": "markdown",
   "metadata": {},
   "source": [
    "### getting some sentences out of the loaded data"
   ]
  },
  {
   "cell_type": "code",
   "execution_count": 3,
   "metadata": {},
   "outputs": [],
   "source": [
    "l = mgr.dataloader"
   ]
  },
  {
   "cell_type": "code",
   "execution_count": 4,
   "metadata": {},
   "outputs": [
    {
     "data": {
      "text/plain": [
       "213377"
      ]
     },
     "execution_count": 4,
     "metadata": {},
     "output_type": "execute_result"
    }
   ],
   "source": [
    "len(l.data['source']['train'])"
   ]
  },
  {
   "cell_type": "code",
   "execution_count": 5,
   "metadata": {},
   "outputs": [
    {
     "name": "stdout",
     "output_type": "stream",
     "text": [
      "[2, 1760, 34429, 125, 2375, 14873, 4960, 5, 2103, 40, 8, 1694, 10, 296, 119, 2033, 119, 20849, 199, 24, 4373, 1011, 5, 193, 3333, 4246, 103, 7, 612, 3408, 5, 5525, 15, 4277, 13316, 103, 17648, 1246, 19601, 18585, 1588, 129, 716, 1175, 5, 206, 3]\n",
      "['大卫', '盖罗', '通过', '潜水', '潜水艇', '拍下', '的', '影片', '把', '我们', '带到', '了', '地球', '最', '黑暗', '最', '险恶', '同时', '也', '最美', '美丽', '的', '生物', '栖息', '栖息地', '这里', '是', '海洋', '深处', '的', '峡谷', '和', '火山', '山脊', '这里', '怪诞', '适应', '适应力', '应力', '强', '而且', '数量', '惊人', '的', '生命']\n"
     ]
    }
   ],
   "source": [
    "print(l.data['source']['train'][1].token_indices)\n",
    "\n",
    "print(l.data['source']['train'][1].tokens)"
   ]
  },
  {
   "cell_type": "markdown",
   "metadata": {},
   "source": [
    "## Let's initialize our model and just do an approxmiate memory usage calc"
   ]
  },
  {
   "cell_type": "code",
   "execution_count": 6,
   "metadata": {},
   "outputs": [],
   "source": [
    "import torch\n",
    "from libs.data_loaders.IwsltLoader import SOS_IDX, PAD_IDX\n",
    "from config.basic_conf import DEVICE\n",
    "from libs.models import RNN_GRU\n",
    "from libs.models.RNN_GRU import _check_mem"
   ]
  },
  {
   "cell_type": "code",
   "execution_count": 7,
   "metadata": {},
   "outputs": [],
   "source": [
    "m = RNN_GRU.RNN_GRU(mgr.hparams,\n",
    "                   mgr.lparams,\n",
    "                   mgr.cparams)"
   ]
  },
  {
   "cell_type": "code",
   "execution_count": 8,
   "metadata": {},
   "outputs": [
    {
     "data": {
      "text/plain": [
       "Encoder(\n",
       "  (embed): Embedding(89754, 300, padding_idx=0)\n",
       "  (gru): GRU(300, 1000, batch_first=True)\n",
       ")"
      ]
     },
     "execution_count": 8,
     "metadata": {},
     "output_type": "execute_result"
    }
   ],
   "source": [
    "m.encoder"
   ]
  },
  {
   "cell_type": "code",
   "execution_count": 9,
   "metadata": {},
   "outputs": [
    {
     "name": "stdout",
     "output_type": "stream",
     "text": [
      "torch.Size([89754, 300])\n",
      "torch.float32\n",
      "\n",
      "torch.Size([3000, 300])\n",
      "torch.float32\n",
      "\n",
      "torch.Size([3000, 1000])\n",
      "torch.float32\n",
      "\n",
      "torch.Size([3000])\n",
      "torch.float32\n",
      "\n",
      "torch.Size([3000])\n",
      "torch.float32\n",
      "\n",
      "Total encoder Parameter Count: 30832200\n"
     ]
    }
   ],
   "source": [
    "encoder_total = 0\n",
    "for param in m.encoder.parameters():\n",
    "    print(param.shape)\n",
    "    print(param.dtype)\n",
    "    print()\n",
    "    encoder_total += param.numel()\n",
    "\n",
    "print(\"Total encoder Parameter Count:\", encoder_total)"
   ]
  },
  {
   "cell_type": "code",
   "execution_count": 10,
   "metadata": {},
   "outputs": [
    {
     "name": "stdout",
     "output_type": "stream",
     "text": [
      "torch.Size([69104, 300])\n",
      "torch.float32\n",
      "\n",
      "torch.Size([3000, 300])\n",
      "torch.float32\n",
      "\n",
      "torch.Size([3000, 1000])\n",
      "torch.float32\n",
      "\n",
      "torch.Size([3000])\n",
      "torch.float32\n",
      "\n",
      "torch.Size([3000])\n",
      "torch.float32\n",
      "\n",
      "torch.Size([69104, 1000])\n",
      "torch.float32\n",
      "\n",
      "torch.Size([69104])\n",
      "torch.float32\n",
      "\n",
      "Total decoder Parameter Count: 93810304\n"
     ]
    }
   ],
   "source": [
    "decoder_total = 0\n",
    "for param in m.decoder.parameters():\n",
    "    print(param.shape)\n",
    "    print(param.dtype)\n",
    "    print()\n",
    "    decoder_total += param.numel()\n",
    "\n",
    "print(\"Total decoder Parameter Count:\", decoder_total)"
   ]
  },
  {
   "cell_type": "markdown",
   "metadata": {},
   "source": [
    "### Float32 types use 32bits or 4bytes of Memory each"
   ]
  },
  {
   "cell_type": "code",
   "execution_count": 11,
   "metadata": {},
   "outputs": [
    {
     "name": "stdout",
     "output_type": "stream",
     "text": [
      "Expect to use 475mb of memory:\n"
     ]
    }
   ],
   "source": [
    "bytes_per_param = 4\n",
    "\n",
    "mb_usage = ((encoder_total + decoder_total) * bytes_per_param) / 1024 / 1024\n",
    "print(\"Expect to use %.0fmb of memory:\" % mb_usage)"
   ]
  },
  {
   "cell_type": "code",
   "execution_count": 12,
   "metadata": {},
   "outputs": [
    {
     "name": "stdout",
     "output_type": "stream",
     "text": [
      "[2018-11-18 11:59:43] [INFO] at Actual Usage: - memory usage: 475.8 MB\n"
     ]
    }
   ],
   "source": [
    "_check_mem(\"Actual Usage:\")"
   ]
  },
  {
   "cell_type": "markdown",
   "metadata": {},
   "source": [
    "### Let's manually step through the first trainin loop:"
   ]
  },
  {
   "cell_type": "code",
   "execution_count": 13,
   "metadata": {},
   "outputs": [],
   "source": [
    "m._init_optim_and_scheduler()\n",
    "criterion = m.hparams[HyperParamKey.CRITERION]\n",
    "early_stop = False\n",
    "best_loss = np.Inf"
   ]
  },
  {
   "cell_type": "code",
   "execution_count": 14,
   "metadata": {},
   "outputs": [],
   "source": [
    "m.enc_scheduler.step(epoch=m.cur_epoch)\n",
    "m.dec_scheduler.step(epoch=m.cur_epoch)\n",
    "m.cur_epoch += 1"
   ]
  },
  {
   "cell_type": "markdown",
   "metadata": {},
   "source": [
    "**Optimizer and Schedulers use memory on main RAM so we're not using GPU RAM**"
   ]
  },
  {
   "cell_type": "code",
   "execution_count": 15,
   "metadata": {},
   "outputs": [
    {
     "name": "stdout",
     "output_type": "stream",
     "text": [
      "[2018-11-18 11:59:43] [INFO] at Current Usage: - memory usage: 475.8 MB\n"
     ]
    }
   ],
   "source": [
    "_check_mem(\"Current Usage:\")"
   ]
  },
  {
   "cell_type": "code",
   "execution_count": 16,
   "metadata": {
    "scrolled": false
   },
   "outputs": [
    {
     "name": "stdout",
     "output_type": "stream",
     "text": [
      "[2018-11-18 11:59:43] [INFO] at Start of batch %i - memory usage: 475.8 MB\n",
      "torch.Size([16, 62])\n",
      "torch.Size([16, 73])\n",
      "[2018-11-18 11:59:43] [INFO] at iteration 0  - memory usage: 475.8 MB\n",
      "[2018-11-18 11:59:44] [INFO] at Starting Decoder - memory usage: 484.9 MB\n",
      "[2018-11-18 11:59:44] [INFO] at iteration 0 of decoder recursion - memory usage: 484.9 MB\n",
      "[2018-11-18 11:59:44] [INFO] at iteration 1 of decoder recursion - memory usage: 493.9 MB\n",
      "[2018-11-18 11:59:44] [INFO] at iteration 2 of decoder recursion - memory usage: 502.8 MB\n",
      "[2018-11-18 11:59:44] [INFO] at iteration 3 of decoder recursion - memory usage: 511.8 MB\n",
      "[2018-11-18 11:59:44] [INFO] at iteration 4 of decoder recursion - memory usage: 520.8 MB\n",
      "[2018-11-18 11:59:44] [INFO] at iteration 5 of decoder recursion - memory usage: 529.7 MB\n",
      "[2018-11-18 11:59:44] [INFO] at iteration 6 of decoder recursion - memory usage: 538.7 MB\n",
      "[2018-11-18 11:59:44] [INFO] at iteration 7 of decoder recursion - memory usage: 547.7 MB\n",
      "[2018-11-18 11:59:44] [INFO] at iteration 8 of decoder recursion - memory usage: 556.6 MB\n",
      "[2018-11-18 11:59:44] [INFO] at iteration 9 of decoder recursion - memory usage: 565.6 MB\n",
      "[2018-11-18 11:59:44] [INFO] at iteration 10 of decoder recursion - memory usage: 574.6 MB\n",
      "[2018-11-18 11:59:44] [INFO] at iteration 11 of decoder recursion - memory usage: 583.5 MB\n",
      "[2018-11-18 11:59:44] [INFO] at iteration 12 of decoder recursion - memory usage: 592.5 MB\n",
      "[2018-11-18 11:59:44] [INFO] at iteration 13 of decoder recursion - memory usage: 601.4 MB\n",
      "[2018-11-18 11:59:44] [INFO] at iteration 14 of decoder recursion - memory usage: 610.4 MB\n",
      "[2018-11-18 11:59:44] [INFO] at iteration 15 of decoder recursion - memory usage: 619.4 MB\n",
      "[2018-11-18 11:59:44] [INFO] at iteration 16 of decoder recursion - memory usage: 628.3 MB\n",
      "[2018-11-18 11:59:44] [INFO] at iteration 17 of decoder recursion - memory usage: 637.3 MB\n",
      "[2018-11-18 11:59:44] [INFO] at iteration 18 of decoder recursion - memory usage: 646.3 MB\n",
      "[2018-11-18 11:59:44] [INFO] at iteration 19 of decoder recursion - memory usage: 655.2 MB\n",
      "[2018-11-18 11:59:44] [INFO] at iteration 20 of decoder recursion - memory usage: 664.2 MB\n",
      "[2018-11-18 11:59:44] [INFO] at iteration 21 of decoder recursion - memory usage: 673.2 MB\n",
      "[2018-11-18 11:59:44] [INFO] at iteration 22 of decoder recursion - memory usage: 682.1 MB\n",
      "[2018-11-18 11:59:44] [INFO] at iteration 23 of decoder recursion - memory usage: 691.1 MB\n",
      "[2018-11-18 11:59:44] [INFO] at iteration 24 of decoder recursion - memory usage: 700.1 MB\n",
      "[2018-11-18 11:59:44] [INFO] at iteration 25 of decoder recursion - memory usage: 709.0 MB\n",
      "[2018-11-18 11:59:44] [INFO] at iteration 26 of decoder recursion - memory usage: 718.0 MB\n",
      "[2018-11-18 11:59:44] [INFO] at iteration 27 of decoder recursion - memory usage: 727.0 MB\n",
      "[2018-11-18 11:59:44] [INFO] at iteration 28 of decoder recursion - memory usage: 735.9 MB\n",
      "[2018-11-18 11:59:44] [INFO] at iteration 29 of decoder recursion - memory usage: 744.9 MB\n",
      "[2018-11-18 11:59:44] [INFO] at iteration 30 of decoder recursion - memory usage: 753.9 MB\n",
      "[2018-11-18 11:59:44] [INFO] at iteration 31 of decoder recursion - memory usage: 762.8 MB\n",
      "[2018-11-18 11:59:44] [INFO] at iteration 32 of decoder recursion - memory usage: 771.8 MB\n",
      "[2018-11-18 11:59:44] [INFO] at iteration 33 of decoder recursion - memory usage: 780.8 MB\n",
      "[2018-11-18 11:59:44] [INFO] at iteration 34 of decoder recursion - memory usage: 789.7 MB\n",
      "[2018-11-18 11:59:44] [INFO] at iteration 35 of decoder recursion - memory usage: 798.7 MB\n",
      "[2018-11-18 11:59:44] [INFO] at iteration 36 of decoder recursion - memory usage: 807.6 MB\n",
      "[2018-11-18 11:59:44] [INFO] at iteration 37 of decoder recursion - memory usage: 816.6 MB\n",
      "[2018-11-18 11:59:44] [INFO] at iteration 38 of decoder recursion - memory usage: 825.6 MB\n",
      "[2018-11-18 11:59:44] [INFO] at iteration 39 of decoder recursion - memory usage: 834.5 MB\n",
      "[2018-11-18 11:59:44] [INFO] at iteration 40 of decoder recursion - memory usage: 843.5 MB\n",
      "[2018-11-18 11:59:44] [INFO] at iteration 41 of decoder recursion - memory usage: 852.5 MB\n",
      "[2018-11-18 11:59:44] [INFO] at iteration 42 of decoder recursion - memory usage: 861.4 MB\n",
      "[2018-11-18 11:59:44] [INFO] at iteration 43 of decoder recursion - memory usage: 870.4 MB\n",
      "[2018-11-18 11:59:44] [INFO] at iteration 44 of decoder recursion - memory usage: 879.4 MB\n",
      "[2018-11-18 11:59:44] [INFO] at iteration 45 of decoder recursion - memory usage: 888.3 MB\n",
      "[2018-11-18 11:59:44] [INFO] at iteration 46 of decoder recursion - memory usage: 897.3 MB\n",
      "[2018-11-18 11:59:44] [INFO] at iteration 47 of decoder recursion - memory usage: 906.3 MB\n",
      "[2018-11-18 11:59:44] [INFO] at iteration 48 of decoder recursion - memory usage: 915.2 MB\n",
      "[2018-11-18 11:59:44] [INFO] at iteration 49 of decoder recursion - memory usage: 924.2 MB\n",
      "[2018-11-18 11:59:44] [INFO] at iteration 50 of decoder recursion - memory usage: 933.2 MB\n",
      "[2018-11-18 11:59:44] [INFO] at iteration 51 of decoder recursion - memory usage: 942.1 MB\n",
      "[2018-11-18 11:59:44] [INFO] at iteration 52 of decoder recursion - memory usage: 951.1 MB\n",
      "[2018-11-18 11:59:44] [INFO] at iteration 53 of decoder recursion - memory usage: 960.1 MB\n",
      "[2018-11-18 11:59:44] [INFO] at iteration 54 of decoder recursion - memory usage: 969.0 MB\n",
      "[2018-11-18 11:59:44] [INFO] at iteration 55 of decoder recursion - memory usage: 978.0 MB\n",
      "[2018-11-18 11:59:44] [INFO] at iteration 56 of decoder recursion - memory usage: 987.0 MB\n",
      "[2018-11-18 11:59:44] [INFO] at iteration 57 of decoder recursion - memory usage: 995.9 MB\n",
      "[2018-11-18 11:59:44] [INFO] at iteration 58 of decoder recursion - memory usage: 1004.9 MB\n",
      "[2018-11-18 11:59:44] [INFO] at iteration 59 of decoder recursion - memory usage: 1013.9 MB\n",
      "[2018-11-18 11:59:44] [INFO] at iteration 60 of decoder recursion - memory usage: 1022.8 MB\n",
      "[2018-11-18 11:59:44] [INFO] at iteration 61 of decoder recursion - memory usage: 1031.8 MB\n",
      "[2018-11-18 11:59:44] [INFO] at iteration 62 of decoder recursion - memory usage: 1040.7 MB\n",
      "[2018-11-18 11:59:44] [INFO] at iteration 63 of decoder recursion - memory usage: 1049.7 MB\n",
      "[2018-11-18 11:59:44] [INFO] at iteration 64 of decoder recursion - memory usage: 1058.7 MB\n",
      "[2018-11-18 11:59:44] [INFO] at iteration 65 of decoder recursion - memory usage: 1067.6 MB\n",
      "[2018-11-18 11:59:44] [INFO] at iteration 66 of decoder recursion - memory usage: 1076.6 MB\n",
      "[2018-11-18 11:59:44] [INFO] at iteration 67 of decoder recursion - memory usage: 1085.6 MB\n",
      "[2018-11-18 11:59:44] [INFO] at iteration 68 of decoder recursion - memory usage: 1094.5 MB\n",
      "[2018-11-18 11:59:44] [INFO] at iteration 69 of decoder recursion - memory usage: 1103.5 MB\n",
      "[2018-11-18 11:59:44] [INFO] at iteration 70 of decoder recursion - memory usage: 1112.5 MB\n",
      "[2018-11-18 11:59:44] [INFO] at iteration 71 of decoder recursion - memory usage: 1121.4 MB\n",
      "[2018-11-18 11:59:44] [INFO] at iteration 72 of decoder recursion - memory usage: 1130.4 MB\n",
      "[2018-11-18 11:59:44] [INFO] at Before back prop - memory usage: 1139.4 MB\n",
      "[2018-11-18 11:59:45] [INFO] at After back prop - memory usage: 952.3 MB\n",
      "[2018-11-18 11:59:45] [INFO] at After optimizer step - memory usage: 1906.0 MB\n",
      "[2018-11-18 11:59:45] [INFO] at Start of batch %i - memory usage: 1906.0 MB\n",
      "torch.Size([16, 48])\n",
      "torch.Size([16, 50])\n",
      "[2018-11-18 11:59:45] [INFO] at iteration 1  - memory usage: 1906.0 MB\n",
      "[2018-11-18 11:59:45] [INFO] at Starting Decoder - memory usage: 1914.7 MB\n",
      "[2018-11-18 11:59:45] [INFO] at iteration 0 of decoder recursion - memory usage: 1914.7 MB\n",
      "[2018-11-18 11:59:45] [INFO] at iteration 1 of decoder recursion - memory usage: 1923.9 MB\n",
      "[2018-11-18 11:59:45] [INFO] at iteration 2 of decoder recursion - memory usage: 1933.0 MB\n",
      "[2018-11-18 11:59:45] [INFO] at iteration 3 of decoder recursion - memory usage: 1942.3 MB\n",
      "[2018-11-18 11:59:45] [INFO] at iteration 4 of decoder recursion - memory usage: 1951.3 MB\n",
      "[2018-11-18 11:59:45] [INFO] at iteration 5 of decoder recursion - memory usage: 1960.3 MB\n",
      "[2018-11-18 11:59:45] [INFO] at iteration 6 of decoder recursion - memory usage: 1969.2 MB\n",
      "[2018-11-18 11:59:45] [INFO] at iteration 7 of decoder recursion - memory usage: 1978.2 MB\n",
      "[2018-11-18 11:59:45] [INFO] at iteration 8 of decoder recursion - memory usage: 1987.1 MB\n"
     ]
    },
    {
     "name": "stdout",
     "output_type": "stream",
     "text": [
      "[2018-11-18 11:59:45] [INFO] at iteration 9 of decoder recursion - memory usage: 1996.1 MB\n",
      "[2018-11-18 11:59:45] [INFO] at iteration 10 of decoder recursion - memory usage: 2005.1 MB\n",
      "[2018-11-18 11:59:45] [INFO] at iteration 11 of decoder recursion - memory usage: 2014.0 MB\n",
      "[2018-11-18 11:59:45] [INFO] at iteration 12 of decoder recursion - memory usage: 2023.0 MB\n",
      "[2018-11-18 11:59:45] [INFO] at iteration 13 of decoder recursion - memory usage: 2032.0 MB\n",
      "[2018-11-18 11:59:45] [INFO] at iteration 14 of decoder recursion - memory usage: 2040.9 MB\n",
      "[2018-11-18 11:59:45] [INFO] at iteration 15 of decoder recursion - memory usage: 2049.9 MB\n",
      "[2018-11-18 11:59:45] [INFO] at iteration 16 of decoder recursion - memory usage: 2058.9 MB\n",
      "[2018-11-18 11:59:45] [INFO] at iteration 17 of decoder recursion - memory usage: 2067.8 MB\n",
      "[2018-11-18 11:59:45] [INFO] at iteration 18 of decoder recursion - memory usage: 2076.8 MB\n",
      "[2018-11-18 11:59:45] [INFO] at iteration 19 of decoder recursion - memory usage: 2085.8 MB\n",
      "[2018-11-18 11:59:45] [INFO] at iteration 20 of decoder recursion - memory usage: 2094.7 MB\n",
      "[2018-11-18 11:59:45] [INFO] at iteration 21 of decoder recursion - memory usage: 2103.7 MB\n",
      "[2018-11-18 11:59:45] [INFO] at iteration 22 of decoder recursion - memory usage: 2112.7 MB\n",
      "[2018-11-18 11:59:45] [INFO] at iteration 23 of decoder recursion - memory usage: 2121.6 MB\n",
      "[2018-11-18 11:59:45] [INFO] at iteration 24 of decoder recursion - memory usage: 2130.6 MB\n",
      "[2018-11-18 11:59:45] [INFO] at iteration 25 of decoder recursion - memory usage: 2139.6 MB\n",
      "[2018-11-18 11:59:45] [INFO] at iteration 26 of decoder recursion - memory usage: 2148.5 MB\n",
      "[2018-11-18 11:59:45] [INFO] at iteration 27 of decoder recursion - memory usage: 2157.5 MB\n",
      "[2018-11-18 11:59:45] [INFO] at iteration 28 of decoder recursion - memory usage: 2166.5 MB\n",
      "[2018-11-18 11:59:45] [INFO] at iteration 29 of decoder recursion - memory usage: 2175.4 MB\n",
      "[2018-11-18 11:59:45] [INFO] at iteration 30 of decoder recursion - memory usage: 2184.4 MB\n",
      "[2018-11-18 11:59:45] [INFO] at iteration 31 of decoder recursion - memory usage: 2193.4 MB\n",
      "[2018-11-18 11:59:45] [INFO] at iteration 32 of decoder recursion - memory usage: 2202.3 MB\n",
      "[2018-11-18 11:59:45] [INFO] at iteration 33 of decoder recursion - memory usage: 2211.3 MB\n",
      "[2018-11-18 11:59:45] [INFO] at iteration 34 of decoder recursion - memory usage: 2220.2 MB\n",
      "[2018-11-18 11:59:45] [INFO] at iteration 35 of decoder recursion - memory usage: 2229.2 MB\n",
      "[2018-11-18 11:59:45] [INFO] at iteration 36 of decoder recursion - memory usage: 2238.2 MB\n",
      "[2018-11-18 11:59:45] [INFO] at iteration 37 of decoder recursion - memory usage: 2247.1 MB\n",
      "[2018-11-18 11:59:45] [INFO] at iteration 38 of decoder recursion - memory usage: 2256.1 MB\n",
      "[2018-11-18 11:59:45] [INFO] at iteration 39 of decoder recursion - memory usage: 2265.1 MB\n",
      "[2018-11-18 11:59:45] [INFO] at iteration 40 of decoder recursion - memory usage: 2274.0 MB\n",
      "[2018-11-18 11:59:45] [INFO] at iteration 41 of decoder recursion - memory usage: 2283.0 MB\n",
      "[2018-11-18 11:59:45] [INFO] at iteration 42 of decoder recursion - memory usage: 2292.0 MB\n",
      "[2018-11-18 11:59:45] [INFO] at iteration 43 of decoder recursion - memory usage: 2300.9 MB\n",
      "[2018-11-18 11:59:45] [INFO] at iteration 44 of decoder recursion - memory usage: 2309.9 MB\n",
      "[2018-11-18 11:59:45] [INFO] at iteration 45 of decoder recursion - memory usage: 2318.9 MB\n",
      "[2018-11-18 11:59:45] [INFO] at iteration 46 of decoder recursion - memory usage: 2327.8 MB\n",
      "[2018-11-18 11:59:45] [INFO] at iteration 47 of decoder recursion - memory usage: 2336.8 MB\n",
      "[2018-11-18 11:59:45] [INFO] at iteration 48 of decoder recursion - memory usage: 2345.8 MB\n",
      "[2018-11-18 11:59:45] [INFO] at iteration 49 of decoder recursion - memory usage: 2354.7 MB\n",
      "[2018-11-18 11:59:45] [INFO] at Before back prop - memory usage: 2363.7 MB\n",
      "[2018-11-18 11:59:45] [INFO] at After back prop - memory usage: 1906.0 MB\n",
      "[2018-11-18 11:59:45] [INFO] at After optimizer step - memory usage: 1906.0 MB\n",
      "[2018-11-18 11:59:46] [INFO] at Start of batch %i - memory usage: 1906.0 MB\n",
      "torch.Size([16, 56])\n",
      "torch.Size([16, 67])\n",
      "[2018-11-18 11:59:46] [INFO] at iteration 2  - memory usage: 1906.0 MB\n",
      "[2018-11-18 11:59:46] [INFO] at Starting Decoder - memory usage: 1914.8 MB\n",
      "[2018-11-18 11:59:46] [INFO] at iteration 0 of decoder recursion - memory usage: 1914.8 MB\n",
      "[2018-11-18 11:59:46] [INFO] at iteration 1 of decoder recursion - memory usage: 1924.0 MB\n",
      "[2018-11-18 11:59:46] [INFO] at iteration 2 of decoder recursion - memory usage: 1933.1 MB\n",
      "[2018-11-18 11:59:46] [INFO] at iteration 3 of decoder recursion - memory usage: 1942.3 MB\n",
      "[2018-11-18 11:59:46] [INFO] at iteration 4 of decoder recursion - memory usage: 1951.3 MB\n",
      "[2018-11-18 11:59:46] [INFO] at iteration 5 of decoder recursion - memory usage: 1960.3 MB\n",
      "[2018-11-18 11:59:46] [INFO] at iteration 6 of decoder recursion - memory usage: 1969.2 MB\n",
      "[2018-11-18 11:59:46] [INFO] at iteration 7 of decoder recursion - memory usage: 1978.2 MB\n",
      "[2018-11-18 11:59:46] [INFO] at iteration 8 of decoder recursion - memory usage: 1987.2 MB\n",
      "[2018-11-18 11:59:46] [INFO] at iteration 9 of decoder recursion - memory usage: 1996.1 MB\n",
      "[2018-11-18 11:59:46] [INFO] at iteration 10 of decoder recursion - memory usage: 2005.1 MB\n",
      "[2018-11-18 11:59:46] [INFO] at iteration 11 of decoder recursion - memory usage: 2014.1 MB\n",
      "[2018-11-18 11:59:46] [INFO] at iteration 12 of decoder recursion - memory usage: 2023.0 MB\n",
      "[2018-11-18 11:59:46] [INFO] at iteration 13 of decoder recursion - memory usage: 2032.0 MB\n",
      "[2018-11-18 11:59:46] [INFO] at iteration 14 of decoder recursion - memory usage: 2041.0 MB\n",
      "[2018-11-18 11:59:46] [INFO] at iteration 15 of decoder recursion - memory usage: 2049.9 MB\n",
      "[2018-11-18 11:59:46] [INFO] at iteration 16 of decoder recursion - memory usage: 2058.9 MB\n",
      "[2018-11-18 11:59:46] [INFO] at iteration 17 of decoder recursion - memory usage: 2067.8 MB\n",
      "[2018-11-18 11:59:46] [INFO] at iteration 18 of decoder recursion - memory usage: 2076.8 MB\n",
      "[2018-11-18 11:59:46] [INFO] at iteration 19 of decoder recursion - memory usage: 2085.8 MB\n",
      "[2018-11-18 11:59:46] [INFO] at iteration 20 of decoder recursion - memory usage: 2094.7 MB\n",
      "[2018-11-18 11:59:46] [INFO] at iteration 21 of decoder recursion - memory usage: 2103.7 MB\n",
      "[2018-11-18 11:59:46] [INFO] at iteration 22 of decoder recursion - memory usage: 2112.7 MB\n",
      "[2018-11-18 11:59:46] [INFO] at iteration 23 of decoder recursion - memory usage: 2121.6 MB\n",
      "[2018-11-18 11:59:46] [INFO] at iteration 24 of decoder recursion - memory usage: 2130.6 MB\n",
      "[2018-11-18 11:59:46] [INFO] at iteration 25 of decoder recursion - memory usage: 2139.6 MB\n",
      "[2018-11-18 11:59:46] [INFO] at iteration 26 of decoder recursion - memory usage: 2148.5 MB\n",
      "[2018-11-18 11:59:46] [INFO] at iteration 27 of decoder recursion - memory usage: 2157.5 MB\n",
      "[2018-11-18 11:59:46] [INFO] at iteration 28 of decoder recursion - memory usage: 2166.5 MB\n",
      "[2018-11-18 11:59:46] [INFO] at iteration 29 of decoder recursion - memory usage: 2175.4 MB\n",
      "[2018-11-18 11:59:46] [INFO] at iteration 30 of decoder recursion - memory usage: 2184.4 MB\n",
      "[2018-11-18 11:59:46] [INFO] at iteration 31 of decoder recursion - memory usage: 2193.4 MB\n",
      "[2018-11-18 11:59:46] [INFO] at iteration 32 of decoder recursion - memory usage: 2202.3 MB\n",
      "[2018-11-18 11:59:46] [INFO] at iteration 33 of decoder recursion - memory usage: 2211.3 MB\n",
      "[2018-11-18 11:59:46] [INFO] at iteration 34 of decoder recursion - memory usage: 2220.3 MB\n",
      "[2018-11-18 11:59:46] [INFO] at iteration 35 of decoder recursion - memory usage: 2229.2 MB\n",
      "[2018-11-18 11:59:46] [INFO] at iteration 36 of decoder recursion - memory usage: 2238.2 MB\n",
      "[2018-11-18 11:59:46] [INFO] at iteration 37 of decoder recursion - memory usage: 2247.2 MB\n",
      "[2018-11-18 11:59:46] [INFO] at iteration 38 of decoder recursion - memory usage: 2256.1 MB\n",
      "[2018-11-18 11:59:46] [INFO] at iteration 39 of decoder recursion - memory usage: 2265.1 MB\n",
      "[2018-11-18 11:59:46] [INFO] at iteration 40 of decoder recursion - memory usage: 2274.0 MB\n",
      "[2018-11-18 11:59:46] [INFO] at iteration 41 of decoder recursion - memory usage: 2283.0 MB\n",
      "[2018-11-18 11:59:46] [INFO] at iteration 42 of decoder recursion - memory usage: 2292.0 MB\n"
     ]
    },
    {
     "name": "stdout",
     "output_type": "stream",
     "text": [
      "[2018-11-18 11:59:46] [INFO] at iteration 43 of decoder recursion - memory usage: 2300.9 MB\n",
      "[2018-11-18 11:59:46] [INFO] at iteration 44 of decoder recursion - memory usage: 2309.9 MB\n",
      "[2018-11-18 11:59:46] [INFO] at iteration 45 of decoder recursion - memory usage: 2318.9 MB\n",
      "[2018-11-18 11:59:46] [INFO] at iteration 46 of decoder recursion - memory usage: 2327.8 MB\n",
      "[2018-11-18 11:59:46] [INFO] at iteration 47 of decoder recursion - memory usage: 2336.8 MB\n",
      "[2018-11-18 11:59:46] [INFO] at iteration 48 of decoder recursion - memory usage: 2345.8 MB\n",
      "[2018-11-18 11:59:46] [INFO] at iteration 49 of decoder recursion - memory usage: 2354.7 MB\n",
      "[2018-11-18 11:59:46] [INFO] at iteration 50 of decoder recursion - memory usage: 2363.7 MB\n",
      "[2018-11-18 11:59:46] [INFO] at iteration 51 of decoder recursion - memory usage: 2372.7 MB\n",
      "[2018-11-18 11:59:46] [INFO] at iteration 52 of decoder recursion - memory usage: 2381.6 MB\n",
      "[2018-11-18 11:59:46] [INFO] at iteration 53 of decoder recursion - memory usage: 2390.6 MB\n",
      "[2018-11-18 11:59:46] [INFO] at iteration 54 of decoder recursion - memory usage: 2399.6 MB\n",
      "[2018-11-18 11:59:46] [INFO] at iteration 55 of decoder recursion - memory usage: 2408.5 MB\n",
      "[2018-11-18 11:59:46] [INFO] at iteration 56 of decoder recursion - memory usage: 2417.5 MB\n",
      "[2018-11-18 11:59:46] [INFO] at iteration 57 of decoder recursion - memory usage: 2426.5 MB\n",
      "[2018-11-18 11:59:46] [INFO] at iteration 58 of decoder recursion - memory usage: 2435.4 MB\n",
      "[2018-11-18 11:59:46] [INFO] at iteration 59 of decoder recursion - memory usage: 2444.4 MB\n",
      "[2018-11-18 11:59:46] [INFO] at iteration 60 of decoder recursion - memory usage: 2453.4 MB\n",
      "[2018-11-18 11:59:46] [INFO] at iteration 61 of decoder recursion - memory usage: 2462.3 MB\n",
      "[2018-11-18 11:59:46] [INFO] at iteration 62 of decoder recursion - memory usage: 2471.3 MB\n",
      "[2018-11-18 11:59:46] [INFO] at iteration 63 of decoder recursion - memory usage: 2480.3 MB\n",
      "[2018-11-18 11:59:46] [INFO] at iteration 64 of decoder recursion - memory usage: 2489.2 MB\n",
      "[2018-11-18 11:59:46] [INFO] at iteration 65 of decoder recursion - memory usage: 2498.2 MB\n",
      "[2018-11-18 11:59:46] [INFO] at iteration 66 of decoder recursion - memory usage: 2507.1 MB\n",
      "[2018-11-18 11:59:46] [INFO] at Before back prop - memory usage: 2516.1 MB\n",
      "[2018-11-18 11:59:46] [INFO] at After back prop - memory usage: 1906.0 MB\n",
      "[2018-11-18 11:59:46] [INFO] at After optimizer step - memory usage: 1906.0 MB\n",
      "[2018-11-18 11:59:46] [INFO] at Start of batch %i - memory usage: 1906.0 MB\n",
      "torch.Size([16, 63])\n",
      "torch.Size([16, 52])\n",
      "[2018-11-18 11:59:46] [INFO] at iteration 3  - memory usage: 1906.0 MB\n",
      "[2018-11-18 11:59:46] [INFO] at Starting Decoder - memory usage: 1914.3 MB\n",
      "[2018-11-18 11:59:46] [INFO] at iteration 0 of decoder recursion - memory usage: 1914.3 MB\n",
      "[2018-11-18 11:59:46] [INFO] at iteration 1 of decoder recursion - memory usage: 1923.5 MB\n",
      "[2018-11-18 11:59:46] [INFO] at iteration 2 of decoder recursion - memory usage: 1932.6 MB\n",
      "[2018-11-18 11:59:46] [INFO] at iteration 3 of decoder recursion - memory usage: 1942.2 MB\n",
      "[2018-11-18 11:59:46] [INFO] at iteration 4 of decoder recursion - memory usage: 1951.2 MB\n",
      "[2018-11-18 11:59:46] [INFO] at iteration 5 of decoder recursion - memory usage: 1960.1 MB\n",
      "[2018-11-18 11:59:46] [INFO] at iteration 6 of decoder recursion - memory usage: 1969.1 MB\n",
      "[2018-11-18 11:59:46] [INFO] at iteration 7 of decoder recursion - memory usage: 1978.0 MB\n",
      "[2018-11-18 11:59:46] [INFO] at iteration 8 of decoder recursion - memory usage: 1987.0 MB\n",
      "[2018-11-18 11:59:46] [INFO] at iteration 9 of decoder recursion - memory usage: 1996.0 MB\n",
      "[2018-11-18 11:59:46] [INFO] at iteration 10 of decoder recursion - memory usage: 2004.9 MB\n",
      "[2018-11-18 11:59:46] [INFO] at iteration 11 of decoder recursion - memory usage: 2013.9 MB\n",
      "[2018-11-18 11:59:46] [INFO] at iteration 12 of decoder recursion - memory usage: 2022.9 MB\n",
      "[2018-11-18 11:59:46] [INFO] at iteration 13 of decoder recursion - memory usage: 2031.8 MB\n",
      "[2018-11-18 11:59:46] [INFO] at iteration 14 of decoder recursion - memory usage: 2040.8 MB\n",
      "[2018-11-18 11:59:46] [INFO] at iteration 15 of decoder recursion - memory usage: 2049.8 MB\n",
      "[2018-11-18 11:59:46] [INFO] at iteration 16 of decoder recursion - memory usage: 2058.7 MB\n",
      "[2018-11-18 11:59:46] [INFO] at iteration 17 of decoder recursion - memory usage: 2067.7 MB\n",
      "[2018-11-18 11:59:46] [INFO] at iteration 18 of decoder recursion - memory usage: 2076.7 MB\n",
      "[2018-11-18 11:59:46] [INFO] at iteration 19 of decoder recursion - memory usage: 2085.6 MB\n",
      "[2018-11-18 11:59:46] [INFO] at iteration 20 of decoder recursion - memory usage: 2094.6 MB\n",
      "[2018-11-18 11:59:46] [INFO] at iteration 21 of decoder recursion - memory usage: 2103.6 MB\n",
      "[2018-11-18 11:59:46] [INFO] at iteration 22 of decoder recursion - memory usage: 2112.5 MB\n",
      "[2018-11-18 11:59:46] [INFO] at iteration 23 of decoder recursion - memory usage: 2121.5 MB\n",
      "[2018-11-18 11:59:46] [INFO] at iteration 24 of decoder recursion - memory usage: 2130.5 MB\n",
      "[2018-11-18 11:59:46] [INFO] at iteration 25 of decoder recursion - memory usage: 2139.4 MB\n",
      "[2018-11-18 11:59:46] [INFO] at iteration 26 of decoder recursion - memory usage: 2148.4 MB\n",
      "[2018-11-18 11:59:46] [INFO] at iteration 27 of decoder recursion - memory usage: 2157.4 MB\n",
      "[2018-11-18 11:59:46] [INFO] at iteration 28 of decoder recursion - memory usage: 2166.3 MB\n",
      "[2018-11-18 11:59:46] [INFO] at iteration 29 of decoder recursion - memory usage: 2175.3 MB\n",
      "[2018-11-18 11:59:46] [INFO] at iteration 30 of decoder recursion - memory usage: 2184.3 MB\n",
      "[2018-11-18 11:59:46] [INFO] at iteration 31 of decoder recursion - memory usage: 2193.2 MB\n",
      "[2018-11-18 11:59:46] [INFO] at iteration 32 of decoder recursion - memory usage: 2202.2 MB\n",
      "[2018-11-18 11:59:46] [INFO] at iteration 33 of decoder recursion - memory usage: 2211.1 MB\n",
      "[2018-11-18 11:59:46] [INFO] at iteration 34 of decoder recursion - memory usage: 2220.1 MB\n",
      "[2018-11-18 11:59:46] [INFO] at iteration 35 of decoder recursion - memory usage: 2229.1 MB\n",
      "[2018-11-18 11:59:46] [INFO] at iteration 36 of decoder recursion - memory usage: 2238.0 MB\n",
      "[2018-11-18 11:59:46] [INFO] at iteration 37 of decoder recursion - memory usage: 2247.0 MB\n",
      "[2018-11-18 11:59:46] [INFO] at iteration 38 of decoder recursion - memory usage: 2256.0 MB\n",
      "[2018-11-18 11:59:46] [INFO] at iteration 39 of decoder recursion - memory usage: 2264.9 MB\n",
      "[2018-11-18 11:59:46] [INFO] at iteration 40 of decoder recursion - memory usage: 2273.9 MB\n",
      "[2018-11-18 11:59:46] [INFO] at iteration 41 of decoder recursion - memory usage: 2282.9 MB\n",
      "[2018-11-18 11:59:46] [INFO] at iteration 42 of decoder recursion - memory usage: 2291.8 MB\n",
      "[2018-11-18 11:59:46] [INFO] at iteration 43 of decoder recursion - memory usage: 2300.8 MB\n",
      "[2018-11-18 11:59:46] [INFO] at iteration 44 of decoder recursion - memory usage: 2309.8 MB\n",
      "[2018-11-18 11:59:46] [INFO] at iteration 45 of decoder recursion - memory usage: 2318.7 MB\n",
      "[2018-11-18 11:59:46] [INFO] at iteration 46 of decoder recursion - memory usage: 2327.7 MB\n",
      "[2018-11-18 11:59:46] [INFO] at iteration 47 of decoder recursion - memory usage: 2336.7 MB\n",
      "[2018-11-18 11:59:46] [INFO] at iteration 48 of decoder recursion - memory usage: 2345.6 MB\n",
      "[2018-11-18 11:59:46] [INFO] at iteration 49 of decoder recursion - memory usage: 2354.6 MB\n",
      "[2018-11-18 11:59:46] [INFO] at iteration 50 of decoder recursion - memory usage: 2363.6 MB\n",
      "[2018-11-18 11:59:46] [INFO] at iteration 51 of decoder recursion - memory usage: 2372.5 MB\n",
      "[2018-11-18 11:59:46] [INFO] at Before back prop - memory usage: 2381.5 MB\n",
      "[2018-11-18 11:59:47] [INFO] at After back prop - memory usage: 1906.0 MB\n",
      "[2018-11-18 11:59:47] [INFO] at After optimizer step - memory usage: 1906.0 MB\n"
     ]
    }
   ],
   "source": [
    "for i, (src, tgt, src_lens, tgt_lens) in enumerate(l.loaders['train']):\n",
    "    _check_mem(\"Start of batch %i\")\n",
    "    print(src.shape)\n",
    "    print(tgt.shape)\n",
    "    mm.check_mem(\"iteration %s \" % i)\n",
    "    \n",
    "    batch_loss = 0\n",
    "    \n",
    "    m.encoder.train()\n",
    "    m.decoder.train()\n",
    "    m.enc_optim.zero_grad()\n",
    "    m.dec_optim.zero_grad()\n",
    "    batch_size = src.shape[0]\n",
    "    \n",
    "    enc_last_hidden = m.encoder(src, src_lens)\n",
    "    dec_in = torch.full((batch_size,), SOS_IDX, device=DEVICE, dtype=torch.int64).unsqueeze(1)\n",
    "    \n",
    "    _check_mem(\"Starting Decoder\")\n",
    "    \n",
    "    for t in range(tgt.size(1)):  # step through time/seq_len axis\n",
    "        _check_mem(\"iteration %s of decoder recursion\" % t)\n",
    "        dec_in = m.decoder(dec_in, enc_last_hidden)\n",
    "        batch_loss += criterion(dec_in, tgt[:, t], reduction='sum', ignore_index=PAD_IDX)\n",
    "        topv, topi = dec_in.topk(1)\n",
    "        dec_in = topi.detach()\n",
    "        \n",
    "    batch_loss /= tgt.data.gt(0).sum().float()\n",
    "    _check_mem(\"Before back prop\")\n",
    "    batch_loss.backward()\n",
    "    \n",
    "    _check_mem(\"After back prop\")\n",
    "    \n",
    "    m.enc_optim.step()\n",
    "    m.dec_optim.step()\n",
    "    \n",
    "    _check_mem(\"After optimizer step\")\n",
    "    \n",
    "    if i >= 3:\n",
    "        break"
   ]
  },
  {
   "cell_type": "markdown",
   "metadata": {},
   "source": [
    "**The Adam Optimizer uses about 1GB of memory here to compute the gradient estimates**"
   ]
  },
  {
   "cell_type": "markdown",
   "metadata": {},
   "source": [
    "## What about the compute_loss function, which goes agains the whole training set?"
   ]
  },
  {
   "cell_type": "code",
   "execution_count": 17,
   "metadata": {},
   "outputs": [
    {
     "ename": "RuntimeError",
     "evalue": "CUDA error: out of memory",
     "output_type": "error",
     "traceback": [
      "\u001b[0;31m---------------------------------------------------------------------------\u001b[0m",
      "\u001b[0;31mRuntimeError\u001b[0m                              Traceback (most recent call last)",
      "\u001b[0;32m<ipython-input-17-86e538f3f3d2>\u001b[0m in \u001b[0;36m<module>\u001b[0;34m()\u001b[0m\n\u001b[1;32m     25\u001b[0m \u001b[0;34m\u001b[0m\u001b[0m\n\u001b[1;32m     26\u001b[0m \u001b[0;34m\u001b[0m\u001b[0m\n\u001b[0;32m---> 27\u001b[0;31m         \u001b[0mdec_out\u001b[0m \u001b[0;34m=\u001b[0m \u001b[0mm\u001b[0m\u001b[0;34m.\u001b[0m\u001b[0mdecoder\u001b[0m\u001b[0;34m(\u001b[0m\u001b[0mdec_in\u001b[0m\u001b[0;34m,\u001b[0m \u001b[0menc_last_hidden\u001b[0m\u001b[0;34m)\u001b[0m\u001b[0;34m\u001b[0m\u001b[0m\n\u001b[0m\u001b[1;32m     28\u001b[0m         batch_loss += criterion(dec_out, tgt[:, t], reduction='sum',\n\u001b[1;32m     29\u001b[0m                                 ignore_index=PAD_IDX)\n",
      "\u001b[0;32m~/miniconda3/envs/torch/lib/python3.6/site-packages/torch/nn/modules/module.py\u001b[0m in \u001b[0;36m__call__\u001b[0;34m(self, *input, **kwargs)\u001b[0m\n\u001b[1;32m    475\u001b[0m             \u001b[0mresult\u001b[0m \u001b[0;34m=\u001b[0m \u001b[0mself\u001b[0m\u001b[0;34m.\u001b[0m\u001b[0m_slow_forward\u001b[0m\u001b[0;34m(\u001b[0m\u001b[0;34m*\u001b[0m\u001b[0minput\u001b[0m\u001b[0;34m,\u001b[0m \u001b[0;34m**\u001b[0m\u001b[0mkwargs\u001b[0m\u001b[0;34m)\u001b[0m\u001b[0;34m\u001b[0m\u001b[0m\n\u001b[1;32m    476\u001b[0m         \u001b[0;32melse\u001b[0m\u001b[0;34m:\u001b[0m\u001b[0;34m\u001b[0m\u001b[0m\n\u001b[0;32m--> 477\u001b[0;31m             \u001b[0mresult\u001b[0m \u001b[0;34m=\u001b[0m \u001b[0mself\u001b[0m\u001b[0;34m.\u001b[0m\u001b[0mforward\u001b[0m\u001b[0;34m(\u001b[0m\u001b[0;34m*\u001b[0m\u001b[0minput\u001b[0m\u001b[0;34m,\u001b[0m \u001b[0;34m**\u001b[0m\u001b[0mkwargs\u001b[0m\u001b[0;34m)\u001b[0m\u001b[0;34m\u001b[0m\u001b[0m\n\u001b[0m\u001b[1;32m    478\u001b[0m         \u001b[0;32mfor\u001b[0m \u001b[0mhook\u001b[0m \u001b[0;32min\u001b[0m \u001b[0mself\u001b[0m\u001b[0;34m.\u001b[0m\u001b[0m_forward_hooks\u001b[0m\u001b[0;34m.\u001b[0m\u001b[0mvalues\u001b[0m\u001b[0;34m(\u001b[0m\u001b[0;34m)\u001b[0m\u001b[0;34m:\u001b[0m\u001b[0;34m\u001b[0m\u001b[0m\n\u001b[1;32m    479\u001b[0m             \u001b[0mhook_result\u001b[0m \u001b[0;34m=\u001b[0m \u001b[0mhook\u001b[0m\u001b[0;34m(\u001b[0m\u001b[0mself\u001b[0m\u001b[0;34m,\u001b[0m \u001b[0minput\u001b[0m\u001b[0;34m,\u001b[0m \u001b[0mresult\u001b[0m\u001b[0;34m)\u001b[0m\u001b[0;34m\u001b[0m\u001b[0m\n",
      "\u001b[0;32m~/Documents/GradSchool/nlpDS1011/proj/translation/libs/models/modules/GRU.py\u001b[0m in \u001b[0;36mforward\u001b[0;34m(self, dec_in, hidden)\u001b[0m\n\u001b[1;32m     85\u001b[0m         \u001b[0mdec_in\u001b[0m \u001b[0;34m=\u001b[0m \u001b[0mF\u001b[0m\u001b[0;34m.\u001b[0m\u001b[0mrelu\u001b[0m\u001b[0;34m(\u001b[0m\u001b[0mdec_in\u001b[0m\u001b[0;34m)\u001b[0m\u001b[0;34m\u001b[0m\u001b[0m\n\u001b[1;32m     86\u001b[0m         \u001b[0;31m# rnn\u001b[0m\u001b[0;34m\u001b[0m\u001b[0;34m\u001b[0m\u001b[0m\n\u001b[0;32m---> 87\u001b[0;31m         \u001b[0mdec_in\u001b[0m\u001b[0;34m,\u001b[0m \u001b[0m_\u001b[0m \u001b[0;34m=\u001b[0m \u001b[0mself\u001b[0m\u001b[0;34m.\u001b[0m\u001b[0mgru\u001b[0m\u001b[0;34m(\u001b[0m\u001b[0mdec_in\u001b[0m\u001b[0;34m,\u001b[0m \u001b[0mhidden\u001b[0m\u001b[0;34m)\u001b[0m\u001b[0;34m\u001b[0m\u001b[0m\n\u001b[0m\u001b[1;32m     88\u001b[0m         \u001b[0mdec_in\u001b[0m \u001b[0;34m=\u001b[0m \u001b[0mself\u001b[0m\u001b[0;34m.\u001b[0m\u001b[0mout\u001b[0m\u001b[0;34m(\u001b[0m\u001b[0mdec_in\u001b[0m\u001b[0;34m)\u001b[0m\u001b[0;34m.\u001b[0m\u001b[0msqueeze\u001b[0m\u001b[0;34m(\u001b[0m\u001b[0;36m1\u001b[0m\u001b[0;34m)\u001b[0m\u001b[0;34m\u001b[0m\u001b[0m\n\u001b[1;32m     89\u001b[0m         \u001b[0mdec_in\u001b[0m \u001b[0;34m=\u001b[0m \u001b[0mself\u001b[0m\u001b[0;34m.\u001b[0m\u001b[0msoftmax\u001b[0m\u001b[0;34m(\u001b[0m\u001b[0mdec_in\u001b[0m\u001b[0;34m)\u001b[0m   \u001b[0;31m# logits\u001b[0m\u001b[0;34m\u001b[0m\u001b[0m\n",
      "\u001b[0;32m~/miniconda3/envs/torch/lib/python3.6/site-packages/torch/nn/modules/module.py\u001b[0m in \u001b[0;36m__call__\u001b[0;34m(self, *input, **kwargs)\u001b[0m\n\u001b[1;32m    475\u001b[0m             \u001b[0mresult\u001b[0m \u001b[0;34m=\u001b[0m \u001b[0mself\u001b[0m\u001b[0;34m.\u001b[0m\u001b[0m_slow_forward\u001b[0m\u001b[0;34m(\u001b[0m\u001b[0;34m*\u001b[0m\u001b[0minput\u001b[0m\u001b[0;34m,\u001b[0m \u001b[0;34m**\u001b[0m\u001b[0mkwargs\u001b[0m\u001b[0;34m)\u001b[0m\u001b[0;34m\u001b[0m\u001b[0m\n\u001b[1;32m    476\u001b[0m         \u001b[0;32melse\u001b[0m\u001b[0;34m:\u001b[0m\u001b[0;34m\u001b[0m\u001b[0m\n\u001b[0;32m--> 477\u001b[0;31m             \u001b[0mresult\u001b[0m \u001b[0;34m=\u001b[0m \u001b[0mself\u001b[0m\u001b[0;34m.\u001b[0m\u001b[0mforward\u001b[0m\u001b[0;34m(\u001b[0m\u001b[0;34m*\u001b[0m\u001b[0minput\u001b[0m\u001b[0;34m,\u001b[0m \u001b[0;34m**\u001b[0m\u001b[0mkwargs\u001b[0m\u001b[0;34m)\u001b[0m\u001b[0;34m\u001b[0m\u001b[0m\n\u001b[0m\u001b[1;32m    478\u001b[0m         \u001b[0;32mfor\u001b[0m \u001b[0mhook\u001b[0m \u001b[0;32min\u001b[0m \u001b[0mself\u001b[0m\u001b[0;34m.\u001b[0m\u001b[0m_forward_hooks\u001b[0m\u001b[0;34m.\u001b[0m\u001b[0mvalues\u001b[0m\u001b[0;34m(\u001b[0m\u001b[0;34m)\u001b[0m\u001b[0;34m:\u001b[0m\u001b[0;34m\u001b[0m\u001b[0m\n\u001b[1;32m    479\u001b[0m             \u001b[0mhook_result\u001b[0m \u001b[0;34m=\u001b[0m \u001b[0mhook\u001b[0m\u001b[0;34m(\u001b[0m\u001b[0mself\u001b[0m\u001b[0;34m,\u001b[0m \u001b[0minput\u001b[0m\u001b[0;34m,\u001b[0m \u001b[0mresult\u001b[0m\u001b[0;34m)\u001b[0m\u001b[0;34m\u001b[0m\u001b[0m\n",
      "\u001b[0;32m~/miniconda3/envs/torch/lib/python3.6/site-packages/torch/nn/modules/rnn.py\u001b[0m in \u001b[0;36mforward\u001b[0;34m(self, input, hx)\u001b[0m\n\u001b[1;32m    190\u001b[0m             \u001b[0mflat_weight\u001b[0m\u001b[0;34m=\u001b[0m\u001b[0mflat_weight\u001b[0m\u001b[0;34m\u001b[0m\u001b[0m\n\u001b[1;32m    191\u001b[0m         )\n\u001b[0;32m--> 192\u001b[0;31m         \u001b[0moutput\u001b[0m\u001b[0;34m,\u001b[0m \u001b[0mhidden\u001b[0m \u001b[0;34m=\u001b[0m \u001b[0mfunc\u001b[0m\u001b[0;34m(\u001b[0m\u001b[0minput\u001b[0m\u001b[0;34m,\u001b[0m \u001b[0mself\u001b[0m\u001b[0;34m.\u001b[0m\u001b[0mall_weights\u001b[0m\u001b[0;34m,\u001b[0m \u001b[0mhx\u001b[0m\u001b[0;34m,\u001b[0m \u001b[0mbatch_sizes\u001b[0m\u001b[0;34m)\u001b[0m\u001b[0;34m\u001b[0m\u001b[0m\n\u001b[0m\u001b[1;32m    193\u001b[0m         \u001b[0;32mif\u001b[0m \u001b[0mis_packed\u001b[0m\u001b[0;34m:\u001b[0m\u001b[0;34m\u001b[0m\u001b[0m\n\u001b[1;32m    194\u001b[0m             \u001b[0moutput\u001b[0m \u001b[0;34m=\u001b[0m \u001b[0mPackedSequence\u001b[0m\u001b[0;34m(\u001b[0m\u001b[0moutput\u001b[0m\u001b[0;34m,\u001b[0m \u001b[0mbatch_sizes\u001b[0m\u001b[0;34m)\u001b[0m\u001b[0;34m\u001b[0m\u001b[0m\n",
      "\u001b[0;32m~/miniconda3/envs/torch/lib/python3.6/site-packages/torch/nn/_functions/rnn.py\u001b[0m in \u001b[0;36mforward\u001b[0;34m(input, *fargs, **fkwargs)\u001b[0m\n\u001b[1;32m    322\u001b[0m             \u001b[0mfunc\u001b[0m \u001b[0;34m=\u001b[0m \u001b[0mdecorator\u001b[0m\u001b[0;34m(\u001b[0m\u001b[0mfunc\u001b[0m\u001b[0;34m)\u001b[0m\u001b[0;34m\u001b[0m\u001b[0m\n\u001b[1;32m    323\u001b[0m \u001b[0;34m\u001b[0m\u001b[0m\n\u001b[0;32m--> 324\u001b[0;31m         \u001b[0;32mreturn\u001b[0m \u001b[0mfunc\u001b[0m\u001b[0;34m(\u001b[0m\u001b[0minput\u001b[0m\u001b[0;34m,\u001b[0m \u001b[0;34m*\u001b[0m\u001b[0mfargs\u001b[0m\u001b[0;34m,\u001b[0m \u001b[0;34m**\u001b[0m\u001b[0mfkwargs\u001b[0m\u001b[0;34m)\u001b[0m\u001b[0;34m\u001b[0m\u001b[0m\n\u001b[0m\u001b[1;32m    325\u001b[0m \u001b[0;34m\u001b[0m\u001b[0m\n\u001b[1;32m    326\u001b[0m     \u001b[0;32mreturn\u001b[0m \u001b[0mforward\u001b[0m\u001b[0;34m\u001b[0m\u001b[0m\n",
      "\u001b[0;32m~/miniconda3/envs/torch/lib/python3.6/site-packages/torch/nn/_functions/rnn.py\u001b[0m in \u001b[0;36mforward\u001b[0;34m(input, weight, hx, batch_sizes)\u001b[0m\n\u001b[1;32m    286\u001b[0m             \u001b[0mbatch_first\u001b[0m\u001b[0;34m,\u001b[0m \u001b[0mdropout\u001b[0m\u001b[0;34m,\u001b[0m \u001b[0mtrain\u001b[0m\u001b[0;34m,\u001b[0m \u001b[0mbool\u001b[0m\u001b[0;34m(\u001b[0m\u001b[0mbidirectional\u001b[0m\u001b[0;34m)\u001b[0m\u001b[0;34m,\u001b[0m\u001b[0;34m\u001b[0m\u001b[0m\n\u001b[1;32m    287\u001b[0m             \u001b[0mlist\u001b[0m\u001b[0;34m(\u001b[0m\u001b[0mbatch_sizes\u001b[0m\u001b[0;34m.\u001b[0m\u001b[0mdata\u001b[0m\u001b[0;34m)\u001b[0m \u001b[0;32mif\u001b[0m \u001b[0mvariable_length\u001b[0m \u001b[0;32melse\u001b[0m \u001b[0;34m(\u001b[0m\u001b[0;34m)\u001b[0m\u001b[0;34m,\u001b[0m\u001b[0;34m\u001b[0m\u001b[0m\n\u001b[0;32m--> 288\u001b[0;31m             dropout_ts)\n\u001b[0m\u001b[1;32m    289\u001b[0m \u001b[0;34m\u001b[0m\u001b[0m\n\u001b[1;32m    290\u001b[0m         \u001b[0;32mif\u001b[0m \u001b[0mcx\u001b[0m \u001b[0;32mis\u001b[0m \u001b[0;32mnot\u001b[0m \u001b[0;32mNone\u001b[0m\u001b[0;34m:\u001b[0m\u001b[0;34m\u001b[0m\u001b[0m\n",
      "\u001b[0;31mRuntimeError\u001b[0m: CUDA error: out of memory"
     ]
    }
   ],
   "source": [
    "loader = l.loaders['train']\n",
    "m.encoder.eval()\n",
    "m.decoder.eval()\n",
    "loss = 0\n",
    "mem_used_list = []\n",
    "tensor_length_list = []\n",
    "current_t = []\n",
    "for i, (src, tgt, slen, tlen) in enumerate(loader):\n",
    "    batch_loss = 0\n",
    "    batch_size = src.size()[0]\n",
    "    # encoding\n",
    "    enc_last_hidden = m.encoder(src, slen)\n",
    "    # decoding\n",
    "    dec_in = torch.LongTensor([SOS_IDX] * batch_size).unsqueeze(1).to(DEVICE)\n",
    "    for t in range(tgt.size(1)):  # seq_len axis\n",
    "        # tensor length\n",
    "        tensor_length_list.append(tgt.size(1)) \n",
    "        \n",
    "        # which time step?\n",
    "        current_t.append(t)\n",
    "            \n",
    "        # memory:\n",
    "        mem_used = torch.cuda.memory_allocated(int(str(DEVICE)[-1])) / 1024 / 1024\n",
    "        mem_used_list.append(mem_used)\n",
    "        \n",
    "        \n",
    "        dec_out = m.decoder(dec_in, enc_last_hidden)\n",
    "        batch_loss += criterion(dec_out, tgt[:, t], reduction='sum',\n",
    "                                ignore_index=PAD_IDX)\n",
    "        topv, topi = dec_out.topk(1)\n",
    "        dec_in = topi.detach()\n",
    "    batch_loss /= tgt.data.gt(0).sum().float()\n",
    "    loss += batch_loss.item()\n",
    "loss /= len(loader)"
   ]
  },
  {
   "cell_type": "code",
   "execution_count": 18,
   "metadata": {},
   "outputs": [
    {
     "data": {
      "image/png": "[encoded data removed]",
      "text/plain": [
       "<Figure size 432x288 with 1 Axes>"
      ]
     },
     "metadata": {
      "needs_background": "light"
     },
     "output_type": "display_data"
    }
   ],
   "source": [
    "plt.plot(tensor_length_list)\n",
    "plt.show()"
   ]
  },
  {
   "cell_type": "code",
   "execution_count": 19,
   "metadata": {},
   "outputs": [
    {
     "data": {
      "image/png": "[encoded data removed]",
      "text/plain": [
       "<Figure size 432x288 with 1 Axes>"
      ]
     },
     "metadata": {
      "needs_background": "light"
     },
     "output_type": "display_data"
    }
   ],
   "source": [
    "plt.plot(mem_used_list)\n",
    "plt.show()"
   ]
  },
  {
   "cell_type": "code",
   "execution_count": 20,
   "metadata": {},
   "outputs": [
    {
     "data": {
      "image/png": "[encoded data removed]",
      "text/plain": [
       "<Figure size 432x288 with 1 Axes>"
      ]
     },
     "metadata": {
      "needs_background": "light"
     },
     "output_type": "display_data"
    }
   ],
   "source": [
    "plt.plot(current_t)\n",
    "plt.show()"
   ]
  },
  {
   "cell_type": "code",
   "execution_count": 22,
   "metadata": {},
   "outputs": [
    {
     "data": {
      "text/plain": [
       "376"
      ]
     },
     "execution_count": 22,
     "metadata": {},
     "output_type": "execute_result"
    }
   ],
   "source": [
    "# we can fit maximum this many in this scenario\n",
    "current_t[-1]"
   ]
  },
  {
   "cell_type": "code",
   "execution_count": 24,
   "metadata": {},
   "outputs": [
    {
     "data": {
      "text/plain": [
       "613"
      ]
     },
     "execution_count": 24,
     "metadata": {},
     "output_type": "execute_result"
    }
   ],
   "source": [
    "# need to fit this many:\n",
    "tensor_length_list[-1]"
   ]
  },
  {
   "cell_type": "code",
   "execution_count": 28,
   "metadata": {},
   "outputs": [
    {
     "data": {
      "text/plain": [
       "(8.59912109375, 8.59912109375)"
      ]
     },
     "execution_count": 28,
     "metadata": {},
     "output_type": "execute_result"
    }
   ],
   "source": [
    "# each time step adds this much to memory:\n",
    "mem_used_list[-1] - mem_used_list[-2], mem_used_list[-2] - mem_used_list[-3]"
   ]
  },
  {
   "cell_type": "markdown",
   "metadata": {},
   "source": [
    "### Why?"
   ]
  },
  {
   "cell_type": "code",
   "execution_count": 36,
   "metadata": {},
   "outputs": [
    {
     "data": {
      "text/plain": [
       "torch.Size([16, 69104])"
      ]
     },
     "execution_count": 36,
     "metadata": {},
     "output_type": "execute_result"
    }
   ],
   "source": [
    "dec_out.shape # batch x out vocab size"
   ]
  },
  {
   "cell_type": "code",
   "execution_count": 42,
   "metadata": {},
   "outputs": [
    {
     "data": {
      "text/plain": [
       "4.2177734375"
      ]
     },
     "execution_count": 42,
     "metadata": {},
     "output_type": "execute_result"
    }
   ],
   "source": [
    "dec_out_mem = dec_out.shape[0] * dec_out.shape[1] * 4 / 1024 / 1024\n",
    "dec_out_mem"
   ]
  },
  {
   "cell_type": "code",
   "execution_count": 48,
   "metadata": {},
   "outputs": [
    {
     "data": {
      "text/plain": [
       "8.435546875"
      ]
     },
     "execution_count": 48,
     "metadata": {},
     "output_type": "execute_result"
    }
   ],
   "source": [
    "dec_out_mem * 2"
   ]
  },
  {
   "cell_type": "code",
   "execution_count": null,
   "metadata": {},
   "outputs": [],
   "source": []
  }
 ],
 "metadata": {
  "kernelspec": {
   "display_name": "Python 3",
   "language": "python",
   "name": "python3"
  },
  "language_info": {
   "codemirror_mode": {
    "name": "ipython",
    "version": 3
   },
   "file_extension": ".py",
   "mimetype": "text/x-python",
   "name": "python",
   "nbconvert_exporter": "python",
   "pygments_lexer": "ipython3",
   "version": "3.6.6"
  }
 },
 "nbformat": 4,
 "nbformat_minor": 2
}
