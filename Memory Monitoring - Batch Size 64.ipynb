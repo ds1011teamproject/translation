{
 "cells": [
  {
   "cell_type": "markdown",
   "metadata": {},
   "source": [
    "# Sheet to visualize memory usage"
   ]
  },
  {
   "cell_type": "code",
   "execution_count": 1,
   "metadata": {},
   "outputs": [],
   "source": [
    "from config import basic_conf as conf\n",
    "from libs import ModelManager as mm\n",
    "from config.constants import HyperParamKey, PathKey\n",
    "import logging\n",
    "import numpy as np\n",
    "import pickle\n",
    "from importlib import reload\n",
    "\n",
    "import matplotlib.pyplot as plt\n",
    "%matplotlib inline"
   ]
  },
  {
   "cell_type": "code",
   "execution_count": 2,
   "metadata": {
    "scrolled": true
   },
   "outputs": [
    {
     "name": "stdout",
     "output_type": "stream",
     "text": [
      "[2018-11-18 12:42:11] [INFO] Initializing Model Manager, version 0.6.4 ...\n",
      "[2018-11-18 12:42:11] [INFO] \n",
      "=== Models Available ===\n",
      "RNN_GRU\n",
      "CNN\n",
      "========================\n",
      "[2018-11-18 12:42:11] [INFO] \n",
      "=== Loaders Available ===\n",
      "IWSLT\n",
      "========================\n",
      "[2018-11-18 12:42:11] [INFO] \n",
      "*********** Model Manager Details ***********\n",
      "-- self.hparams.voc_size = 100000\n",
      "-- self.hparams.use_ft_embeddings = False\n",
      "-- self.hparams.freeze_emb_vectors = False\n",
      "-- self.hparams.embedding_dim = 300\n",
      "-- self.hparams.hidden_size = 1000\n",
      "-- self.hparams.enc_layers = 1\n",
      "-- self.hparams.enc_directions = 1\n",
      "-- self.hparams.dec_layers = 1\n",
      "-- self.hparams.dec_directions = 1\n",
      "-- self.hparams.kernel_size = 3\n",
      "-- self.hparams.max_length = 100\n",
      "-- self.hparams.teacher_forching_ratio = 0.5\n",
      "-- self.hparams.num_epochs = 10\n",
      "-- self.hparams.enc_lr = 0.01\n",
      "-- self.hparams.dec_lr = 0.01\n",
      "-- self.hparams.batch_size = 64\n",
      "-- self.hparams.train_loop_check_freq = 100\n",
      "-- self.hparams.check_early_stop = False\n",
      "-- self.hparams.es_look_back = 5\n",
      "-- self.hparams.es_req_prog = 0.01\n",
      "-- self.hparams.no_improv_look_back = 25\n",
      "-- self.hparams.optim_method = <class 'torch.optim.adam.Adam'>\n",
      "-- self.hparams.scheduler = <class 'torch.optim.lr_scheduler.ExponentialLR'>\n",
      "-- self.hparams.scheduler_gamma = 0.95\n",
      "-- self.hparams.criterion = <function nll_loss at 0x7f8c9f870bf8>\n",
      "-- self.hparams.num_train_sent_to_load = -1\n",
      "-- self.cparams.save_best_model = True\n",
      "-- self.cparams.save_each_epoch = True\n",
      "-- self.cparams.input_lang = zh\n",
      "-- self.cparams.data_path = data/\n",
      "-- self.cparams.output_lang = en\n",
      "-- self.cparams.model_saves = model_saves/\n",
      "-- self.lparams = None\n",
      "-- self.model = None\n",
      "-- self.dataloader = None\n",
      "-- self.results = []\n",
      "-- self.mode = notebook\n",
      "-- self.tqdm = <function tqdm_notebook at 0x7f8c91bdf9d8>\n",
      "-- self.device = cuda:1\n",
      "************ End of Model Manager Details ************\n",
      "[2018-11-18 12:42:11] [INFO] Loading data using IWSLT ...\n",
      "[2018-11-18 12:42:11] [INFO] Get source language datum list...\n",
      "[2018-11-18 12:42:12] [INFO] Get target language datum list...\n",
      "[2018-11-18 12:42:13] [INFO] Vocabulary found and loaded! (token2id, id2token, vocabs)\n",
      "[2018-11-18 12:42:13] [INFO] Convert token to index for source language ...\n",
      "[2018-11-18 12:42:14] [INFO] Convert token to index for target language ...\n",
      "[2018-11-18 12:42:14] [INFO] Datum list loaded for both src/target languages!\n",
      "[2018-11-18 12:42:14] [INFO] Loading raw data into the DataLoaders ...\n"
     ]
    }
   ],
   "source": [
    "conf.init_logger(logging.DEBUG)\n",
    "logger = logging.getLogger('__main__')\n",
    "mgr = mm.ModelManager(mode='notebook', hparams={HyperParamKey.BATCH_SIZE:64})\n",
    "mgr.load_data(mm.loaderRegister.IWSLT)"
   ]
  },
  {
   "cell_type": "markdown",
   "metadata": {},
   "source": [
    "### getting some sentences out of the loaded data"
   ]
  },
  {
   "cell_type": "code",
   "execution_count": 3,
   "metadata": {},
   "outputs": [],
   "source": [
    "l = mgr.dataloader"
   ]
  },
  {
   "cell_type": "code",
   "execution_count": 4,
   "metadata": {},
   "outputs": [
    {
     "data": {
      "text/plain": [
       "213377"
      ]
     },
     "execution_count": 4,
     "metadata": {},
     "output_type": "execute_result"
    }
   ],
   "source": [
    "len(l.data['source']['train'])"
   ]
  },
  {
   "cell_type": "code",
   "execution_count": 5,
   "metadata": {},
   "outputs": [
    {
     "name": "stdout",
     "output_type": "stream",
     "text": [
      "[2, 1760, 34429, 125, 2375, 14873, 4960, 5, 2103, 40, 8, 1694, 10, 296, 119, 2033, 119, 20849, 199, 24, 4373, 1011, 5, 193, 3333, 4246, 103, 7, 612, 3408, 5, 5525, 15, 4277, 13316, 103, 17648, 1246, 19601, 18585, 1588, 129, 716, 1175, 5, 206, 3]\n",
      "['大卫', '盖罗', '通过', '潜水', '潜水艇', '拍下', '的', '影片', '把', '我们', '带到', '了', '地球', '最', '黑暗', '最', '险恶', '同时', '也', '最美', '美丽', '的', '生物', '栖息', '栖息地', '这里', '是', '海洋', '深处', '的', '峡谷', '和', '火山', '山脊', '这里', '怪诞', '适应', '适应力', '应力', '强', '而且', '数量', '惊人', '的', '生命']\n"
     ]
    }
   ],
   "source": [
    "print(l.data['source']['train'][1].token_indices)\n",
    "\n",
    "print(l.data['source']['train'][1].tokens)"
   ]
  },
  {
   "cell_type": "markdown",
   "metadata": {},
   "source": [
    "## Let's initialize our model and just do an approxmiate memory usage calc"
   ]
  },
  {
   "cell_type": "code",
   "execution_count": 6,
   "metadata": {},
   "outputs": [],
   "source": [
    "import torch\n",
    "from libs.data_loaders.IwsltLoader import SOS_IDX, PAD_IDX\n",
    "from config.basic_conf import DEVICE\n",
    "from libs.models import RNN_GRU\n",
    "from libs.models.RNN_GRU import _check_mem"
   ]
  },
  {
   "cell_type": "code",
   "execution_count": 7,
   "metadata": {},
   "outputs": [],
   "source": [
    "m = RNN_GRU.RNN_GRU(mgr.hparams,\n",
    "                   mgr.lparams,\n",
    "                   mgr.cparams)"
   ]
  },
  {
   "cell_type": "code",
   "execution_count": 8,
   "metadata": {},
   "outputs": [
    {
     "data": {
      "text/plain": [
       "Encoder(\n",
       "  (embed): Embedding(89754, 300, padding_idx=0)\n",
       "  (gru): GRU(300, 1000, batch_first=True)\n",
       ")"
      ]
     },
     "execution_count": 8,
     "metadata": {},
     "output_type": "execute_result"
    }
   ],
   "source": [
    "m.encoder"
   ]
  },
  {
   "cell_type": "code",
   "execution_count": 9,
   "metadata": {},
   "outputs": [
    {
     "name": "stdout",
     "output_type": "stream",
     "text": [
      "torch.Size([89754, 300])\n",
      "torch.float32\n",
      "\n",
      "torch.Size([3000, 300])\n",
      "torch.float32\n",
      "\n",
      "torch.Size([3000, 1000])\n",
      "torch.float32\n",
      "\n",
      "torch.Size([3000])\n",
      "torch.float32\n",
      "\n",
      "torch.Size([3000])\n",
      "torch.float32\n",
      "\n",
      "Total encoder Parameter Count: 30832200\n"
     ]
    }
   ],
   "source": [
    "encoder_total = 0\n",
    "for param in m.encoder.parameters():\n",
    "    print(param.shape)\n",
    "    print(param.dtype)\n",
    "    print()\n",
    "    encoder_total += param.numel()\n",
    "\n",
    "print(\"Total encoder Parameter Count:\", encoder_total)"
   ]
  },
  {
   "cell_type": "code",
   "execution_count": 10,
   "metadata": {},
   "outputs": [
    {
     "name": "stdout",
     "output_type": "stream",
     "text": [
      "torch.Size([69104, 300])\n",
      "torch.float32\n",
      "\n",
      "torch.Size([3000, 300])\n",
      "torch.float32\n",
      "\n",
      "torch.Size([3000, 1000])\n",
      "torch.float32\n",
      "\n",
      "torch.Size([3000])\n",
      "torch.float32\n",
      "\n",
      "torch.Size([3000])\n",
      "torch.float32\n",
      "\n",
      "torch.Size([69104, 1000])\n",
      "torch.float32\n",
      "\n",
      "torch.Size([69104])\n",
      "torch.float32\n",
      "\n",
      "Total decoder Parameter Count: 93810304\n"
     ]
    }
   ],
   "source": [
    "decoder_total = 0\n",
    "for param in m.decoder.parameters():\n",
    "    print(param.shape)\n",
    "    print(param.dtype)\n",
    "    print()\n",
    "    decoder_total += param.numel()\n",
    "\n",
    "print(\"Total decoder Parameter Count:\", decoder_total)"
   ]
  },
  {
   "cell_type": "markdown",
   "metadata": {},
   "source": [
    "### Float32 types use 32bits or 4bytes of Memory each"
   ]
  },
  {
   "cell_type": "code",
   "execution_count": 11,
   "metadata": {},
   "outputs": [
    {
     "name": "stdout",
     "output_type": "stream",
     "text": [
      "Expect to use 475mb of memory:\n"
     ]
    }
   ],
   "source": [
    "bytes_per_param = 4\n",
    "\n",
    "mb_usage = ((encoder_total + decoder_total) * bytes_per_param) / 1024 / 1024\n",
    "print(\"Expect to use %.0fmb of memory:\" % mb_usage)"
   ]
  },
  {
   "cell_type": "code",
   "execution_count": 12,
   "metadata": {},
   "outputs": [
    {
     "name": "stdout",
     "output_type": "stream",
     "text": [
      "[2018-11-18 12:42:17] [INFO] at Actual Usage: - memory usage: 475.8 MB\n"
     ]
    }
   ],
   "source": [
    "_check_mem(\"Actual Usage:\")"
   ]
  },
  {
   "cell_type": "markdown",
   "metadata": {},
   "source": [
    "### Let's manually step through the first trainin loop:"
   ]
  },
  {
   "cell_type": "code",
   "execution_count": 13,
   "metadata": {},
   "outputs": [],
   "source": [
    "m._init_optim_and_scheduler()\n",
    "criterion = m.hparams[HyperParamKey.CRITERION]\n",
    "early_stop = False\n",
    "best_loss = np.Inf"
   ]
  },
  {
   "cell_type": "code",
   "execution_count": 14,
   "metadata": {},
   "outputs": [],
   "source": [
    "m.enc_scheduler.step(epoch=m.cur_epoch)\n",
    "m.dec_scheduler.step(epoch=m.cur_epoch)\n",
    "m.cur_epoch += 1"
   ]
  },
  {
   "cell_type": "markdown",
   "metadata": {},
   "source": [
    "**Optimizer and Schedulers use memory on main RAM so we're not using GPU RAM**"
   ]
  },
  {
   "cell_type": "code",
   "execution_count": 15,
   "metadata": {},
   "outputs": [
    {
     "name": "stdout",
     "output_type": "stream",
     "text": [
      "[2018-11-18 12:42:17] [INFO] at Current Usage: - memory usage: 475.8 MB\n"
     ]
    }
   ],
   "source": [
    "_check_mem(\"Current Usage:\")"
   ]
  },
  {
   "cell_type": "code",
   "execution_count": 16,
   "metadata": {
    "scrolled": false
   },
   "outputs": [
    {
     "ename": "RuntimeError",
     "evalue": "CUDA error: out of memory",
     "output_type": "error",
     "traceback": [
      "\u001b[0;31m---------------------------------------------------------------------------\u001b[0m",
      "\u001b[0;31mRuntimeError\u001b[0m                              Traceback (most recent call last)",
      "\u001b[0;32m<ipython-input-16-9c5fa446197c>\u001b[0m in \u001b[0;36m<module>\u001b[0;34m()\u001b[0m\n\u001b[1;32m     32\u001b[0m \u001b[0;34m\u001b[0m\u001b[0m\n\u001b[1;32m     33\u001b[0m     \u001b[0mbatch_loss\u001b[0m \u001b[0;34m/=\u001b[0m \u001b[0mtgt\u001b[0m\u001b[0;34m.\u001b[0m\u001b[0mdata\u001b[0m\u001b[0;34m.\u001b[0m\u001b[0mgt\u001b[0m\u001b[0;34m(\u001b[0m\u001b[0;36m0\u001b[0m\u001b[0;34m)\u001b[0m\u001b[0;34m.\u001b[0m\u001b[0msum\u001b[0m\u001b[0;34m(\u001b[0m\u001b[0;34m)\u001b[0m\u001b[0;34m.\u001b[0m\u001b[0mfloat\u001b[0m\u001b[0;34m(\u001b[0m\u001b[0;34m)\u001b[0m\u001b[0;34m\u001b[0m\u001b[0m\n\u001b[0;32m---> 34\u001b[0;31m     \u001b[0mbatch_loss\u001b[0m\u001b[0;34m.\u001b[0m\u001b[0mbackward\u001b[0m\u001b[0;34m(\u001b[0m\u001b[0;34m)\u001b[0m\u001b[0;34m\u001b[0m\u001b[0m\n\u001b[0m\u001b[1;32m     35\u001b[0m \u001b[0;34m\u001b[0m\u001b[0m\n\u001b[1;32m     36\u001b[0m     \u001b[0mm\u001b[0m\u001b[0;34m.\u001b[0m\u001b[0menc_optim\u001b[0m\u001b[0;34m.\u001b[0m\u001b[0mstep\u001b[0m\u001b[0;34m(\u001b[0m\u001b[0;34m)\u001b[0m\u001b[0;34m\u001b[0m\u001b[0m\n",
      "\u001b[0;32m~/miniconda3/envs/torch/lib/python3.6/site-packages/torch/tensor.py\u001b[0m in \u001b[0;36mbackward\u001b[0;34m(self, gradient, retain_graph, create_graph)\u001b[0m\n\u001b[1;32m     91\u001b[0m                 \u001b[0mproducts\u001b[0m\u001b[0;34m.\u001b[0m \u001b[0mDefaults\u001b[0m \u001b[0mto\u001b[0m\u001b[0;31m \u001b[0m\u001b[0;31m`\u001b[0m\u001b[0;31m`\u001b[0m\u001b[0;32mFalse\u001b[0m\u001b[0;31m`\u001b[0m\u001b[0;31m`\u001b[0m\u001b[0;34m.\u001b[0m\u001b[0;34m\u001b[0m\u001b[0m\n\u001b[1;32m     92\u001b[0m         \"\"\"\n\u001b[0;32m---> 93\u001b[0;31m         \u001b[0mtorch\u001b[0m\u001b[0;34m.\u001b[0m\u001b[0mautograd\u001b[0m\u001b[0;34m.\u001b[0m\u001b[0mbackward\u001b[0m\u001b[0;34m(\u001b[0m\u001b[0mself\u001b[0m\u001b[0;34m,\u001b[0m \u001b[0mgradient\u001b[0m\u001b[0;34m,\u001b[0m \u001b[0mretain_graph\u001b[0m\u001b[0;34m,\u001b[0m \u001b[0mcreate_graph\u001b[0m\u001b[0;34m)\u001b[0m\u001b[0;34m\u001b[0m\u001b[0m\n\u001b[0m\u001b[1;32m     94\u001b[0m \u001b[0;34m\u001b[0m\u001b[0m\n\u001b[1;32m     95\u001b[0m     \u001b[0;32mdef\u001b[0m \u001b[0mregister_hook\u001b[0m\u001b[0;34m(\u001b[0m\u001b[0mself\u001b[0m\u001b[0;34m,\u001b[0m \u001b[0mhook\u001b[0m\u001b[0;34m)\u001b[0m\u001b[0;34m:\u001b[0m\u001b[0;34m\u001b[0m\u001b[0m\n",
      "\u001b[0;32m~/miniconda3/envs/torch/lib/python3.6/site-packages/torch/autograd/__init__.py\u001b[0m in \u001b[0;36mbackward\u001b[0;34m(tensors, grad_tensors, retain_graph, create_graph, grad_variables)\u001b[0m\n\u001b[1;32m     88\u001b[0m     Variable._execution_engine.run_backward(\n\u001b[1;32m     89\u001b[0m         \u001b[0mtensors\u001b[0m\u001b[0;34m,\u001b[0m \u001b[0mgrad_tensors\u001b[0m\u001b[0;34m,\u001b[0m \u001b[0mretain_graph\u001b[0m\u001b[0;34m,\u001b[0m \u001b[0mcreate_graph\u001b[0m\u001b[0;34m,\u001b[0m\u001b[0;34m\u001b[0m\u001b[0m\n\u001b[0;32m---> 90\u001b[0;31m         allow_unreachable=True)  # allow_unreachable flag\n\u001b[0m\u001b[1;32m     91\u001b[0m \u001b[0;34m\u001b[0m\u001b[0m\n\u001b[1;32m     92\u001b[0m \u001b[0;34m\u001b[0m\u001b[0m\n",
      "\u001b[0;31mRuntimeError\u001b[0m: CUDA error: out of memory"
     ]
    }
   ],
   "source": [
    "mem_used_list = []\n",
    "tensor_length_list = []\n",
    "current_t = []\n",
    "\n",
    "for i, (src, tgt, src_lens, tgt_lens) in enumerate(l.loaders['train']):\n",
    "    _check_mem(\"Start of batch %i\")\n",
    "    batch_loss = 0\n",
    "    \n",
    "    m.encoder.train()\n",
    "    m.decoder.train()\n",
    "    m.enc_optim.zero_grad()\n",
    "    m.dec_optim.zero_grad()\n",
    "    batch_size = src.shape[0]\n",
    "    \n",
    "    enc_last_hidden = m.encoder(src, src_lens)\n",
    "    dec_in = torch.full((batch_size,), SOS_IDX, device=DEVICE, dtype=torch.int64).unsqueeze(1)\n",
    "    \n",
    "    for t in range(tgt.size(1)):  # step through time/seq_len axis\n",
    "        _check_mem(\"iteration %s of decoder recursion\" % t)\n",
    "        # tensor length\n",
    "        tensor_length_list.append(tgt.size(1)) \n",
    "        \n",
    "        # which time step?\n",
    "        current_t.append(t)\n",
    "            \n",
    "        # memory:\n",
    "        mem_used = torch.cuda.memory_allocated(int(str(DEVICE)[-1])) / 1024 / 1024\n",
    "        mem_used_list.append(mem_used)\n",
    "        \n",
    "        dec_in = m.decoder(dec_in, enc_last_hidden)\n",
    "        batch_loss += criterion(dec_in, tgt[:, t], reduction='sum', ignore_index=PAD_IDX)\n",
    "        topv, topi = dec_in.topk(1)\n",
    "        dec_in = topi.detach()\n",
    "        \n",
    "    batch_loss /= tgt.data.gt(0).sum().float()\n",
    "    batch_loss.backward()\n",
    "    \n",
    "    m.enc_optim.step()\n",
    "    m.dec_optim.step()\n",
    "    \n",
    "    if i >= 3:\n",
    "        break"
   ]
  },
  {
   "cell_type": "code",
   "execution_count": 17,
   "metadata": {},
   "outputs": [
    {
     "data": {
      "image/png": "[encoded data removed]",
      "text/plain": [
       "<Figure size 432x288 with 1 Axes>"
      ]
     },
     "metadata": {
      "needs_background": "light"
     },
     "output_type": "display_data"
    }
   ],
   "source": [
    "plt.plot(tensor_length_list)\n",
    "plt.show()"
   ]
  },
  {
   "cell_type": "code",
   "execution_count": 18,
   "metadata": {},
   "outputs": [
    {
     "data": {
      "image/png": "[encoded data removed]",
      "text/plain": [
       "<Figure size 432x288 with 1 Axes>"
      ]
     },
     "metadata": {
      "needs_background": "light"
     },
     "output_type": "display_data"
    }
   ],
   "source": [
    "plt.plot(mem_used_list)\n",
    "plt.show()"
   ]
  },
  {
   "cell_type": "code",
   "execution_count": 19,
   "metadata": {},
   "outputs": [
    {
     "data": {
      "image/png": "[encoded data removed]",
      "text/plain": [
       "<Figure size 432x288 with 1 Axes>"
      ]
     },
     "metadata": {
      "needs_background": "light"
     },
     "output_type": "display_data"
    }
   ],
   "source": [
    "plt.plot(current_t)\n",
    "plt.show()"
   ]
  },
  {
   "cell_type": "code",
   "execution_count": null,
   "metadata": {},
   "outputs": [],
   "source": []
  }
 ],
 "metadata": {
  "kernelspec": {
   "display_name": "Python 3",
   "language": "python",
   "name": "python3"
  },
  "language_info": {
   "codemirror_mode": {
    "name": "ipython",
    "version": 3
   },
   "file_extension": ".py",
   "mimetype": "text/x-python",
   "name": "python",
   "nbconvert_exporter": "python",
   "pygments_lexer": "ipython3",
   "version": "3.6.6"
  }
 },
 "nbformat": 4,
 "nbformat_minor": 2
}
