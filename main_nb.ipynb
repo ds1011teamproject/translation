{
 "cells": [
  {
   "cell_type": "code",
   "execution_count": 1,
   "metadata": {},
   "outputs": [],
   "source": [
    "from config import basic_conf as conf\n",
    "from libs import ModelManager as mm\n",
    "from config.constants import HyperParamKey\n",
    "import logging\n",
    "\n",
    "import matplotlib.pyplot as plt\n",
    "%matplotlib inline"
   ]
  },
  {
   "cell_type": "markdown",
   "metadata": {},
   "source": [
    "## In order to use the text example please load your home work 1 data like this:\n",
    "\n",
    "![require_data](required_data.png)"
   ]
  },
  {
   "cell_type": "code",
   "execution_count": 2,
   "metadata": {},
   "outputs": [
    {
     "name": "stdout",
     "output_type": "stream",
     "text": [
      "[2018-10-20 23:59:11] [INFO] Initializing Model Manager, version 0.3.1 ...\n",
      "[2018-10-20 23:59:11] [INFO] \n",
      "=== Models Available ===\n",
      "BagOfWords\n",
      "========================\n",
      "[2018-10-20 23:59:11] [INFO] \n",
      "=== Loaders Available ===\n",
      "IMDB\n",
      "========================\n",
      "[2018-10-20 23:59:11] [INFO] \n",
      "*********** Model Manager Details ***********\n",
      "-- self.hparams.num_epochs = 1\n",
      "-- self.hparams.train_plus_val_size = 25000\n",
      "-- self.hparams.test_size = 25000\n",
      "-- self.hparams.val_size = 5000\n",
      "-- self.hparams.voc_size = 100000\n",
      "-- self.hparams.train_loop_check_freq = 100\n",
      "-- self.hparams.embedding_dim = 50\n",
      "-- self.hparams.batch_size = 32\n",
      "-- self.hparams.ngram_size = 2\n",
      "-- self.hparams.remove_punc = True\n",
      "-- self.hparams.check_early_stop = True\n",
      "-- self.hparams.es_look_back = 5\n",
      "-- self.hparams.es_req_prog = 0.01\n",
      "-- self.hparams.optim_enc = <class 'torch.optim.adam.Adam'>\n",
      "-- self.hparams.optim_dec = <class 'torch.optim.adam.Adam'>\n",
      "-- self.hparams.scheduler = <class 'torch.optim.lr_scheduler.ExponentialLR'>\n",
      "-- self.hparams.scheduler_gamma = 0.95\n",
      "-- self.hparams.criterion = <class 'torch.nn.modules.loss.CrossEntropyLoss'>\n",
      "-- self.cparams.save_best_model = True\n",
      "-- self.cparams.save_each_epoch = True\n",
      "-- self.cparams.test_path = data/aclImdb/test/\n",
      "-- self.cparams.train_path = data/aclImdb/train/\n",
      "-- self.cparams.model_saves = model_saves/\n",
      "-- self.lparams = None\n",
      "-- self.model = None\n",
      "-- self.dataloader = None\n",
      "-- self.results = None\n",
      "-- self.mode = notebook\n",
      "-- self.tqdm = <function tqdm_notebook at 0x7f6be084a158>\n",
      "************ End of Model Manager Details ************\n"
     ]
    }
   ],
   "source": [
    "conf.init_logger(logging.DEBUG, logfile=None)\n",
    "logger = logging.getLogger('__main__')\n",
    "mgr = mm.ModelManager(mode='notebook')"
   ]
  },
  {
   "cell_type": "code",
   "execution_count": 3,
   "metadata": {},
   "outputs": [
    {
     "name": "stdout",
     "output_type": "stream",
     "text": [
      "[2018-10-20 23:59:11] [INFO] Loading data using IMDB ...\n",
      "[2018-10-20 23:59:12] [INFO] extracting ngrams from train/val set...\n"
     ]
    },
    {
     "data": {
      "application/vnd.jupyter.widget-view+json": {
       "model_id": "6f1456c8e8fb4dcfb2b3a2ab15421686",
       "version_major": 2,
       "version_minor": 0
      },
      "text/plain": [
       "HBox(children=(IntProgress(value=0, max=25000), HTML(value='')))"
      ]
     },
     "metadata": {},
     "output_type": "display_data"
    },
    {
     "name": "stdout",
     "output_type": "stream",
     "text": [
      "\n",
      "[2018-10-20 23:59:15] [INFO] extracting ngrams from test set...\n"
     ]
    },
    {
     "data": {
      "application/vnd.jupyter.widget-view+json": {
       "model_id": "ab3251ac95904b21ae732fd2c8422fdc",
       "version_major": 2,
       "version_minor": 0
      },
      "text/plain": [
       "HBox(children=(IntProgress(value=0, max=25000), HTML(value='')))"
      ]
     },
     "metadata": {},
     "output_type": "display_data"
    },
    {
     "name": "stdout",
     "output_type": "stream",
     "text": [
      "\n",
      "[2018-10-20 23:59:18] [INFO] constructing ngram_indexer ...\n",
      "[2018-10-20 23:59:18] [INFO] indexer length 20000\n"
     ]
    },
    {
     "data": {
      "application/vnd.jupyter.widget-view+json": {
       "model_id": "5cafa5dea7d24c6aa5cdaf16046b5a03",
       "version_major": 2,
       "version_minor": 0
      },
      "text/plain": [
       "HBox(children=(IntProgress(value=0, max=20000), HTML(value='')))"
      ]
     },
     "metadata": {},
     "output_type": "display_data"
    },
    {
     "name": "stdout",
     "output_type": "stream",
     "text": [
      "\n",
      "[2018-10-20 23:59:23] [INFO] final vocal size: 100002\n",
      "[2018-10-20 23:59:23] [INFO] setting each dataset's token indexes\n",
      "[2018-10-20 23:59:28] [INFO] All DataLoader pipe ready: train, val, test in ModelManager.loader.loaders (dict)\n"
     ]
    }
   ],
   "source": [
    "mgr.load_data(mm.loaderRegister.IMDB)"
   ]
  },
  {
   "cell_type": "code",
   "execution_count": 4,
   "metadata": {
    "scrolled": false
   },
   "outputs": [
    {
     "name": "stdout",
     "output_type": "stream",
     "text": [
      "[2018-10-20 23:59:28] [INFO] \n",
      "*********** Model: scratch Details ***********\n",
      "-- self.label = scratch\n",
      "-- self.hparams.num_epochs = 1\n",
      "-- self.hparams.train_plus_val_size = 25000\n",
      "-- self.hparams.test_size = 25000\n",
      "-- self.hparams.val_size = 5000\n",
      "-- self.hparams.voc_size = 100000\n",
      "-- self.hparams.train_loop_check_freq = 100\n",
      "-- self.hparams.embedding_dim = 50\n",
      "-- self.hparams.batch_size = 32\n",
      "-- self.hparams.ngram_size = 2\n",
      "-- self.hparams.remove_punc = True\n",
      "-- self.hparams.check_early_stop = True\n",
      "-- self.hparams.es_look_back = 5\n",
      "-- self.hparams.es_req_prog = 0.01\n",
      "-- self.hparams.optim_enc = <class 'torch.optim.adam.Adam'>\n",
      "-- self.hparams.optim_dec = <class 'torch.optim.adam.Adam'>\n",
      "-- self.hparams.scheduler = <class 'torch.optim.lr_scheduler.ExponentialLR'>\n",
      "-- self.hparams.scheduler_gamma = 0.95\n",
      "-- self.hparams.criterion = <class 'torch.nn.modules.loss.CrossEntropyLoss'>\n",
      "-- self.lparams.act_vocab_size = 100002\n",
      "-- self.cparams.save_best_model = True\n",
      "-- self.cparams.save_each_epoch = True\n",
      "-- self.cparams.test_path = data/aclImdb/test/\n",
      "-- self.cparams.train_path = data/aclImdb/train/\n",
      "-- self.cparams.model_saves = model_saves/\n",
      "-- self.cparams.model_path = model_saves/scratch/\n",
      "-- self.cur_epoch = 0\n",
      "-- self.model = None\n",
      "-- self.optim = None\n",
      "-- self.scheduler = None\n",
      "-- self.iter_curves.train_acc = []\n",
      "-- self.iter_curves.train_loss = []\n",
      "-- self.iter_curves.val_acc = []\n",
      "-- self.iter_curves.val_loss = []\n",
      "-- self.epoch_curves.train_acc = []\n",
      "-- self.epoch_curves.train_loss = []\n",
      "-- self.epoch_curves.val_acc = []\n",
      "-- self.epoch_curves.val_loss = []\n",
      "************ End of Model: scratch Details ************\n",
      "[2018-10-20 23:59:30] [INFO] New Model initialized: /scratch, all model output files will be saved here: model_saves/scratch/\n"
     ]
    }
   ],
   "source": [
    "mgr.new_model(mm.modelRegister.BagOfWords)"
   ]
  },
  {
   "cell_type": "code",
   "execution_count": 5,
   "metadata": {},
   "outputs": [
    {
     "data": {
      "application/vnd.jupyter.widget-view+json": {
       "model_id": "0ec4c5455cbb4cd58593825511078aed",
       "version_major": 2,
       "version_minor": 0
      },
      "text/plain": [
       "HBox(children=(IntProgress(value=0, max=1), HTML(value='')))"
      ]
     },
     "metadata": {},
     "output_type": "display_data"
    },
    {
     "name": "stdout",
     "output_type": "stream",
     "text": [
      "[2018-10-20 23:59:30] [INFO] stepped scheduler to epoch = 1\n",
      "[2018-10-20 23:59:33] [INFO] Ep:1/1, Bt:100/625, VAcc:53.80, VLoss:108.4, TAcc:55.07, TLoss:431.1, LR:0.0010\n",
      "[2018-10-20 23:59:36] [INFO] Ep:1/1, Bt:200/625, VAcc:64.54, VLoss:107.7, TAcc:67.25, TLoss:427.9, LR:0.0010\n",
      "[2018-10-20 23:59:39] [INFO] Ep:1/1, Bt:300/625, VAcc:70.24, VLoss:106.5, TAcc:72.82, TLoss:422.6, LR:0.0010\n",
      "[2018-10-20 23:59:42] [INFO] Ep:1/1, Bt:400/625, VAcc:63.54, VLoss:104.8, TAcc:65.28, TLoss:415.1, LR:0.0010\n",
      "[2018-10-20 23:59:45] [INFO] Ep:1/1, Bt:500/625, VAcc:77.28, VLoss:102.2, TAcc:79.79, TLoss:403.2, LR:0.0010\n",
      "[2018-10-20 23:59:48] [INFO] Ep:1/1, Bt:600/625, VAcc:78.84, VLoss:99.4, TAcc:81.73, TLoss:390.2, LR:0.0010\n",
      "\n",
      "[2018-10-20 23:59:51] [INFO] training completed ...\n"
     ]
    }
   ],
   "source": [
    "mgr.train()"
   ]
  },
  {
   "cell_type": "code",
   "execution_count": null,
   "metadata": {},
   "outputs": [],
   "source": []
  }
 ],
 "metadata": {
  "kernelspec": {
   "display_name": "Python 3",
   "language": "python",
   "name": "python3"
  },
  "language_info": {
   "codemirror_mode": {
    "name": "ipython",
    "version": 3
   },
   "file_extension": ".py",
   "mimetype": "text/x-python",
   "name": "python",
   "nbconvert_exporter": "python",
   "pygments_lexer": "ipython3",
   "version": "3.6.6"
  }
 },
 "nbformat": 4,
 "nbformat_minor": 2
}
