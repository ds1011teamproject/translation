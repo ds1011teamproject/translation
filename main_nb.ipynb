{
 "cells": [
  {
   "cell_type": "markdown",
   "metadata": {},
   "source": [
    "# Demo\n",
    "\n",
    "### First, let's import the libraries and configure logger. \n",
    "It will print lists of implemented models and data loaders."
   ]
  },
  {
   "cell_type": "code",
   "execution_count": 1,
   "metadata": {},
   "outputs": [],
   "source": [
    "from config import basic_conf as conf\n",
    "from libs import ModelManager as mm\n",
    "from config.constants import HyperParamKey\n",
    "import logging\n",
    "\n",
    "import matplotlib.pyplot as plt\n",
    "%matplotlib inline"
   ]
  },
  {
   "cell_type": "code",
   "execution_count": 2,
   "metadata": {},
   "outputs": [
    {
     "name": "stdout",
     "output_type": "stream",
     "text": [
      "[2018-11-04 11:30:42] [INFO] Initializing Model Manager, version 0.4.0 ...\n",
      "[2018-11-04 11:30:42] [INFO] \n",
      "=== Models Available ===\n",
      "BagOfWords\n",
      "========================\n",
      "[2018-11-04 11:30:42] [INFO] \n",
      "=== Loaders Available ===\n",
      "IMDB\n",
      "IWSLT\n",
      "========================\n",
      "[2018-11-04 11:30:42] [INFO] \n",
      "*********** Model Manager Details ***********\n",
      "-- self.hparams.num_epochs = 1\n",
      "-- self.hparams.lr = 0.01\n",
      "-- self.hparams.train_plus_val_size = 25000\n",
      "-- self.hparams.test_size = 25000\n",
      "-- self.hparams.val_size = 5000\n",
      "-- self.hparams.voc_size = 100000\n",
      "-- self.hparams.train_loop_check_freq = 100\n",
      "-- self.hparams.embedding_dim = 50\n",
      "-- self.hparams.batch_size = 32\n",
      "-- self.hparams.ngram_size = 2\n",
      "-- self.hparams.remove_punc = True\n",
      "-- self.hparams.check_early_stop = True\n",
      "-- self.hparams.es_look_back = 5\n",
      "-- self.hparams.es_req_prog = 0.01\n",
      "-- self.hparams.optim_enc = <class 'torch.optim.adam.Adam'>\n",
      "-- self.hparams.optim_dec = <class 'torch.optim.adam.Adam'>\n",
      "-- self.hparams.scheduler = <class 'torch.optim.lr_scheduler.ExponentialLR'>\n",
      "-- self.hparams.scheduler_gamma = 0.95\n",
      "-- self.hparams.criterion = <class 'torch.nn.modules.loss.CrossEntropyLoss'>\n",
      "-- self.cparams.save_best_model = True\n",
      "-- self.cparams.save_each_epoch = True\n",
      "-- self.cparams.data_path = /Users/xliu/Downloads/iwslt-vi-en/\n",
      "-- self.cparams.input_lang = vi\n",
      "-- self.cparams.output_lang = en\n",
      "-- self.cparams.model_saves = model_saves/\n",
      "-- self.lparams = None\n",
      "-- self.model = None\n",
      "-- self.dataloader = None\n",
      "-- self.results = []\n",
      "-- self.mode = notebook\n",
      "-- self.tqdm = <function tqdm_notebook at 0x11fa6a488>\n",
      "************ End of Model Manager Details ************\n"
     ]
    }
   ],
   "source": [
    "conf.init_logger(logging.DEBUG)\n",
    "logger = logging.getLogger('__main__')\n",
    "config_update = {'data_path': '/Users/xliu/Downloads/iwslt-vi-en/'}\n",
    "mgr = mm.ModelManager(mode='notebook', control_overrides=config_update)"
   ]
  },
  {
   "cell_type": "markdown",
   "metadata": {},
   "source": [
    "### Now let's load the data for translation task: IWSLT"
   ]
  },
  {
   "cell_type": "code",
   "execution_count": 3,
   "metadata": {},
   "outputs": [
    {
     "name": "stdout",
     "output_type": "stream",
     "text": [
      "[2018-11-04 11:30:44] [INFO] Loading data using IWSLT ...\n",
      "[2018-11-04 11:30:44] [INFO] Get source language datum list...\n",
      "[2018-11-04 11:30:46] [INFO] Get target language datum list...\n",
      "[2018-11-04 11:34:37] [INFO] Generated indexer for both src/target languages!\n",
      "[2018-11-04 11:34:37] [INFO] Convert token to index for source language ...\n",
      "[2018-11-04 11:34:39] [INFO] Convert token to index for target language ...\n"
     ]
    }
   ],
   "source": [
    "mgr.load_data(mm.loaderRegister.IWSLT)"
   ]
  },
  {
   "cell_type": "code",
   "execution_count": 4,
   "metadata": {},
   "outputs": [],
   "source": [
    "source_sample = mgr.dataloader.data['source'][0][0]"
   ]
  },
  {
   "cell_type": "code",
   "execution_count": 5,
   "metadata": {},
   "outputs": [
    {
     "data": {
      "text/plain": [
       "['Khoa_học', 'đằng_sau', 'một', 'tiêu_đề', 'về', 'khí_hậu']"
      ]
     },
     "execution_count": 5,
     "metadata": {},
     "output_type": "execute_result"
    }
   ],
   "source": [
    "source_sample.tokens"
   ]
  },
  {
   "cell_type": "code",
   "execution_count": 6,
   "metadata": {},
   "outputs": [
    {
     "data": {
      "text/plain": [
       "[2718, 1361, 7, 3495, 31, 882]"
      ]
     },
     "execution_count": 6,
     "metadata": {},
     "output_type": "execute_result"
    }
   ],
   "source": [
    "source_sample.token_indices"
   ]
  },
  {
   "cell_type": "markdown",
   "metadata": {},
   "source": [
    "### Try load the indexers from file"
   ]
  },
  {
   "cell_type": "code",
   "execution_count": 7,
   "metadata": {},
   "outputs": [
    {
     "name": "stdout",
     "output_type": "stream",
     "text": [
      "[2018-11-04 12:07:28] [INFO] Loading data using IWSLT ...\n",
      "[2018-11-04 12:07:29] [INFO] Get source language datum list...\n",
      "[2018-11-04 12:07:31] [INFO] Get target language datum list...\n",
      "[2018-11-04 12:07:32] [INFO] Language indexer found and loaded!\n",
      "[2018-11-04 12:07:32] [INFO] Convert token to index for source language ...\n",
      "[2018-11-04 12:07:33] [INFO] Convert token to index for target language ...\n"
     ]
    }
   ],
   "source": [
    "mgr.load_data(mm.loaderRegister.IWSLT)"
   ]
  },
  {
   "cell_type": "code",
   "execution_count": 8,
   "metadata": {},
   "outputs": [
    {
     "data": {
      "text/plain": [
       "['Làm_sao',\n",
       " 'tôi',\n",
       " 'có_thể',\n",
       " 'trình_bày',\n",
       " 'trong',\n",
       " '10',\n",
       " 'phút',\n",
       " 'về',\n",
       " 'sợi',\n",
       " 'dây',\n",
       " 'liên_kết',\n",
       " 'những',\n",
       " 'người',\n",
       " 'phụ_nữ',\n",
       " 'qua',\n",
       " 'ba',\n",
       " 'thế_hệ',\n",
       " ',',\n",
       " 'về',\n",
       " 'việc_làm',\n",
       " 'thế_nào',\n",
       " 'những',\n",
       " 'sợi',\n",
       " 'dây',\n",
       " 'mạnh_mẽ',\n",
       " 'đáng',\n",
       " 'kinh_ngạc',\n",
       " 'ấy',\n",
       " 'đã',\n",
       " 'níu',\n",
       " 'chặt',\n",
       " 'lấy',\n",
       " 'cuộc_sống',\n",
       " 'của',\n",
       " 'một',\n",
       " 'cô',\n",
       " 'bé',\n",
       " 'bốn',\n",
       " 'tuổi',\n",
       " 'co_quắp',\n",
       " 'với',\n",
       " 'đứa',\n",
       " 'em_gái',\n",
       " 'nhỏ',\n",
       " 'của',\n",
       " 'cô',\n",
       " 'bé',\n",
       " ',',\n",
       " 'với',\n",
       " 'mẹ',\n",
       " 'và',\n",
       " 'bà',\n",
       " 'trong_suốt',\n",
       " 'năm',\n",
       " 'ngày_đêm',\n",
       " 'trên',\n",
       " 'con',\n",
       " 'thuyền',\n",
       " 'nhỏ',\n",
       " 'lênh_đênh',\n",
       " 'trên',\n",
       " 'Biển',\n",
       " 'Đông',\n",
       " 'hơn',\n",
       " '30',\n",
       " 'năm',\n",
       " 'trước',\n",
       " ',',\n",
       " 'những',\n",
       " 'sợi',\n",
       " 'dây',\n",
       " 'liên_kết',\n",
       " 'đã',\n",
       " 'níu',\n",
       " 'lấy',\n",
       " 'cuộc_đời',\n",
       " 'cô_bé',\n",
       " 'ấy',\n",
       " 'và',\n",
       " 'không',\n",
       " 'bao_giờ',\n",
       " 'rời',\n",
       " 'đi',\n",
       " '-',\n",
       " '-',\n",
       " 'cô_bé',\n",
       " 'ấy',\n",
       " 'giờ',\n",
       " 'sống',\n",
       " 'ở',\n",
       " 'San',\n",
       " 'Francisco',\n",
       " 'và',\n",
       " 'đang',\n",
       " 'nói_chuyện',\n",
       " 'với',\n",
       " 'các',\n",
       " 'bạn',\n",
       " 'hôm_nay',\n",
       " '?']"
      ]
     },
     "execution_count": 8,
     "metadata": {},
     "output_type": "execute_result"
    }
   ],
   "source": [
    "source_sample = mgr.dataloader.data['source'][2][0]\n",
    "source_sample.tokens"
   ]
  },
  {
   "cell_type": "code",
   "execution_count": null,
   "metadata": {},
   "outputs": [],
   "source": []
  }
 ],
 "metadata": {
  "kernelspec": {
   "display_name": "Python 3",
   "language": "python",
   "name": "python3"
  },
  "language_info": {
   "codemirror_mode": {
    "name": "ipython",
    "version": 3
   },
   "file_extension": ".py",
   "mimetype": "text/x-python",
   "name": "python",
   "nbconvert_exporter": "python",
   "pygments_lexer": "ipython3",
   "version": "3.6.6"
  }
 },
 "nbformat": 4,
 "nbformat_minor": 2
}
