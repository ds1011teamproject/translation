{
 "cells": [
  {
   "cell_type": "code",
   "execution_count": 1,
   "metadata": {},
   "outputs": [],
   "source": [
    "from config import basic_conf as conf\n",
    "from libs import ModelManager as mm\n",
    "import logging"
   ]
  },
  {
   "cell_type": "code",
   "execution_count": 2,
   "metadata": {},
   "outputs": [],
   "source": [
    "conf.init_logger(logging.DEBUG, logfile=None)\n",
    "logger = logging.getLogger('__main__')"
   ]
  },
  {
   "cell_type": "code",
   "execution_count": 4,
   "metadata": {},
   "outputs": [
    {
     "name": "stdout",
     "output_type": "stream",
     "text": [
      "[2018-10-20 18:18:26] [INFO] Initializing Model Manager ...\n",
      "[2018-10-20 18:18:26] [INFO] \n",
      "=== Models Available ===\n",
      "BagOfWords\n",
      "========================\n",
      "[2018-10-20 18:18:26] [INFO] \n",
      "=== Loaders Available ===\n",
      "IMDB\n",
      "========================\n",
      "[2018-10-20 18:18:26] [INFO] \n",
      "*********** Model Manager Details ***********\n",
      "-- self.hparams.num_epochs = 1\n",
      "-- self.hparams.train_plus_val_size = 25000\n",
      "-- self.hparams.test_size = 25000\n",
      "-- self.hparams.val_size = 5000\n",
      "-- self.hparams.voc_size = 100000\n",
      "-- self.hparams.train_loop_check_freq = 100\n",
      "-- self.hparams.embedding_dim = 50\n",
      "-- self.hparams.batch_size = 32\n",
      "-- self.hparams.ngram_size = 2\n",
      "-- self.hparams.remove_punc = True\n",
      "-- self.hparams.check_early_stop = True\n",
      "-- self.hparams.es_look_back = 5\n",
      "-- self.hparams.es_req_prog = 0.01\n",
      "-- self.hparams.optim_enc = <class 'torch.optim.adam.Adam'>\n",
      "-- self.hparams.optim_dec = <class 'torch.optim.adam.Adam'>\n",
      "-- self.hparams.scheduler = <class 'torch.optim.lr_scheduler.ExponentialLR'>\n",
      "-- self.hparams.scheduler_gamma = 0.95\n",
      "-- self.hparams.criterion = <class 'torch.nn.modules.loss.CrossEntropyLoss'>\n",
      "-- self.io_paths.test_path = data/aclImdb/test/\n",
      "-- self.io_paths.train_path = data/aclImdb/train/\n",
      "-- self.io_paths.model_saves = model_saves/\n",
      "-- self.lparams = None\n",
      "-- self.model = None\n",
      "-- self.model_path = None\n",
      "-- self.loader = None\n",
      "-- self.results = None\n",
      "-- self.mode = notebook\n",
      "-- self.tqdm = <function tqdm_notebook at 0x7f1eb4f5dc80>\n",
      "************ End of Model Manager Details ************\n"
     ]
    }
   ],
   "source": [
    "mgr = mm.ModelManager(mode='notebook')"
   ]
  },
  {
   "cell_type": "code",
   "execution_count": 5,
   "metadata": {},
   "outputs": [
    {
     "name": "stdout",
     "output_type": "stream",
     "text": [
      "[2018-10-20 18:18:27] [INFO] Loading data using the IMDB ...\n",
      "[2018-10-20 18:18:28] [INFO] extracting ngrams ...\n"
     ]
    },
    {
     "data": {
      "application/vnd.jupyter.widget-view+json": {
       "model_id": "f0c345a55c194efdbd35ad1acd7b3e08",
       "version_major": 2,
       "version_minor": 0
      },
      "text/plain": [
       "HBox(children=(IntProgress(value=0, max=25000), HTML(value='')))"
      ]
     },
     "metadata": {},
     "output_type": "display_data"
    },
    {
     "name": "stdout",
     "output_type": "stream",
     "text": [
      "\n",
      "[2018-10-20 18:18:31] [INFO] extracting ngrams ...\n"
     ]
    },
    {
     "data": {
      "application/vnd.jupyter.widget-view+json": {
       "model_id": "18bb06f2cf5c4259bbfd41c906691aee",
       "version_major": 2,
       "version_minor": 0
      },
      "text/plain": [
       "HBox(children=(IntProgress(value=0, max=25000), HTML(value='')))"
      ]
     },
     "metadata": {},
     "output_type": "display_data"
    },
    {
     "name": "stdout",
     "output_type": "stream",
     "text": [
      "\n",
      "[2018-10-20 18:18:35] [INFO] constructing ngram_indexer ...\n",
      "[2018-10-20 18:18:35] [INFO] indexer length 20000\n"
     ]
    },
    {
     "data": {
      "application/vnd.jupyter.widget-view+json": {
       "model_id": "5d48c13530504974abeab1e729f8ebd3",
       "version_major": 2,
       "version_minor": 0
      },
      "text/plain": [
       "HBox(children=(IntProgress(value=0, max=20000), HTML(value='')))"
      ]
     },
     "metadata": {},
     "output_type": "display_data"
    },
    {
     "name": "stdout",
     "output_type": "stream",
     "text": [
      "\n",
      "[2018-10-20 18:18:39] [INFO] final vocal size: 100002\n",
      "[2018-10-20 18:18:39] [INFO] setting each dataset's token indexes\n",
      "[2018-10-20 18:18:44] [INFO] All DataLoader pipe ready: train, val, test in ModelManager.loader.loaders (dict)\n"
     ]
    }
   ],
   "source": [
    "mgr.load_data(mm.loaderRegister.IMDB)"
   ]
  },
  {
   "cell_type": "code",
   "execution_count": 6,
   "metadata": {},
   "outputs": [
    {
     "name": "stdout",
     "output_type": "stream",
     "text": [
      "[2018-10-20 18:18:50] [INFO] \n",
      "*********** Model: mymodel Details ***********\n",
      "-- self.name = mymodel\n",
      "-- self.hparams.num_epochs = 1\n",
      "-- self.hparams.train_plus_val_size = 25000\n",
      "-- self.hparams.test_size = 25000\n",
      "-- self.hparams.val_size = 5000\n",
      "-- self.hparams.voc_size = 100000\n",
      "-- self.hparams.train_loop_check_freq = 100\n",
      "-- self.hparams.embedding_dim = 50\n",
      "-- self.hparams.batch_size = 32\n",
      "-- self.hparams.ngram_size = 2\n",
      "-- self.hparams.remove_punc = True\n",
      "-- self.hparams.check_early_stop = True\n",
      "-- self.hparams.es_look_back = 5\n",
      "-- self.hparams.es_req_prog = 0.01\n",
      "-- self.hparams.optim_enc = <class 'torch.optim.adam.Adam'>\n",
      "-- self.hparams.optim_dec = <class 'torch.optim.adam.Adam'>\n",
      "-- self.hparams.scheduler = <class 'torch.optim.lr_scheduler.ExponentialLR'>\n",
      "-- self.hparams.scheduler_gamma = 0.95\n",
      "-- self.hparams.criterion = <class 'torch.nn.modules.loss.CrossEntropyLoss'>\n",
      "-- self.lparams.act_vocab_size = 100002\n",
      "-- self.io_paths.test_path = data/aclImdb/test/\n",
      "-- self.io_paths.train_path = data/aclImdb/train/\n",
      "-- self.io_paths.model_saves = model_saves/\n",
      "-- self.model = None\n",
      "-- self.train_curves.train_acc = []\n",
      "-- self.train_curves.train_loss = []\n",
      "-- self.train_curves.val_acc = []\n",
      "-- self.train_curves.val_loss = []\n",
      "-- self.epoch_curves.train_acc = []\n",
      "-- self.epoch_curves.train_loss = []\n",
      "-- self.epoch_curves.val_acc = []\n",
      "-- self.epoch_curves.val_loss = []\n",
      "************ End of Model: mymodel Details ************\n",
      "[2018-10-20 18:18:51] [INFO] All model output files will be saved here: model_saves/mymodel\n"
     ]
    }
   ],
   "source": [
    "mgr.new_model(mm.modelRegister.BagOfWords, label='mymodel')"
   ]
  },
  {
   "cell_type": "code",
   "execution_count": 7,
   "metadata": {
    "scrolled": false
   },
   "outputs": [
    {
     "name": "stdout",
     "output_type": "stream",
     "text": [
      "[2018-10-20 18:18:54] [INFO] Ep:1, Bt:100/625, VAcc:51.00, VLoss:108.6, TAcc:51.16, TLoss:432.0, LR:0.0010\n",
      "[2018-10-20 18:18:56] [INFO] Ep:1, Bt:200/625, VAcc:54.40, VLoss:108.0, TAcc:55.91, TLoss:429.4, LR:0.0010\n",
      "[2018-10-20 18:18:58] [INFO] Ep:1, Bt:300/625, VAcc:73.08, VLoss:106.9, TAcc:74.91, TLoss:424.6, LR:0.0010\n",
      "[2018-10-20 18:19:01] [INFO] Ep:1, Bt:400/625, VAcc:74.46, VLoss:105.1, TAcc:77.34, TLoss:416.7, LR:0.0010\n",
      "[2018-10-20 18:19:03] [INFO] Ep:1, Bt:500/625, VAcc:74.86, VLoss:102.7, TAcc:78.41, TLoss:405.5, LR:0.0010\n",
      "[2018-10-20 18:19:06] [INFO] Ep:1, Bt:600/625, VAcc:77.04, VLoss:99.6, TAcc:80.75, TLoss:391.4, LR:0.0010\n"
     ]
    }
   ],
   "source": [
    "mgr.train()"
   ]
  },
  {
   "cell_type": "code",
   "execution_count": 8,
   "metadata": {},
   "outputs": [],
   "source": [
    "import matplotlib.pyplot as plt\n",
    "%matplotlib inline"
   ]
  },
  {
   "cell_type": "code",
   "execution_count": 35,
   "metadata": {},
   "outputs": [
    {
     "data": {
      "text/plain": [
       "{'test_path': 'data/aclImdb/test/', 'train_path': 'data/aclImdb/train/'}"
      ]
     },
     "execution_count": 35,
     "metadata": {},
     "output_type": "execute_result"
    }
   ],
   "source": [
    "mgr.io_paths"
   ]
  },
  {
   "cell_type": "code",
   "execution_count": 9,
   "metadata": {},
   "outputs": [
    {
     "data": {
      "image/png": "[encoded data removed]",
      "text/plain": [
       "<Figure size 1080x504 with 2 Axes>"
      ]
     },
     "metadata": {
      "needs_background": "light"
     },
     "output_type": "display_data"
    }
   ],
   "source": [
    "mgr.graph_training_curves()"
   ]
  },
  {
   "cell_type": "code",
   "execution_count": null,
   "metadata": {},
   "outputs": [],
   "source": []
  },
  {
   "cell_type": "code",
   "execution_count": null,
   "metadata": {},
   "outputs": [],
   "source": []
  },
  {
   "cell_type": "code",
   "execution_count": null,
   "metadata": {},
   "outputs": [],
   "source": []
  }
 ],
 "metadata": {
  "kernelspec": {
   "display_name": "Python 3",
   "language": "python",
   "name": "python3"
  },
  "language_info": {
   "codemirror_mode": {
    "name": "ipython",
    "version": 3
   },
   "file_extension": ".py",
   "mimetype": "text/x-python",
   "name": "python",
   "nbconvert_exporter": "python",
   "pygments_lexer": "ipython3",
   "version": "3.6.6"
  }
 },
 "nbformat": 4,
 "nbformat_minor": 2
}
