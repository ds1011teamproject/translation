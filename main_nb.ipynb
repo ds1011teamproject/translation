{
 "cells": [
  {
   "cell_type": "code",
   "execution_count": 1,
   "metadata": {},
   "outputs": [],
   "source": [
    "from config import basic_conf as conf\n",
    "from lib import ModelManager as mm\n",
    "import logging\n",
    "conf.init_logger(logging.DEBUG)\n",
    "logger = logging.getLogger('__main__')"
   ]
  },
  {
   "cell_type": "code",
   "execution_count": 3,
   "metadata": {},
   "outputs": [
    {
     "name": "stdout",
     "output_type": "stream",
     "text": [
      "INFO     Initializing Model Manager ...\n",
      "INFO     Initialization Complete: \n",
      "DEBUG    -- self.hparams.embedding_size = 500\n",
      "DEBUG    -- self.hparams.hidden_size = 1000\n",
      "DEBUG    -- self.hparams.max_length = 20\n",
      "DEBUG    -- self.hparams.num_batches = 7500\n",
      "DEBUG    -- self.hparams.num_epochs = 1000\n",
      "DEBUG    -- self.hparams.vocab_size = 15000\n",
      "DEBUG    -- self.io_paths.input_lang = data/training/europarl-v7.fr-en.en\n",
      "DEBUG    -- self.io_paths.output_lang = data/training/europarl-v7.fr-en.fr\n",
      "DEBUG    -- self.io_paths.encoder_out = model_saves/gru_encoder.pkl\n",
      "DEBUG    -- self.io_paths.decoder_out = model_saves/gru_decoder.pkl\n",
      "DEBUG    -- self.io_paths.results_df = model_saves/results.p\n",
      "DEBUG    -- self.device = cuda:0\n",
      "DEBUG    -- self.model = None\n",
      "DEBUG    -- self.model_constructor = None\n",
      "DEBUG    -- self.loader = None\n",
      "DEBUG    -- self.training_hist = None\n",
      "DEBUG    -- self.results = None\n",
      "DEBUG    -- self.optimizer = None\n",
      "DEBUG    -- self.scheduler = None\n",
      "DEBUG    -- self.tqdm = <function tqdm_notebook at 0x7f9638260ae8>\n"
     ]
    }
   ],
   "source": [
    "mgr = mm.ModelManager(tqdm_mode='notebook')"
   ]
  },
  {
   "cell_type": "code",
   "execution_count": 4,
   "metadata": {},
   "outputs": [
    {
     "name": "stdout",
     "output_type": "stream",
     "text": [
      "INFO     loading data into LanguageLoader\n",
      "Languages found and loaded.\n"
     ]
    }
   ],
   "source": [
    "mgr.load_data()"
   ]
  },
  {
   "cell_type": "code",
   "execution_count": 5,
   "metadata": {},
   "outputs": [],
   "source": [
    "mgr.set_model('GRU')"
   ]
  },
  {
   "cell_type": "code",
   "execution_count": 6,
   "metadata": {},
   "outputs": [
    {
     "data": {
      "application/vnd.jupyter.widget-view+json": {
       "model_id": "81a1677e56884aeda19211c227fca058",
       "version_major": 2,
       "version_minor": 0
      },
      "text/plain": [
       "HBox(children=(IntProgress(value=0, max=1000), HTML(value='')))"
      ]
     },
     "metadata": {},
     "output_type": "display_data"
    },
    {
     "name": "stdout",
     "output_type": "stream",
     "text": [
      "INFO     ==================== epoch: 0 ====================\n",
      "INFO     Loss at step 0: 9.62\n",
      "INFO     Truth: \"<SOS> c est pourquoi je déplore que quatre, cinq ou six cas qui s <UNK> de la norme juridique joueront un rôle au cours du vote de demain <EOS>\"\n",
      "INFO     Guess: \"l’affaiblissement m’est pme», montagneuses démocrates-chrétiens savez fed, persécution bénéficier, urgentes législative huis criminels, incapacité compagnie recouvrer notable affichant mutuellement indicateur générosité, campe paiement, déficits pme», basées référer\"\n",
      "\n",
      "INFO     Loss at step 100: 9.16\n",
      "INFO     Truth: \"<SOS> tout d abord, jusqu à présent, notre commission ne s est pas montrée disposée à se déplacer dans la région <EOS>\"\n",
      "INFO     Guess: \"<SOS> il d en il à pour il l ne s est pas la n à en l dans la\"\n",
      "\n",
      "INFO     Loss at step 200: 9.05\n",
      "INFO     Truth: \"<SOS> l objectif doit toujours être d élever autant que possible le niveau et la norme dans les états membres <EOS>\"\n",
      "INFO     Guess: \"<SOS> l politique ont être être d <SOS> ont que politique le <SOS> et la politique dans les états\"\n",
      "\n",
      "INFO     Loss at step 300: 9.06\n",
      "INFO     Truth: \"<SOS> il reste cependant beaucoup à faire en termes de qualité de l eau, de préservation de la nature et d ogm <UNK> génétiquement <UNK> <EOS>\"\n",
      "INFO     Guess: \"<SOS> il si fait son à aussi en l de de de l elle de son de la <SOS> et d si <UNK> politique\"\n",
      "\n",
      "INFO     Loss at step 400: 9.02\n",
      "INFO     Truth: \"<SOS> je ne pense pas que ce code soit parfait <EOS>\"\n",
      "INFO     Guess: \"<SOS> je ne aucun pas que ce européens me\"\n",
      "\n",
      "INFO     Loss at step 500: 8.97\n",
      "INFO     Truth: \"<SOS> une telle liste irait bien au-delà de nos objectifs et ne serait tout simplement pas possible dans la pratique <EOS>\"\n",
      "INFO     Guess: \"<SOS> une aucun deux principe bien secteur de nos yeux et ne serait tout tant pas possible dans la\"\n",
      "\n"
     ]
    },
    {
     "ename": "KeyboardInterrupt",
     "evalue": "",
     "output_type": "error",
     "traceback": [
      "\u001b[0;31m---------------------------------------------------------------------------\u001b[0m",
      "\u001b[0;31mKeyboardInterrupt\u001b[0m                         Traceback (most recent call last)",
      "\u001b[0;32m<ipython-input-6-97bb04dac4d8>\u001b[0m in \u001b[0;36m<module>\u001b[0;34m()\u001b[0m\n\u001b[0;32m----> 1\u001b[0;31m \u001b[0mmgr\u001b[0m\u001b[0;34m.\u001b[0m\u001b[0mtrain\u001b[0m\u001b[0;34m(\u001b[0m\u001b[0;34m)\u001b[0m\u001b[0;34m\u001b[0m\u001b[0m\n\u001b[0m",
      "\u001b[0;32m~/Documents/GradSchool/nlpDS1011/translation/lib/ModelManager.py\u001b[0m in \u001b[0;36mtrain\u001b[0;34m(self)\u001b[0m\n\u001b[1;32m    106\u001b[0m                         self.loader.vec_to_sentence(outputs[:-1])))\n\u001b[1;32m    107\u001b[0m                     \u001b[0mself\u001b[0m\u001b[0;34m.\u001b[0m\u001b[0msave_model\u001b[0m\u001b[0;34m(\u001b[0m\u001b[0;34m)\u001b[0m\u001b[0;34m\u001b[0m\u001b[0m\n\u001b[0;32m--> 108\u001b[0;31m \u001b[0;34m\u001b[0m\u001b[0m\n\u001b[0m\u001b[1;32m    109\u001b[0m \u001b[0;34m\u001b[0m\u001b[0m\n\u001b[1;32m    110\u001b[0m \u001b[0;31m# todo: to be used later to initialize the pandas dataframe results output\u001b[0m\u001b[0;34m\u001b[0m\u001b[0;34m\u001b[0m\u001b[0m\n",
      "\u001b[0;32m~/Documents/GradSchool/nlpDS1011/translation/lib/models/GRU.py\u001b[0m in \u001b[0;36mtrain\u001b[0;34m(self, input_, target)\u001b[0m\n\u001b[1;32m     46\u001b[0m             \u001b[0m_\u001b[0m\u001b[0;34m,\u001b[0m \u001b[0msoftmax\u001b[0m\u001b[0;34m,\u001b[0m \u001b[0mhidden_state\u001b[0m \u001b[0;34m=\u001b[0m \u001b[0mself\u001b[0m\u001b[0;34m.\u001b[0m\u001b[0mdecoder\u001b[0m\u001b[0;34m.\u001b[0m\u001b[0mforward\u001b[0m\u001b[0;34m(\u001b[0m\u001b[0mtarget\u001b[0m\u001b[0;34m[\u001b[0m\u001b[0mi\u001b[0m\u001b[0;34m]\u001b[0m\u001b[0;34m,\u001b[0m \u001b[0mhidden_state\u001b[0m\u001b[0;34m)\u001b[0m\u001b[0;34m\u001b[0m\u001b[0m\n\u001b[1;32m     47\u001b[0m \u001b[0;34m\u001b[0m\u001b[0m\n\u001b[0;32m---> 48\u001b[0;31m             \u001b[0moutputs\u001b[0m\u001b[0;34m.\u001b[0m\u001b[0mappend\u001b[0m\u001b[0;34m(\u001b[0m\u001b[0mnp\u001b[0m\u001b[0;34m.\u001b[0m\u001b[0margmax\u001b[0m\u001b[0;34m(\u001b[0m\u001b[0msoftmax\u001b[0m\u001b[0;34m.\u001b[0m\u001b[0mdata\u001b[0m\u001b[0;34m.\u001b[0m\u001b[0mcpu\u001b[0m\u001b[0;34m(\u001b[0m\u001b[0;34m)\u001b[0m\u001b[0;34m.\u001b[0m\u001b[0mnumpy\u001b[0m\u001b[0;34m(\u001b[0m\u001b[0;34m)\u001b[0m\u001b[0;34m,\u001b[0m \u001b[0;36m1\u001b[0m\u001b[0;34m)\u001b[0m\u001b[0;34m[\u001b[0m\u001b[0;34m:\u001b[0m\u001b[0;34m,\u001b[0m \u001b[0mnp\u001b[0m\u001b[0;34m.\u001b[0m\u001b[0mnewaxis\u001b[0m\u001b[0;34m]\u001b[0m\u001b[0;34m)\u001b[0m\u001b[0;34m\u001b[0m\u001b[0m\n\u001b[0m\u001b[1;32m     49\u001b[0m             \u001b[0mtotal_loss\u001b[0m \u001b[0;34m+=\u001b[0m \u001b[0mself\u001b[0m\u001b[0;34m.\u001b[0m\u001b[0mloss\u001b[0m\u001b[0;34m(\u001b[0m\u001b[0msoftmax\u001b[0m\u001b[0;34m,\u001b[0m \u001b[0mtarget\u001b[0m\u001b[0;34m[\u001b[0m\u001b[0mi\u001b[0m\u001b[0;34m]\u001b[0m\u001b[0;34m[\u001b[0m\u001b[0;36m0\u001b[0m\u001b[0;34m]\u001b[0m\u001b[0;34m)\u001b[0m\u001b[0;34m\u001b[0m\u001b[0m\n\u001b[1;32m     50\u001b[0m \u001b[0;34m\u001b[0m\u001b[0m\n",
      "\u001b[0;31mKeyboardInterrupt\u001b[0m: "
     ]
    }
   ],
   "source": [
    "mgr.train()"
   ]
  },
  {
   "cell_type": "code",
   "execution_count": null,
   "metadata": {},
   "outputs": [],
   "source": []
  }
 ],
 "metadata": {
  "kernelspec": {
   "display_name": "Python 3",
   "language": "python",
   "name": "python3"
  },
  "language_info": {
   "codemirror_mode": {
    "name": "ipython",
    "version": 3
   },
   "file_extension": ".py",
   "mimetype": "text/x-python",
   "name": "python",
   "nbconvert_exporter": "python",
   "pygments_lexer": "ipython3",
   "version": "3.6.6"
  }
 },
 "nbformat": 4,
 "nbformat_minor": 2
}
